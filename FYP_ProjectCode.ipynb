{
  "cells": [
    {
      "cell_type": "markdown",
      "metadata": {
        "id": "U3wk8bgHwoap"
      },
      "source": [
        "# Creating Datasets"
      ]
    },
    {
      "cell_type": "code",
      "execution_count": null,
      "metadata": {
        "id": "oWUJx7QN5DIl"
      },
      "outputs": [],
      "source": [
        "from google.colab import drive\n",
        "drive.mount('/content/gdrive')"
      ]
    },
    {
      "cell_type": "code",
      "execution_count": null,
      "metadata": {
        "id": "ZrMfatR9xN7K"
      },
      "outputs": [],
      "source": [
        " lexical_fields = { 'inflation with economic terms': ['inflation', 'hyperinflation', 'deflation', 'stagflation', 'price index',\n",
        "                                      'monetary policy', 'purchasing power','deflationary', 'anti-inflationary', 'anti-deflationary'],\n",
        "\n",
        "    'expensive': ['Expensive', 'expensive', 'prohibitive', 'costly', 'high', 'exorbitant', 'unaffordable', 'consequential',\n",
        "                  'inaccessible', 'excessive', 'abnormal', 'expensive', 'rip-off', 'rip-off', 'ruinous', 'outrageous', 'out of reach',\n",
        "                  'roundabout', 'inconceivable', 'prohibitive'],\n",
        "\n",
        "    'cheap': ['Low', 'modest', 'advantageous','discounted', 'unbeatable', 'derisory','attractive', 'bargain', 'bargain price',\n",
        "              'attractive', 'bargain', 'affordable','reasonable', 'competitive','accessible', 'acceptable', 'normal',\n",
        "              'fair', 'interesting', 'suitable','negligible'],\n",
        "\n",
        "    'prices_costs': ['price', 'cost', 'expense', 'fee', 'charge', 'rate', 'tariff','sale', 'purchase', 'lease', 'fee',\n",
        "                     'subscription', 'bill', 'cost', 'charge', 'pay', 'rate', 'sell', 'quote', 'payment','discount'],\n",
        "\n",
        "    'statistical_institutions': ['Bureau of Labor Statistics', 'Consumer Price Index', 'Federal Reserve',\n",
        "                                  'ECB', 'central bank', 'Banque de France', 'INSEE', 'FED', 'rate', 'interest rate', 'Central Bank of Ireland',\n",
        "                                 'Bank of England', 'Bank', 'Investment Institution'],\n",
        "\n",
        "    'additional_keywords': ['economy', 'market', 'value', 'money', 'finance',]\n",
        "}"
      ]
    },
    {
      "cell_type": "code",
      "execution_count": null,
      "metadata": {
        "colab": {
          "base_uri": "https://localhost:8080/"
        },
        "id": "r0J7cQWyipWH",
        "outputId": "8ae7db54-937d-41ca-b8f0-eb79b269a5d4"
      },
      "outputs": [
        {
          "name": "stdout",
          "output_type": "stream",
          "text": [
            "Finished reading 4190001 records into list\n",
            "Processed 100000 records...\n",
            "Processed 200000 records...\n",
            "Processed 300000 records...\n",
            "Processed 400000 records...\n",
            "Processed 500000 records...\n",
            "Processed 600000 records...\n",
            "Processed 700000 records...\n",
            "Processed 800000 records...\n",
            "Processed 900000 records...\n",
            "Processed 1000000 records...\n",
            "Processed 1100000 records...\n",
            "Processed 1200000 records...\n",
            "Processed 1300000 records...\n",
            "Processed 1400000 records...\n",
            "Processed 1500000 records...\n",
            "Processed 1600000 records...\n",
            "Processed 1700000 records...\n",
            "Processed 1800000 records...\n",
            "Processed 1900000 records...\n",
            "Processed 2000000 records...\n",
            "Processed 2100000 records...\n",
            "Processed 2200000 records...\n",
            "Processed 2300000 records...\n",
            "Processed 2400000 records...\n",
            "Processed 2500000 records...\n",
            "Processed 2600000 records...\n",
            "Processed 2700000 records...\n",
            "Processed 2800000 records...\n",
            "Processed 2900000 records...\n",
            "Processed 3000000 records...\n",
            "Processed 3100000 records...\n",
            "Processed 3200000 records...\n",
            "Processed 3300000 records...\n",
            "Processed 3400000 records...\n",
            "Processed 3500000 records...\n",
            "Processed 3600000 records...\n",
            "Processed 3700000 records...\n",
            "Processed 3800000 records...\n",
            "Processed 3900000 records...\n",
            "Processed 4000000 records...\n",
            "Processed 4100000 records...\n",
            "Finished processing 4190001 records.\n",
            "Filtered dictionary with 255844 records containing keywords...\n",
            "Writing output for filtered records...\n",
            "Wrote output file - Done!\n"
          ]
        }
      ],
      "source": [
        "import os\n",
        "import json\n",
        "import gzip  # Import gzip for handling .gz (gzipped) files\n",
        "\n",
        "# The directory that contains a day's worth of files\n",
        "json_dir = '/content/gdrive/MyDrive/November 21st 2022'\n",
        "\n",
        "outfolder = 'output'\n",
        "if not os.path.exists(outfolder):\n",
        "    os.makedirs(outfolder)\n",
        "\n",
        "json_list = []  # List of lists, each sublist has 1 string element = 1 line\n",
        "\n",
        "# Flatten the 'inflation dictionary' to a list of keywords\n",
        "keywords = [keyword for sublist in lexical_fields.values() for keyword in sublist]\n",
        "\n",
        "for path, dirs, files in os.walk(json_dir):\n",
        "    for f in files:\n",
        "        if f.endswith('.json') or f.endswith('.gz'):\n",
        "            json_file = os.path.join(path, f)\n",
        "            if f.endswith('.gz'):\n",
        "                with gzip.open(json_file, 'rt', encoding='utf-8') as jf:\n",
        "                    jfile_list = list(jf)\n",
        "                    json_list.extend(jfile_list)\n",
        "            else:\n",
        "                with open(json_file, 'r', encoding='utf-8') as jf:\n",
        "                    jfile_list = list(jf)\n",
        "                    json_list.extend(jfile_list)\n",
        "\n",
        "print(\"Finished reading\", len(json_list), 'records into list')\n",
        "\n",
        "filtered_dict = {}\n",
        "i = 0\n",
        "for json_str in json_list:\n",
        "    result = json.loads(json_str)\n",
        "    tweet_text = result.get('text', '').lower()  # Get text and convert to lower case for case insensitive matching\n",
        "    if any(keyword.lower() in tweet_text for keyword in keywords):  # Check if any keyword is in the tweet\n",
        "        filtered_dict[result['id']] = result\n",
        "    i += 1\n",
        "    if i % 100000 == 0:\n",
        "        print('Processed', i, 'records...')\n",
        "\n",
        "print('Finished processing', i, 'records.')\n",
        "print('Filtered dictionary with', len(filtered_dict), 'records containing keywords...')\n",
        "\n",
        "# Define the output file name\n",
        "outfile = 'filtered_records_with_keywords_v20.json'\n",
        "\n",
        "# Construct the output path by joining the output folder and the file name\n",
        "outpath = os.path.join(outfolder, outfile)\n",
        "\n",
        "print('Writing output for filtered records...')\n",
        "with open(outpath, 'w', encoding='utf-8') as outf:\n",
        "    json.dump(filtered_dict, outf)\n",
        "\n",
        "print('Wrote output file - Done!')"
      ]
    },
    {
      "cell_type": "code",
      "execution_count": null,
      "metadata": {
        "colab": {
          "base_uri": "https://localhost:8080/"
        },
        "id": "SPyxGxkXirbr",
        "outputId": "a23b6f94-dc96-40d1-bc68-80eb5eb2f45d"
      },
      "outputs": [
        {
          "name": "stdout",
          "output_type": "stream",
          "text": [
            "Done!\n"
          ]
        }
      ],
      "source": [
        "import json, csv, os\n",
        "\n",
        "# Adjust the input file to the new filtered JSON file.\n",
        "infile = '/content/output/filtered_records_with_keywords_v20.json'\n",
        "\n",
        "# Load the JSON data directly from the infile, no need to modify the path.\n",
        "with open(infile, 'r', encoding='utf-8') as json_file:\n",
        "    twit_data = json.load(json_file)\n",
        "\n",
        "twit_list = []\n",
        "\n",
        "# Process the JSON data to extract the needed information.\n",
        "for k, v in twit_data.items():\n",
        "    tweet_id = k\n",
        "    timestamp = v.get('created_at')\n",
        "    tweet = v.get('text')\n",
        "    lang = v.get('lang')\n",
        "\n",
        "    # Adjust the record to match the information you have; note removal of geo-based fields if they're not relevant\n",
        "    record = [tweet_id, timestamp, tweet, lang,]\n",
        "    twit_list.append(record)\n",
        "\n",
        "# Specify the output filename.\n",
        "outfile = 'inflation_keywords_21st.csv'\n",
        "\n",
        "# Ensure the output directory exists before writing the file.\n",
        "output_dir = 'output'\n",
        "if not os.path.exists(output_dir):\n",
        "    os.makedirs(output_dir)\n",
        "\n",
        "outpath = os.path.join(output_dir, outfile)\n",
        "\n",
        "# Write the output CSV file.\n",
        "with open(outpath, 'w', newline='', encoding='utf-8') as writefile:\n",
        "    writer = csv.writer(writefile, quoting=csv.QUOTE_ALL, delimiter=',')\n",
        "    # Adjust the header to match the new record structure\n",
        "    header = ['tweet_id', 'timestamp', 'tweet', 'lang']\n",
        "    writer.writerow(header)\n",
        "    writer.writerows(twit_list)\n",
        "\n",
        "print('Done!')"
      ]
    },
    {
      "cell_type": "markdown",
      "metadata": {
        "id": "EZ_s3JSZw_NR"
      },
      "source": [
        "# Merging datasets"
      ]
    },
    {
      "cell_type": "code",
      "execution_count": null,
      "metadata": {
        "id": "_ZcVqUTRxSXP"
      },
      "outputs": [],
      "source": [
        "import pandas as pd\n",
        "\n",
        "# List of CSV file paths you want to combine\n",
        "file_paths = [\n",
        "    '/content/filtered_tweets_keywords_1st.csv',\n",
        "    '/content/filtered_tweets_keywords_2nd.csv',\n",
        "    '/content/filtered_tweets_keywords_3rd.csv',\n",
        "    '/content/filtered_tweets_keywords_4th.csv',\n",
        "    '/content/filtered_tweets_keywords_5th.csv',\n",
        "    '/content/filtered_tweets_keywords_6th.csv',\n",
        "    '/content/filtered_tweets_keywords_7th.csv',\n",
        "    '/content/inflation_keywords_8th.csv',\n",
        "    '/content/inflation_keywords_9th.csv',\n",
        "    '/content/inflation_keywords_10th.csv',\n",
        "    '/content/inflation_keywords_11th.csv',\n",
        "    '/content/inflation_keywords_12th.csv',\n",
        "    '/content/inflation_keywords_13th.csv',\n",
        "    '/content/inflation_keywords_14th.csv',\n",
        "    '/content/inflation_keywords_15th.csv',\n",
        "    '/content/inflation_keywords_16th.csv',\n",
        "    '/content/inflation_keywords_17th.csv',\n",
        "    '/content/inflation_keywords_18th.csv',\n",
        "    '/content/inflation_keywords_19th.csv',\n",
        "    '/content/inflation_keywords_20th.csv',\n",
        "    '/content/inflation_keywords_21st.csv',\n",
        "]\n",
        "\n",
        "# Read each CSV file into a DataFrame and store them in a list\n",
        "dfs = [pd.read_csv(file_path) for file_path in file_paths]\n",
        "\n",
        "# Concatenate all DataFrames in the list into a single DataFrame\n",
        "combined_df = pd.concat(dfs, ignore_index=True)\n",
        "\n",
        "# Combine the DataFrames to a new CSV file\n",
        "combined_df.to_csv('/content/November 2022 combined.csv', index=False)"
      ]
    },
    {
      "cell_type": "markdown",
      "metadata": {
        "id": "g3MIRPTaUr4x"
      },
      "source": [
        "# Loading Dataset"
      ]
    },
    {
      "cell_type": "code",
      "execution_count": null,
      "metadata": {
        "colab": {
          "base_uri": "https://localhost:8080/",
          "height": 241
        },
        "id": "GZCgAulTxZmz",
        "outputId": "f8c48da9-0633-4008-98ec-a756c559382e"
      },
      "outputs": [
        {
          "name": "stderr",
          "output_type": "stream",
          "text": [
            "<ipython-input-2-af021a8dd1cb>:5: DtypeWarning: Columns (0,1,2,3) have mixed types. Specify dtype option on import or set low_memory=False.\n",
            "  tweets_df = pd.read_csv(file_path)\n"
          ]
        },
        {
          "data": {
            "application/vnd.google.colaboratory.intrinsic+json": {
              "type": "dataframe",
              "variable_name": "tweets_df"
            },
            "text/html": [
              "\n",
              "  <div id=\"df-a6a158d9-1e9c-47a3-9fe4-bc73b20a8dfe\" class=\"colab-df-container\">\n",
              "    <div>\n",
              "<style scoped>\n",
              "    .dataframe tbody tr th:only-of-type {\n",
              "        vertical-align: middle;\n",
              "    }\n",
              "\n",
              "    .dataframe tbody tr th {\n",
              "        vertical-align: top;\n",
              "    }\n",
              "\n",
              "    .dataframe thead th {\n",
              "        text-align: right;\n",
              "    }\n",
              "</style>\n",
              "<table border=\"1\" class=\"dataframe\">\n",
              "  <thead>\n",
              "    <tr style=\"text-align: right;\">\n",
              "      <th></th>\n",
              "      <th>tweet_id</th>\n",
              "      <th>timestamp</th>\n",
              "      <th>tweet</th>\n",
              "      <th>lang</th>\n",
              "    </tr>\n",
              "  </thead>\n",
              "  <tbody>\n",
              "    <tr>\n",
              "      <th>0</th>\n",
              "      <td>1587593300948660224</td>\n",
              "      <td>Tue Nov 01 23:51:53 +0000 2022</td>\n",
              "      <td>@lusttforlifee__ Wadauuu</td>\n",
              "      <td>cy</td>\n",
              "    </tr>\n",
              "    <tr>\n",
              "      <th>1</th>\n",
              "      <td>1587593300969918464</td>\n",
              "      <td>Tue Nov 01 23:51:53 +0000 2022</td>\n",
              "      <td>RT @LouisTCostaRica: Estamos a 10 días de escu...</td>\n",
              "      <td>es</td>\n",
              "    </tr>\n",
              "    <tr>\n",
              "      <th>2</th>\n",
              "      <td>1587593300965560326</td>\n",
              "      <td>Tue Nov 01 23:51:53 +0000 2022</td>\n",
              "      <td>RT @hyuckbots: lee 'backbone of nct, main voca...</td>\n",
              "      <td>en</td>\n",
              "    </tr>\n",
              "    <tr>\n",
              "      <th>3</th>\n",
              "      <td>1587593300961550336</td>\n",
              "      <td>Tue Nov 01 23:51:53 +0000 2022</td>\n",
              "      <td>RT @billboardcharts: .@BTS_twt's #Jin has the ...</td>\n",
              "      <td>en</td>\n",
              "    </tr>\n",
              "    <tr>\n",
              "      <th>4</th>\n",
              "      <td>1587593300974129152</td>\n",
              "      <td>Tue Nov 01 23:51:53 +0000 2022</td>\n",
              "      <td>RT @bravepromote: $30 | 450RB | 1620 PHP \\n\\n✅...</td>\n",
              "      <td>en</td>\n",
              "    </tr>\n",
              "  </tbody>\n",
              "</table>\n",
              "</div>\n",
              "    <div class=\"colab-df-buttons\">\n",
              "\n",
              "  <div class=\"colab-df-container\">\n",
              "    <button class=\"colab-df-convert\" onclick=\"convertToInteractive('df-a6a158d9-1e9c-47a3-9fe4-bc73b20a8dfe')\"\n",
              "            title=\"Convert this dataframe to an interactive table.\"\n",
              "            style=\"display:none;\">\n",
              "\n",
              "  <svg xmlns=\"http://www.w3.org/2000/svg\" height=\"24px\" viewBox=\"0 -960 960 960\">\n",
              "    <path d=\"M120-120v-720h720v720H120Zm60-500h600v-160H180v160Zm220 220h160v-160H400v160Zm0 220h160v-160H400v160ZM180-400h160v-160H180v160Zm440 0h160v-160H620v160ZM180-180h160v-160H180v160Zm440 0h160v-160H620v160Z\"/>\n",
              "  </svg>\n",
              "    </button>\n",
              "\n",
              "  <style>\n",
              "    .colab-df-container {\n",
              "      display:flex;\n",
              "      gap: 12px;\n",
              "    }\n",
              "\n",
              "    .colab-df-convert {\n",
              "      background-color: #E8F0FE;\n",
              "      border: none;\n",
              "      border-radius: 50%;\n",
              "      cursor: pointer;\n",
              "      display: none;\n",
              "      fill: #1967D2;\n",
              "      height: 32px;\n",
              "      padding: 0 0 0 0;\n",
              "      width: 32px;\n",
              "    }\n",
              "\n",
              "    .colab-df-convert:hover {\n",
              "      background-color: #E2EBFA;\n",
              "      box-shadow: 0px 1px 2px rgba(60, 64, 67, 0.3), 0px 1px 3px 1px rgba(60, 64, 67, 0.15);\n",
              "      fill: #174EA6;\n",
              "    }\n",
              "\n",
              "    .colab-df-buttons div {\n",
              "      margin-bottom: 4px;\n",
              "    }\n",
              "\n",
              "    [theme=dark] .colab-df-convert {\n",
              "      background-color: #3B4455;\n",
              "      fill: #D2E3FC;\n",
              "    }\n",
              "\n",
              "    [theme=dark] .colab-df-convert:hover {\n",
              "      background-color: #434B5C;\n",
              "      box-shadow: 0px 1px 3px 1px rgba(0, 0, 0, 0.15);\n",
              "      filter: drop-shadow(0px 1px 2px rgba(0, 0, 0, 0.3));\n",
              "      fill: #FFFFFF;\n",
              "    }\n",
              "  </style>\n",
              "\n",
              "    <script>\n",
              "      const buttonEl =\n",
              "        document.querySelector('#df-a6a158d9-1e9c-47a3-9fe4-bc73b20a8dfe button.colab-df-convert');\n",
              "      buttonEl.style.display =\n",
              "        google.colab.kernel.accessAllowed ? 'block' : 'none';\n",
              "\n",
              "      async function convertToInteractive(key) {\n",
              "        const element = document.querySelector('#df-a6a158d9-1e9c-47a3-9fe4-bc73b20a8dfe');\n",
              "        const dataTable =\n",
              "          await google.colab.kernel.invokeFunction('convertToInteractive',\n",
              "                                                    [key], {});\n",
              "        if (!dataTable) return;\n",
              "\n",
              "        const docLinkHtml = 'Like what you see? Visit the ' +\n",
              "          '<a target=\"_blank\" href=https://colab.research.google.com/notebooks/data_table.ipynb>data table notebook</a>'\n",
              "          + ' to learn more about interactive tables.';\n",
              "        element.innerHTML = '';\n",
              "        dataTable['output_type'] = 'display_data';\n",
              "        await google.colab.output.renderOutput(dataTable, element);\n",
              "        const docLink = document.createElement('div');\n",
              "        docLink.innerHTML = docLinkHtml;\n",
              "        element.appendChild(docLink);\n",
              "      }\n",
              "    </script>\n",
              "  </div>\n",
              "\n",
              "\n",
              "<div id=\"df-616177d8-3e66-4d95-a693-9078b8bbf188\">\n",
              "  <button class=\"colab-df-quickchart\" onclick=\"quickchart('df-616177d8-3e66-4d95-a693-9078b8bbf188')\"\n",
              "            title=\"Suggest charts\"\n",
              "            style=\"display:none;\">\n",
              "\n",
              "<svg xmlns=\"http://www.w3.org/2000/svg\" height=\"24px\"viewBox=\"0 0 24 24\"\n",
              "     width=\"24px\">\n",
              "    <g>\n",
              "        <path d=\"M19 3H5c-1.1 0-2 .9-2 2v14c0 1.1.9 2 2 2h14c1.1 0 2-.9 2-2V5c0-1.1-.9-2-2-2zM9 17H7v-7h2v7zm4 0h-2V7h2v10zm4 0h-2v-4h2v4z\"/>\n",
              "    </g>\n",
              "</svg>\n",
              "  </button>\n",
              "\n",
              "<style>\n",
              "  .colab-df-quickchart {\n",
              "      --bg-color: #E8F0FE;\n",
              "      --fill-color: #1967D2;\n",
              "      --hover-bg-color: #E2EBFA;\n",
              "      --hover-fill-color: #174EA6;\n",
              "      --disabled-fill-color: #AAA;\n",
              "      --disabled-bg-color: #DDD;\n",
              "  }\n",
              "\n",
              "  [theme=dark] .colab-df-quickchart {\n",
              "      --bg-color: #3B4455;\n",
              "      --fill-color: #D2E3FC;\n",
              "      --hover-bg-color: #434B5C;\n",
              "      --hover-fill-color: #FFFFFF;\n",
              "      --disabled-bg-color: #3B4455;\n",
              "      --disabled-fill-color: #666;\n",
              "  }\n",
              "\n",
              "  .colab-df-quickchart {\n",
              "    background-color: var(--bg-color);\n",
              "    border: none;\n",
              "    border-radius: 50%;\n",
              "    cursor: pointer;\n",
              "    display: none;\n",
              "    fill: var(--fill-color);\n",
              "    height: 32px;\n",
              "    padding: 0;\n",
              "    width: 32px;\n",
              "  }\n",
              "\n",
              "  .colab-df-quickchart:hover {\n",
              "    background-color: var(--hover-bg-color);\n",
              "    box-shadow: 0 1px 2px rgba(60, 64, 67, 0.3), 0 1px 3px 1px rgba(60, 64, 67, 0.15);\n",
              "    fill: var(--button-hover-fill-color);\n",
              "  }\n",
              "\n",
              "  .colab-df-quickchart-complete:disabled,\n",
              "  .colab-df-quickchart-complete:disabled:hover {\n",
              "    background-color: var(--disabled-bg-color);\n",
              "    fill: var(--disabled-fill-color);\n",
              "    box-shadow: none;\n",
              "  }\n",
              "\n",
              "  .colab-df-spinner {\n",
              "    border: 2px solid var(--fill-color);\n",
              "    border-color: transparent;\n",
              "    border-bottom-color: var(--fill-color);\n",
              "    animation:\n",
              "      spin 1s steps(1) infinite;\n",
              "  }\n",
              "\n",
              "  @keyframes spin {\n",
              "    0% {\n",
              "      border-color: transparent;\n",
              "      border-bottom-color: var(--fill-color);\n",
              "      border-left-color: var(--fill-color);\n",
              "    }\n",
              "    20% {\n",
              "      border-color: transparent;\n",
              "      border-left-color: var(--fill-color);\n",
              "      border-top-color: var(--fill-color);\n",
              "    }\n",
              "    30% {\n",
              "      border-color: transparent;\n",
              "      border-left-color: var(--fill-color);\n",
              "      border-top-color: var(--fill-color);\n",
              "      border-right-color: var(--fill-color);\n",
              "    }\n",
              "    40% {\n",
              "      border-color: transparent;\n",
              "      border-right-color: var(--fill-color);\n",
              "      border-top-color: var(--fill-color);\n",
              "    }\n",
              "    60% {\n",
              "      border-color: transparent;\n",
              "      border-right-color: var(--fill-color);\n",
              "    }\n",
              "    80% {\n",
              "      border-color: transparent;\n",
              "      border-right-color: var(--fill-color);\n",
              "      border-bottom-color: var(--fill-color);\n",
              "    }\n",
              "    90% {\n",
              "      border-color: transparent;\n",
              "      border-bottom-color: var(--fill-color);\n",
              "    }\n",
              "  }\n",
              "</style>\n",
              "\n",
              "  <script>\n",
              "    async function quickchart(key) {\n",
              "      const quickchartButtonEl =\n",
              "        document.querySelector('#' + key + ' button');\n",
              "      quickchartButtonEl.disabled = true;  // To prevent multiple clicks.\n",
              "      quickchartButtonEl.classList.add('colab-df-spinner');\n",
              "      try {\n",
              "        const charts = await google.colab.kernel.invokeFunction(\n",
              "            'suggestCharts', [key], {});\n",
              "      } catch (error) {\n",
              "        console.error('Error during call to suggestCharts:', error);\n",
              "      }\n",
              "      quickchartButtonEl.classList.remove('colab-df-spinner');\n",
              "      quickchartButtonEl.classList.add('colab-df-quickchart-complete');\n",
              "    }\n",
              "    (() => {\n",
              "      let quickchartButtonEl =\n",
              "        document.querySelector('#df-616177d8-3e66-4d95-a693-9078b8bbf188 button');\n",
              "      quickchartButtonEl.style.display =\n",
              "        google.colab.kernel.accessAllowed ? 'block' : 'none';\n",
              "    })();\n",
              "  </script>\n",
              "</div>\n",
              "    </div>\n",
              "  </div>\n"
            ],
            "text/plain": [
              "              tweet_id                       timestamp  \\\n",
              "0  1587593300948660224  Tue Nov 01 23:51:53 +0000 2022   \n",
              "1  1587593300969918464  Tue Nov 01 23:51:53 +0000 2022   \n",
              "2  1587593300965560326  Tue Nov 01 23:51:53 +0000 2022   \n",
              "3  1587593300961550336  Tue Nov 01 23:51:53 +0000 2022   \n",
              "4  1587593300974129152  Tue Nov 01 23:51:53 +0000 2022   \n",
              "\n",
              "                                               tweet lang  \n",
              "0                           @lusttforlifee__ Wadauuu   cy  \n",
              "1  RT @LouisTCostaRica: Estamos a 10 días de escu...   es  \n",
              "2  RT @hyuckbots: lee 'backbone of nct, main voca...   en  \n",
              "3  RT @billboardcharts: .@BTS_twt's #Jin has the ...   en  \n",
              "4  RT @bravepromote: $30 | 450RB | 1620 PHP \\n\\n✅...   en  "
            ]
          },
          "execution_count": 2,
          "metadata": {},
          "output_type": "execute_result"
        }
      ],
      "source": [
        "import pandas as pd\n",
        "\n",
        "# Load the dataset\n",
        "file_path = '/content/November 2022 combined.csv'\n",
        "tweets_df = pd.read_csv(file_path)\n",
        "\n",
        "# Check the first few rows of the dataframe to understand its structure\n",
        "tweets_df.head()"
      ]
    },
    {
      "cell_type": "code",
      "execution_count": null,
      "metadata": {
        "colab": {
          "base_uri": "https://localhost:8080/"
        },
        "id": "OLmIEQd_HZoC",
        "outputId": "185bdc41-6abd-4b04-8879-43300864a2cc"
      },
      "outputs": [
        {
          "data": {
            "text/plain": [
              "{'inflation with economic terms': 31569,\n",
              " 'expensive': 262540,\n",
              " 'cheap': 2572168,\n",
              " 'prices_costs': 3883360,\n",
              " 'statistical_institutions': 929542,\n",
              " 'additional_keywords': 1619635}"
            ]
          },
          "execution_count": 5,
          "metadata": {},
          "output_type": "execute_result"
        }
      ],
      "source": [
        "# Function to check if a tweet contains any of the keywords\n",
        "def contains_keywords(tweet, keywords):\n",
        "    # Ensure the tweet is a string\n",
        "    tweet = str(tweet)\n",
        "    return any(keyword.lower() in tweet.lower() for keyword in keywords)\n",
        "\n",
        "# Count the tweets containing each category of keywords\n",
        "keyword_counts = {category: sum(tweets_df['tweet'].apply(lambda tweet: contains_keywords(tweet, keywords))) for category, keywords in lexical_fields.items()}\n",
        "\n",
        "keyword_counts"
      ]
    },
    {
      "cell_type": "code",
      "execution_count": null,
      "metadata": {
        "colab": {
          "base_uri": "https://localhost:8080/"
        },
        "id": "RI_uZQnFZqlS",
        "outputId": "de04d371-6daa-4b3f-daec-623848cb0327"
      },
      "outputs": [
        {
          "name": "stdout",
          "output_type": "stream",
          "text": [
            "(37208078, 4)\n"
          ]
        }
      ],
      "source": [
        "print(tweets_df.shape)"
      ]
    },
    {
      "cell_type": "code",
      "execution_count": null,
      "metadata": {
        "colab": {
          "base_uri": "https://localhost:8080/"
        },
        "id": "pM4o_RxpZsCn",
        "outputId": "883e0fb6-e281-44d7-f4d9-319a49b29a24"
      },
      "outputs": [
        {
          "name": "stdout",
          "output_type": "stream",
          "text": [
            "tweet_id       917504\n",
            "timestamp    25297253\n",
            "tweet        25297564\n",
            "lang         31627292\n",
            "dtype: int64\n"
          ]
        }
      ],
      "source": [
        "print(tweets_df.isna().sum())"
      ]
    },
    {
      "cell_type": "code",
      "execution_count": null,
      "metadata": {
        "id": "n0-iFeheZtDT"
      },
      "outputs": [],
      "source": [
        "tweets_df = tweets_df.dropna()"
      ]
    },
    {
      "cell_type": "code",
      "execution_count": null,
      "metadata": {
        "id": "XmU0798Kay92"
      },
      "outputs": [],
      "source": [
        "# Function to check if a tweet contains any of the keywords from the lexical fields\n",
        "def filter_tweets(tweet, fields):\n",
        "    if isinstance(tweet, str):\n",
        "        return any(any(keyword in tweet.lower() for keyword in field) for field in fields.values())\n",
        "    else:\n",
        "        # If tweet is not a string, we do not consider it for our lexical fields\n",
        "        return False"
      ]
    },
    {
      "cell_type": "code",
      "execution_count": null,
      "metadata": {
        "id": "JsC2eBfya23I"
      },
      "outputs": [],
      "source": [
        "import re\n",
        "# Apply the adjusted filter function to the DataFrame\n",
        "filtered_df = tweets_df[tweets_df['tweet'].apply(lambda tweet: filter_tweets(tweet, lexical_fields))]\n",
        "\n",
        "# Function to identify invalid characters\n",
        "def contains_invalid_characters(text):\n",
        "    # Define a set of allowed punctuation characters\n",
        "    allowed_punctuation = \"!\\\"#$%&'()*+,-./:;<=>?@[\\\\]^_`{|}~\"\n",
        "    pattern = r'^[A-Za-z0-9\\s' + re.escape(allowed_punctuation) + r']+$'\n",
        "    return not re.match(pattern, text)\n",
        "\n",
        "# Apply the function to the 'clean_text' column to create a mask for rows with invalid characters\n",
        "invalid_mask = filtered_df['tweet'].apply(lambda x: contains_invalid_characters(str(x)))"
      ]
    },
    {
      "cell_type": "code",
      "execution_count": null,
      "metadata": {
        "colab": {
          "base_uri": "https://localhost:8080/"
        },
        "id": "hzGaFHlcd1iP",
        "outputId": "c7d31d1d-4311-4079-f169-996c9eb53cb9"
      },
      "outputs": [
        {
          "name": "stdout",
          "output_type": "stream",
          "text": [
            "Number of rows after removing invalid characters: 3233936\n"
          ]
        }
      ],
      "source": [
        "# Invert the mask to filter out the invalid rows\n",
        "clean_df = filtered_df[~invalid_mask]\n",
        "\n",
        "# Now 'clean_df' contains only rows with valid characters & english language\n",
        "print(f\"Number of rows after removing invalid characters: {len(clean_df)}\")"
      ]
    },
    {
      "cell_type": "code",
      "execution_count": null,
      "metadata": {
        "colab": {
          "base_uri": "https://localhost:8080/"
        },
        "id": "bNh6KSwRMmRg",
        "outputId": "cf4bd00d-6903-421c-bebd-0f69cc521895"
      },
      "outputs": [
        {
          "name": "stdout",
          "output_type": "stream",
          "text": [
            "Unique languages in the 'lang' column:\n",
            "cy\n",
            "en\n",
            "pt\n",
            "fr\n",
            "es\n",
            "zxx\n",
            "tl\n",
            "hu\n",
            "is\n",
            "da\n",
            "qme\n",
            "in\n",
            "qam\n",
            "und\n",
            "de\n",
            "ht\n",
            "pl\n",
            "tr\n",
            "qst\n",
            "qht\n",
            "it\n",
            "lv\n",
            "vi\n",
            "lt\n",
            "et\n",
            "sl\n",
            "nl\n",
            "sv\n",
            "ro\n",
            "ca\n",
            "eu\n",
            "hi\n",
            "nan\n",
            "no\n",
            "cs\n",
            "fi\n"
          ]
        }
      ],
      "source": [
        "# Assuming df is your DataFrame and 'lang' is the column of interest\n",
        "unique_languages = clean_df['lang'].unique()\n",
        "\n",
        "print(\"Unique languages in the 'lang' column:\")\n",
        "for language in unique_languages:\n",
        "    print(language)"
      ]
    },
    {
      "cell_type": "code",
      "execution_count": null,
      "metadata": {
        "colab": {
          "base_uri": "https://localhost:8080/"
        },
        "id": "_W9g9taPNs_L",
        "outputId": "004fcbb5-fa42-442a-dc4f-53f866293c47"
      },
      "outputs": [
        {
          "name": "stdout",
          "output_type": "stream",
          "text": [
            "Filtered DataFrame with only English ('en') language:                      tweet_id                       timestamp  \\\n",
            "5         1587593300936105990  Tue Nov 01 23:51:53 +0000 2022   \n",
            "13        1587593321924403200  Tue Nov 01 23:51:58 +0000 2022   \n",
            "16        1587593321924661248  Tue Nov 01 23:51:58 +0000 2022   \n",
            "21        1587593330296520706  Tue Nov 01 23:52:00 +0000 2022   \n",
            "35        1587593342891720705  Tue Nov 01 23:52:03 +0000 2022   \n",
            "...                       ...                             ...   \n",
            "37208058  1594590863832875008  Mon Nov 21 07:17:42 +0000 2022   \n",
            "37208060  1594590868014788609  Mon Nov 21 07:17:43 +0000 2022   \n",
            "37208073  1594590889023873024  Mon Nov 21 07:17:48 +0000 2022   \n",
            "37208076  1594590893217980416  Mon Nov 21 07:17:49 +0000 2022   \n",
            "37208077  1594590897395888128  Mon Nov 21 07:17:50 +0000 2022   \n",
            "\n",
            "                                                      tweet lang  \n",
            "5         Pay $8 to prove you are a person who has $8 ht...   en  \n",
            "13        RT @CerromeRussell: Build Me Up by Cleo Sol is...   en  \n",
            "16        @ReviewsPossum Out of the way, wench. I'm walk...   en  \n",
            "21        RT @fiihazmii: \" Period pain \"\\n\\nWhat men see...   en  \n",
            "35        Snoop Dogg pays a blunt roller $50k/year meanw...   en  \n",
            "...                                                     ...  ...  \n",
            "37208058  @TRHLofficial The shooter may of been out on a...   en  \n",
            "37208060  RT @LiveSquawk: German Home Prices To Fall 3.5...   en  \n",
            "37208073  Adheres to hearer; they feed energy back and f...   en  \n",
            "37208076  2023: Sen. Wamakko inaugurates 150 APC youth s...   en  \n",
            "37208077  RT @DDNewslive: Arun Goel assumes charge as th...   en  \n",
            "\n",
            "[819959 rows x 4 columns] \n"
          ]
        }
      ],
      "source": [
        "# Keep only the rows where the 'lang' column is 'en'\n",
        "df_filtered = clean_df[clean_df['lang'] == 'en']\n",
        "\n",
        "print(f\"Filtered DataFrame with only English ('en') language: {df_filtered} \")"
      ]
    },
    {
      "cell_type": "code",
      "execution_count": null,
      "metadata": {
        "colab": {
          "base_uri": "https://localhost:8080/",
          "height": 35
        },
        "id": "kqAnkhRCPlr0",
        "outputId": "bdea08f4-9f39-4ce8-eb56-1b5c94c1735a"
      },
      "outputs": [
        {
          "data": {
            "application/vnd.google.colaboratory.intrinsic+json": {
              "type": "string"
            },
            "text/plain": [
              "'/content/Nov_2022_Sentiment_EN.csv'"
            ]
          },
          "execution_count": 8,
          "metadata": {},
          "output_type": "execute_result"
        }
      ],
      "source": [
        "filtered_file_path = '/content/Nov_2022_Sentiment_EN.csv'\n",
        "df_filtered.to_csv(filtered_file_path, index=False)\n",
        "\n",
        "filtered_file_path"
      ]
    },
    {
      "cell_type": "code",
      "execution_count": null,
      "metadata": {
        "id": "ntI4qXYBQCui"
      },
      "outputs": [],
      "source": [
        "# Load the dataset\n",
        "file_path = '/content/Nov_2022_Sentiment_EN.csv'\n",
        "en_df = pd.read_csv(file_path)"
      ]
    },
    {
      "cell_type": "code",
      "execution_count": null,
      "metadata": {
        "colab": {
          "base_uri": "https://localhost:8080/"
        },
        "id": "8AHiUtrPQOO7",
        "outputId": "fed9c3b5-816d-4478-bf45-008361e8518f"
      },
      "outputs": [
        {
          "name": "stdout",
          "output_type": "stream",
          "text": [
            "(819959, 4)\n"
          ]
        }
      ],
      "source": [
        "print(en_df.shape)"
      ]
    },
    {
      "cell_type": "markdown",
      "metadata": {
        "id": "qYbQQndvlaLy"
      },
      "source": [
        "# Add sentiment column - Supervised"
      ]
    },
    {
      "cell_type": "code",
      "execution_count": null,
      "metadata": {
        "id": "qsFHfkY-lWK0"
      },
      "outputs": [],
      "source": [
        "from transformers import pipeline\n",
        "import pandas as pd\n",
        "\n",
        "\n",
        "# Convert all tweet texts to strings and handle missing values\n",
        "tweets_df['tweet'] = tweets_df['tweet'].astype(str).fillna('')\n",
        "\n",
        "# Initialize the sentiment analysis pipeline\n",
        "sentiment_pipeline = pipeline(\"sentiment-analysis\", model=\"siebert/sentiment-roberta-large-english\")\n",
        "\n",
        "# Define the batch processing function\n",
        "def process_in_batches(tweets, batch_size=1000):\n",
        "    batch_sentiments = []\n",
        "    for i in range(0, len(tweets), batch_size):\n",
        "        batch = tweets[i:i+batch_size]\n",
        "        # Ensure batch is a list of strings\n",
        "        batch = [str(tweet) for tweet in batch]\n",
        "        results = sentiment_pipeline(batch)\n",
        "        sentiments = [1 if result['label'] == 'POSITIVE' else -1 for result in results]\n",
        "        batch_sentiments.extend(sentiments)\n",
        "    return batch_sentiments\n",
        "\n",
        "# Apply the batch processing function\n",
        "tweets_df['sentiment'] = process_in_batches(tweets_df['tweet'].tolist(), batch_size=100)"
      ]
    },
    {
      "cell_type": "markdown",
      "metadata": {
        "id": "s8Wf-6dINyLE"
      },
      "source": [
        "# Add sentiment column - Unsupervised"
      ]
    },
    {
      "cell_type": "code",
      "execution_count": null,
      "metadata": {
        "colab": {
          "base_uri": "https://localhost:8080/"
        },
        "id": "4JOWzd1fjPNI",
        "outputId": "0d4f4a73-f01a-4218-893c-64366eab9e84"
      },
      "outputs": [
        {
          "name": "stderr",
          "output_type": "stream",
          "text": [
            "[nltk_data] Downloading package vader_lexicon to /root/nltk_data...\n"
          ]
        }
      ],
      "source": [
        "import pandas as pd\n",
        "import nltk\n",
        "from nltk.sentiment import SentimentIntensityAnalyzer\n",
        "nltk.download('vader_lexicon')\n",
        "\n",
        "# Convert all tweet texts to strings and handle missing values\n",
        "en_df['tweet'] = en_df['tweet'].astype(str).fillna('')\n",
        "\n",
        "# Initialize the VADER sentiment intensity analyzer\n",
        "sia = SentimentIntensityAnalyzer()\n",
        "\n",
        "# Define a function to get numerical sentiment\n",
        "def get_numerical_sentiment(text):\n",
        "    score = sia.polarity_scores(text)\n",
        "    # Return a numerical sentiment based on the compound score\n",
        "    if score['compound'] >= 0.05:\n",
        "        return 1  # Positive\n",
        "    elif score['compound'] <= -0.05:\n",
        "        return -1  # Negative\n",
        "    else:\n",
        "        return 0  # Neutral\n",
        "\n",
        "# Apply the numerical sentiment function to each tweet\n",
        "en_df['sentiment'] = en_df['tweet'].apply(get_numerical_sentiment)"
      ]
    },
    {
      "cell_type": "code",
      "execution_count": null,
      "metadata": {
        "colab": {
          "base_uri": "https://localhost:8080/"
        },
        "id": "nI5fsjtdjX9S",
        "outputId": "3ef7fa47-fe20-45a2-c4c1-f8d9165af102"
      },
      "outputs": [
        {
          "name": "stdout",
          "output_type": "stream",
          "text": [
            "New CSV file saved to: /content/Nov_2022_Sentiment_EN_v1.csv\n"
          ]
        }
      ],
      "source": [
        "# Save the modified DataFrame to a new CSV file\n",
        "new_csv_path = '/content/Nov_2022_Sentiment_EN_v1.csv'\n",
        "en_df.to_csv(new_csv_path, index=False)\n",
        "\n",
        "print(f\"New CSV file saved to: {new_csv_path}\")"
      ]
    },
    {
      "cell_type": "markdown",
      "metadata": {
        "id": "xU_UHqk7OvOA"
      },
      "source": [
        "## Cleaned Dataset"
      ]
    },
    {
      "cell_type": "code",
      "execution_count": 1,
      "metadata": {
        "id": "E0NYKSdBOhCj"
      },
      "outputs": [],
      "source": [
        "import pandas as pd\n",
        "clean_en_df = pd.read_csv(\"/content/Nov_2022_Sentiment_EN_v1.csv\")"
      ]
    },
    {
      "cell_type": "code",
      "execution_count": null,
      "metadata": {
        "colab": {
          "base_uri": "https://localhost:8080/"
        },
        "id": "Hq40c_fmeDl-",
        "outputId": "4a174f94-b24d-40c7-bfc3-420604fabcd3"
      },
      "outputs": [
        {
          "name": "stdout",
          "output_type": "stream",
          "text": [
            "NaNs in category (before split): 0\n"
          ]
        }
      ],
      "source": [
        "# Check for NaN values in the target variable\n",
        "print(\"NaNs in category (before split):\", clean_en_df['sentiment'].isnull().sum())\n",
        "\n",
        "# Here we drop rows with NaN in 'category'\n",
        "clean_en_df = clean_en_df.dropna(subset=['sentiment'])"
      ]
    },
    {
      "cell_type": "code",
      "execution_count": null,
      "metadata": {
        "colab": {
          "base_uri": "https://localhost:8080/"
        },
        "id": "9_loe9FolD1Y",
        "outputId": "f3453043-bc94-4dbc-e57f-d57957f479e3"
      },
      "outputs": [
        {
          "name": "stdout",
          "output_type": "stream",
          "text": [
            "Number of positive and negative reviews:   1    379629\n",
            " 0    268260\n",
            "-1    172070\n",
            "Name: sentiment, dtype: int64\n",
            "Proportion of positive and negative reviews:   1    0.010203\n",
            " 0    0.007210\n",
            "-1    0.004625\n",
            "Name: sentiment, dtype: float64\n"
          ]
        }
      ],
      "source": [
        "# Find the number of positive and negative reviews\n",
        "print('Number of positive and negative reviews: ', clean_en_df.sentiment.value_counts())\n",
        "\n",
        "# Find the proportion of positive and negative reviews\n",
        "print('Proportion of positive and negative reviews: ', clean_en_df.sentiment.value_counts() / len(tweets_df))"
      ]
    },
    {
      "cell_type": "markdown",
      "metadata": {
        "id": "DoDBXHE9XKhS"
      },
      "source": [
        "# TF-IDF"
      ]
    },
    {
      "cell_type": "code",
      "execution_count": 2,
      "metadata": {
        "colab": {
          "base_uri": "https://localhost:8080/"
        },
        "id": "Jcdhe__dlndL",
        "outputId": "b26208f1-9f7b-47c0-f909-732b50c296e5"
      },
      "outputs": [
        {
          "output_type": "stream",
          "name": "stderr",
          "text": [
            "[nltk_data] Downloading package punkt to /root/nltk_data...\n",
            "[nltk_data]   Unzipping tokenizers/punkt.zip.\n",
            "[nltk_data] Downloading package stopwords to /root/nltk_data...\n",
            "[nltk_data]   Unzipping corpora/stopwords.zip.\n"
          ]
        },
        {
          "output_type": "execute_result",
          "data": {
            "text/plain": [
              "True"
            ]
          },
          "metadata": {},
          "execution_count": 2
        }
      ],
      "source": [
        "# Install the library and functions\n",
        "import nltk\n",
        "nltk.download('punkt')\n",
        "nltk.download('stopwords')"
      ]
    },
    {
      "cell_type": "code",
      "execution_count": 3,
      "metadata": {
        "id": "aUvI8lAxlpKI"
      },
      "outputs": [],
      "source": [
        "import nltk, re\n",
        "from nltk.corpus import stopwords\n",
        "from nltk.stem import SnowballStemmer\n",
        "from nltk.tokenize import word_tokenize\n",
        "\n",
        "\n",
        "stop = stopwords.words('english')\n",
        "excluding = ['against', 'not', 'don', \"don't\",'ain', 'aren', \"aren't\", 'couldn', \"couldn't\",\n",
        "             'didn', \"didn't\", 'doesn', \"doesn't\", 'hadn', \"hadn't\", 'hasn', \"hasn't\",\n",
        "             'haven', \"haven't\", 'isn', \"isn't\", 'mightn', \"mightn't\", 'mustn', \"mustn't\",\n",
        "             'needn', \"needn't\",'shouldn', \"shouldn't\", 'wasn', \"wasn't\", 'weren',\n",
        "             \"weren't\", 'won', \"won't\", 'wouldn', \"wouldn't\"]\n",
        "\n",
        "\n",
        "stop_words = [word for word in stop if word not in excluding]\n",
        "snow = SnowballStemmer('english')\n",
        "\n",
        "def process_text(texts):\n",
        "    final_text_list=[]\n",
        "    for sent in texts:\n",
        "        if isinstance(sent, str) == False:\n",
        "            sent = \"\"\n",
        "\n",
        "        filtered_sentence=[]\n",
        "\n",
        "        sent = sent.lower()\n",
        "        sent = sent.strip()\n",
        "        sent = re.sub('\\s+', ' ', sent)\n",
        "        sent = re.compile('<.*?>').sub('', sent)\n",
        "\n",
        "        for w in word_tokenize(sent):\n",
        "            if(not w.isnumeric()) and (len(w)>2) and (w not in stop_words):\n",
        "                filtered_sentence.append(snow.stem(w))\n",
        "        final_string = \" \".join(filtered_sentence)\n",
        "        final_text_list.append(final_string)\n",
        "\n",
        "    return final_text_list"
      ]
    },
    {
      "cell_type": "code",
      "execution_count": 4,
      "metadata": {
        "id": "b0iGsPP8luMQ"
      },
      "outputs": [],
      "source": [
        "from sklearn.model_selection import train_test_split\n",
        "\n",
        "X_train, X_test, y_train, y_test = train_test_split(clean_en_df[[\"tweet\"]],\n",
        "                                                  clean_en_df[\"sentiment\"],\n",
        "                                                  test_size=0.2,\n",
        "                                                  shuffle=True,\n",
        "                                                  random_state=324\n",
        "                                                 )"
      ]
    },
    {
      "cell_type": "code",
      "execution_count": 5,
      "metadata": {
        "colab": {
          "base_uri": "https://localhost:8080/"
        },
        "id": "OsoROkntl1to",
        "outputId": "f5ed6cbb-271d-42a9-ce32-a73c4c746b92"
      },
      "outputs": [
        {
          "output_type": "stream",
          "name": "stdout",
          "text": [
            "Processing the tweet fields\n"
          ]
        }
      ],
      "source": [
        "print(\"Processing the tweet fields\")\n",
        "X_train[\"tweet\"] = process_text(X_train[\"tweet\"].tolist())\n",
        "X_test[\"tweet\"] = process_text(X_test[\"tweet\"].tolist())"
      ]
    },
    {
      "cell_type": "code",
      "execution_count": null,
      "metadata": {
        "colab": {
          "base_uri": "https://localhost:8080/"
        },
        "id": "cGi45-N0oHd1",
        "outputId": "904e6338-fbff-43a1-d300-a60ddd2f881e"
      },
      "outputs": [
        {
          "name": "stdout",
          "output_type": "stream",
          "text": [
            "Original tweet count: 5580786\n",
            "Filtered tweet count: 984053\n",
            "              tweet_id                       timestamp  \\\n",
            "0  1587593300936105990  Tue Nov 01 23:51:53 +0000 2022   \n",
            "1  1587593321924403200  Tue Nov 01 23:51:58 +0000 2022   \n",
            "2  1587593321924661248  Tue Nov 01 23:51:58 +0000 2022   \n",
            "3  1587593330296520706  Tue Nov 01 23:52:00 +0000 2022   \n",
            "4  1587593342891720705  Tue Nov 01 23:52:03 +0000 2022   \n",
            "\n",
            "                                               tweet lang  sentiment  \n",
            "0  Pay $8 to prove you are a person who has $8 ht...   en         -1  \n",
            "1  RT @CerromeRussell: Build Me Up by Cleo Sol is...   en          1  \n",
            "2  @ReviewsPossum Out of the way, wench. I'm walk...   en          0  \n",
            "3  RT @fiihazmii: \" Period pain \"\\n\\nWhat men see...   en         -1  \n",
            "4  Snoop Dogg pays a blunt roller $50k/year meanw...   en         -1  \n"
          ]
        }
      ],
      "source": [
        "# Display the number of tweets before and after filtering/cleaning\n",
        "original_count = tweets_df.shape[0]\n",
        "filtered_count = clean_df.shape[0]\n",
        "print(f'Original tweet count: {original_count}')\n",
        "print(f'Filtered tweet count: {filtered_count}')\n",
        "print(clean_en_df.head())"
      ]
    },
    {
      "cell_type": "code",
      "execution_count": 6,
      "metadata": {
        "colab": {
          "base_uri": "https://localhost:8080/",
          "height": 564
        },
        "id": "FK-qOcJfo8k2",
        "outputId": "945909ba-0e5c-4eca-e8a4-8ca067d62087"
      },
      "outputs": [
        {
          "output_type": "display_data",
          "data": {
            "text/plain": [
              "<Figure size 800x600 with 1 Axes>"
            ],
            "image/png": "[encoded data removed]"
          },
          "metadata": {}
        }
      ],
      "source": [
        "import matplotlib.pyplot as plt\n",
        "# Calculate the sentiment distribution\n",
        "sentiment_distribution = clean_en_df['sentiment'].value_counts()\n",
        "\n",
        "# Create a bar chart\n",
        "plt.figure(figsize=(8, 6))\n",
        "sentiment_distribution.plot(kind='bar')\n",
        "plt.title('Sentiment Distribution in the Sentiment Column')\n",
        "plt.xlabel('Sentiment Category')\n",
        "plt.ylabel('Frequency')\n",
        "plt.xticks(rotation=0)\n",
        "plt.grid(axis='y')\n",
        "\n",
        "# Show the plot\n",
        "plt.show()"
      ]
    },
    {
      "cell_type": "code",
      "execution_count": null,
      "metadata": {
        "colab": {
          "base_uri": "https://localhost:8080/"
        },
        "id": "ZHC0OO6aubfJ",
        "outputId": "b316c529-4d8a-4289-8baf-95a2e470c5ff"
      },
      "outputs": [
        {
          "name": "stdout",
          "output_type": "stream",
          "text": [
            "Number of entries in the training set: 655967\n",
            "Number of entries in the testing set: 163992\n"
          ]
        }
      ],
      "source": [
        "# Displaying the number of entries in the training and testing sets\n",
        "print(f\"Number of entries in the training set: {len(X_train)}\")\n",
        "print(f\"Number of entries in the testing set: {len(X_test)}\")"
      ]
    },
    {
      "cell_type": "code",
      "execution_count": 7,
      "metadata": {
        "id": "4Uhn7xhiufgK"
      },
      "outputs": [],
      "source": [
        "# Selecting text features for the model\n",
        "text_features = ['tweet']\n",
        "\n",
        "# Defining the target variable for the model\n",
        "model_target = 'sentiment'"
      ]
    },
    {
      "cell_type": "markdown",
      "metadata": {
        "id": "Tag8KXP5wdZL"
      },
      "source": [
        "# Base Models"
      ]
    },
    {
      "cell_type": "markdown",
      "metadata": {
        "id": "eLjuzN4GwgNZ"
      },
      "source": [
        "## Logistic Regression Model"
      ]
    },
    {
      "cell_type": "code",
      "execution_count": 8,
      "metadata": {
        "id": "JoMGLNmIwk5v"
      },
      "outputs": [],
      "source": [
        "from sklearn.pipeline import Pipeline\n",
        "from sklearn.feature_extraction.text import CountVectorizer\n",
        "import gensim\n",
        "from gensim.models import Word2Vec\n",
        "from sklearn.impute import SimpleImputer\n",
        "from sklearn.preprocessing import MinMaxScaler\n",
        "from sklearn.neighbors import KNeighborsClassifier\n",
        "from sklearn.feature_extraction.text import CountVectorizer\n",
        "from sklearn.pipeline import Pipeline\n",
        "from sklearn.compose import ColumnTransformer\n",
        "from sklearn.linear_model import LogisticRegression\n",
        "from sklearn.utils.class_weight import compute_class_weight\n",
        "import numpy as np\n",
        "from sklearn.ensemble import RandomForestClassifier, AdaBoostClassifier, GradientBoostingClassifier"
      ]
    },
    {
      "cell_type": "code",
      "execution_count": null,
      "metadata": {
        "colab": {
          "base_uri": "https://localhost:8080/",
          "height": 192
        },
        "id": "nedltbUWwrDc",
        "outputId": "3ab32505-3693-406f-e008-b193bc0367e4"
      },
      "outputs": [
        {
          "data": {
            "text/html": [
              "<style>#sk-container-id-1 {color: black;background-color: white;}#sk-container-id-1 pre{padding: 0;}#sk-container-id-1 div.sk-toggleable {background-color: white;}#sk-container-id-1 label.sk-toggleable__label {cursor: pointer;display: block;width: 100%;margin-bottom: 0;padding: 0.3em;box-sizing: border-box;text-align: center;}#sk-container-id-1 label.sk-toggleable__label-arrow:before {content: \"▸\";float: left;margin-right: 0.25em;color: #696969;}#sk-container-id-1 label.sk-toggleable__label-arrow:hover:before {color: black;}#sk-container-id-1 div.sk-estimator:hover label.sk-toggleable__label-arrow:before {color: black;}#sk-container-id-1 div.sk-toggleable__content {max-height: 0;max-width: 0;overflow: hidden;text-align: left;background-color: #f0f8ff;}#sk-container-id-1 div.sk-toggleable__content pre {margin: 0.2em;color: black;border-radius: 0.25em;background-color: #f0f8ff;}#sk-container-id-1 input.sk-toggleable__control:checked~div.sk-toggleable__content {max-height: 200px;max-width: 100%;overflow: auto;}#sk-container-id-1 input.sk-toggleable__control:checked~label.sk-toggleable__label-arrow:before {content: \"▾\";}#sk-container-id-1 div.sk-estimator input.sk-toggleable__control:checked~label.sk-toggleable__label {background-color: #d4ebff;}#sk-container-id-1 div.sk-label input.sk-toggleable__control:checked~label.sk-toggleable__label {background-color: #d4ebff;}#sk-container-id-1 input.sk-hidden--visually {border: 0;clip: rect(1px 1px 1px 1px);clip: rect(1px, 1px, 1px, 1px);height: 1px;margin: -1px;overflow: hidden;padding: 0;position: absolute;width: 1px;}#sk-container-id-1 div.sk-estimator {font-family: monospace;background-color: #f0f8ff;border: 1px dotted black;border-radius: 0.25em;box-sizing: border-box;margin-bottom: 0.5em;}#sk-container-id-1 div.sk-estimator:hover {background-color: #d4ebff;}#sk-container-id-1 div.sk-parallel-item::after {content: \"\";width: 100%;border-bottom: 1px solid gray;flex-grow: 1;}#sk-container-id-1 div.sk-label:hover label.sk-toggleable__label {background-color: #d4ebff;}#sk-container-id-1 div.sk-serial::before {content: \"\";position: absolute;border-left: 1px solid gray;box-sizing: border-box;top: 0;bottom: 0;left: 50%;z-index: 0;}#sk-container-id-1 div.sk-serial {display: flex;flex-direction: column;align-items: center;background-color: white;padding-right: 0.2em;padding-left: 0.2em;position: relative;}#sk-container-id-1 div.sk-item {position: relative;z-index: 1;}#sk-container-id-1 div.sk-parallel {display: flex;align-items: stretch;justify-content: center;background-color: white;position: relative;}#sk-container-id-1 div.sk-item::before, #sk-container-id-1 div.sk-parallel-item::before {content: \"\";position: absolute;border-left: 1px solid gray;box-sizing: border-box;top: 0;bottom: 0;left: 50%;z-index: -1;}#sk-container-id-1 div.sk-parallel-item {display: flex;flex-direction: column;z-index: 1;position: relative;background-color: white;}#sk-container-id-1 div.sk-parallel-item:first-child::after {align-self: flex-end;width: 50%;}#sk-container-id-1 div.sk-parallel-item:last-child::after {align-self: flex-start;width: 50%;}#sk-container-id-1 div.sk-parallel-item:only-child::after {width: 0;}#sk-container-id-1 div.sk-dashed-wrapped {border: 1px dashed gray;margin: 0 0.4em 0.5em 0.4em;box-sizing: border-box;padding-bottom: 0.4em;background-color: white;}#sk-container-id-1 div.sk-label label {font-family: monospace;font-weight: bold;display: inline-block;line-height: 1.2em;}#sk-container-id-1 div.sk-label-container {text-align: center;}#sk-container-id-1 div.sk-container {/* jupyter's `normalize.less` sets `[hidden] { display: none; }` but bootstrap.min.css set `[hidden] { display: none !important; }` so we also need the `!important` here to be able to override the default hidden behavior on the sphinx rendered scikit-learn.org. See: https://github.com/scikit-learn/scikit-learn/issues/21755 */display: inline-block !important;position: relative;}#sk-container-id-1 div.sk-text-repr-fallback {display: none;}</style><div id=\"sk-container-id-1\" class=\"sk-top-container\"><div class=\"sk-text-repr-fallback\"><pre>Pipeline(steps=[(&#x27;data_preprocessing&#x27;,\n",
              "                 ColumnTransformer(transformers=[(&#x27;text_pre_0&#x27;,\n",
              "                                                  Pipeline(steps=[(&#x27;text_vect_0&#x27;,\n",
              "                                                                   CountVectorizer(binary=True,\n",
              "                                                                                   max_features=150))]),\n",
              "                                                  &#x27;tweet&#x27;)])),\n",
              "                (&#x27;logistic_regression&#x27;, LogisticRegression(C=0.1))])</pre><b>In a Jupyter environment, please rerun this cell to show the HTML representation or trust the notebook. <br />On GitHub, the HTML representation is unable to render, please try loading this page with nbviewer.org.</b></div><div class=\"sk-container\" hidden><div class=\"sk-item sk-dashed-wrapped\"><div class=\"sk-label-container\"><div class=\"sk-label sk-toggleable\"><input class=\"sk-toggleable__control sk-hidden--visually\" id=\"sk-estimator-id-1\" type=\"checkbox\" ><label for=\"sk-estimator-id-1\" class=\"sk-toggleable__label sk-toggleable__label-arrow\">Pipeline</label><div class=\"sk-toggleable__content\"><pre>Pipeline(steps=[(&#x27;data_preprocessing&#x27;,\n",
              "                 ColumnTransformer(transformers=[(&#x27;text_pre_0&#x27;,\n",
              "                                                  Pipeline(steps=[(&#x27;text_vect_0&#x27;,\n",
              "                                                                   CountVectorizer(binary=True,\n",
              "                                                                                   max_features=150))]),\n",
              "                                                  &#x27;tweet&#x27;)])),\n",
              "                (&#x27;logistic_regression&#x27;, LogisticRegression(C=0.1))])</pre></div></div></div><div class=\"sk-serial\"><div class=\"sk-item sk-dashed-wrapped\"><div class=\"sk-label-container\"><div class=\"sk-label sk-toggleable\"><input class=\"sk-toggleable__control sk-hidden--visually\" id=\"sk-estimator-id-2\" type=\"checkbox\" ><label for=\"sk-estimator-id-2\" class=\"sk-toggleable__label sk-toggleable__label-arrow\">data_preprocessing: ColumnTransformer</label><div class=\"sk-toggleable__content\"><pre>ColumnTransformer(transformers=[(&#x27;text_pre_0&#x27;,\n",
              "                                 Pipeline(steps=[(&#x27;text_vect_0&#x27;,\n",
              "                                                  CountVectorizer(binary=True,\n",
              "                                                                  max_features=150))]),\n",
              "                                 &#x27;tweet&#x27;)])</pre></div></div></div><div class=\"sk-parallel\"><div class=\"sk-parallel-item\"><div class=\"sk-item\"><div class=\"sk-label-container\"><div class=\"sk-label sk-toggleable\"><input class=\"sk-toggleable__control sk-hidden--visually\" id=\"sk-estimator-id-3\" type=\"checkbox\" ><label for=\"sk-estimator-id-3\" class=\"sk-toggleable__label sk-toggleable__label-arrow\">text_pre_0</label><div class=\"sk-toggleable__content\"><pre>tweet</pre></div></div></div><div class=\"sk-serial\"><div class=\"sk-item\"><div class=\"sk-serial\"><div class=\"sk-item\"><div class=\"sk-estimator sk-toggleable\"><input class=\"sk-toggleable__control sk-hidden--visually\" id=\"sk-estimator-id-4\" type=\"checkbox\" ><label for=\"sk-estimator-id-4\" class=\"sk-toggleable__label sk-toggleable__label-arrow\">CountVectorizer</label><div class=\"sk-toggleable__content\"><pre>CountVectorizer(binary=True, max_features=150)</pre></div></div></div></div></div></div></div></div></div></div><div class=\"sk-item\"><div class=\"sk-estimator sk-toggleable\"><input class=\"sk-toggleable__control sk-hidden--visually\" id=\"sk-estimator-id-5\" type=\"checkbox\" ><label for=\"sk-estimator-id-5\" class=\"sk-toggleable__label sk-toggleable__label-arrow\">LogisticRegression</label><div class=\"sk-toggleable__content\"><pre>LogisticRegression(C=0.1)</pre></div></div></div></div></div></div></div>"
            ],
            "text/plain": [
              "Pipeline(steps=[('data_preprocessing',\n",
              "                 ColumnTransformer(transformers=[('text_pre_0',\n",
              "                                                  Pipeline(steps=[('text_vect_0',\n",
              "                                                                   CountVectorizer(binary=True,\n",
              "                                                                                   max_features=150))]),\n",
              "                                                  'tweet')])),\n",
              "                ('logistic_regression', LogisticRegression(C=0.1))])"
            ]
          },
          "execution_count": 9,
          "metadata": {},
          "output_type": "execute_result"
        }
      ],
      "source": [
        "text_processor_0 = Pipeline([\n",
        "    ('text_vect_0', CountVectorizer(binary=True, max_features=150))\n",
        "])\n",
        "\n",
        "data_preprocessor = ColumnTransformer([\n",
        "    ('text_pre_0', text_processor_0, text_features[0])\n",
        "])\n",
        "\n",
        "\n",
        "pipeline = Pipeline([\n",
        "    ('data_preprocessing', data_preprocessor),\n",
        "    ('logistic_regression', LogisticRegression(penalty = 'l2',\n",
        "                              C = 0.1))\n",
        "])\n",
        "\n",
        "# Visualizing the Pipeline\n",
        "from sklearn import set_config\n",
        "set_config(display='diagram')\n",
        "pipeline"
      ]
    },
    {
      "cell_type": "code",
      "execution_count": null,
      "metadata": {
        "colab": {
          "base_uri": "https://localhost:8080/",
          "height": 192
        },
        "id": "bscccEnVzYpE",
        "outputId": "83d4f22a-4692-4fc4-d9e6-bf08f6d35259"
      },
      "outputs": [
        {
          "data": {
            "text/html": [
              "<style>#sk-container-id-2 {color: black;background-color: white;}#sk-container-id-2 pre{padding: 0;}#sk-container-id-2 div.sk-toggleable {background-color: white;}#sk-container-id-2 label.sk-toggleable__label {cursor: pointer;display: block;width: 100%;margin-bottom: 0;padding: 0.3em;box-sizing: border-box;text-align: center;}#sk-container-id-2 label.sk-toggleable__label-arrow:before {content: \"▸\";float: left;margin-right: 0.25em;color: #696969;}#sk-container-id-2 label.sk-toggleable__label-arrow:hover:before {color: black;}#sk-container-id-2 div.sk-estimator:hover label.sk-toggleable__label-arrow:before {color: black;}#sk-container-id-2 div.sk-toggleable__content {max-height: 0;max-width: 0;overflow: hidden;text-align: left;background-color: #f0f8ff;}#sk-container-id-2 div.sk-toggleable__content pre {margin: 0.2em;color: black;border-radius: 0.25em;background-color: #f0f8ff;}#sk-container-id-2 input.sk-toggleable__control:checked~div.sk-toggleable__content {max-height: 200px;max-width: 100%;overflow: auto;}#sk-container-id-2 input.sk-toggleable__control:checked~label.sk-toggleable__label-arrow:before {content: \"▾\";}#sk-container-id-2 div.sk-estimator input.sk-toggleable__control:checked~label.sk-toggleable__label {background-color: #d4ebff;}#sk-container-id-2 div.sk-label input.sk-toggleable__control:checked~label.sk-toggleable__label {background-color: #d4ebff;}#sk-container-id-2 input.sk-hidden--visually {border: 0;clip: rect(1px 1px 1px 1px);clip: rect(1px, 1px, 1px, 1px);height: 1px;margin: -1px;overflow: hidden;padding: 0;position: absolute;width: 1px;}#sk-container-id-2 div.sk-estimator {font-family: monospace;background-color: #f0f8ff;border: 1px dotted black;border-radius: 0.25em;box-sizing: border-box;margin-bottom: 0.5em;}#sk-container-id-2 div.sk-estimator:hover {background-color: #d4ebff;}#sk-container-id-2 div.sk-parallel-item::after {content: \"\";width: 100%;border-bottom: 1px solid gray;flex-grow: 1;}#sk-container-id-2 div.sk-label:hover label.sk-toggleable__label {background-color: #d4ebff;}#sk-container-id-2 div.sk-serial::before {content: \"\";position: absolute;border-left: 1px solid gray;box-sizing: border-box;top: 0;bottom: 0;left: 50%;z-index: 0;}#sk-container-id-2 div.sk-serial {display: flex;flex-direction: column;align-items: center;background-color: white;padding-right: 0.2em;padding-left: 0.2em;position: relative;}#sk-container-id-2 div.sk-item {position: relative;z-index: 1;}#sk-container-id-2 div.sk-parallel {display: flex;align-items: stretch;justify-content: center;background-color: white;position: relative;}#sk-container-id-2 div.sk-item::before, #sk-container-id-2 div.sk-parallel-item::before {content: \"\";position: absolute;border-left: 1px solid gray;box-sizing: border-box;top: 0;bottom: 0;left: 50%;z-index: -1;}#sk-container-id-2 div.sk-parallel-item {display: flex;flex-direction: column;z-index: 1;position: relative;background-color: white;}#sk-container-id-2 div.sk-parallel-item:first-child::after {align-self: flex-end;width: 50%;}#sk-container-id-2 div.sk-parallel-item:last-child::after {align-self: flex-start;width: 50%;}#sk-container-id-2 div.sk-parallel-item:only-child::after {width: 0;}#sk-container-id-2 div.sk-dashed-wrapped {border: 1px dashed gray;margin: 0 0.4em 0.5em 0.4em;box-sizing: border-box;padding-bottom: 0.4em;background-color: white;}#sk-container-id-2 div.sk-label label {font-family: monospace;font-weight: bold;display: inline-block;line-height: 1.2em;}#sk-container-id-2 div.sk-label-container {text-align: center;}#sk-container-id-2 div.sk-container {/* jupyter's `normalize.less` sets `[hidden] { display: none; }` but bootstrap.min.css set `[hidden] { display: none !important; }` so we also need the `!important` here to be able to override the default hidden behavior on the sphinx rendered scikit-learn.org. See: https://github.com/scikit-learn/scikit-learn/issues/21755 */display: inline-block !important;position: relative;}#sk-container-id-2 div.sk-text-repr-fallback {display: none;}</style><div id=\"sk-container-id-2\" class=\"sk-top-container\"><div class=\"sk-text-repr-fallback\"><pre>Pipeline(steps=[(&#x27;data_preprocessing&#x27;,\n",
              "                 ColumnTransformer(transformers=[(&#x27;text_pre_0&#x27;,\n",
              "                                                  Pipeline(steps=[(&#x27;text_vect_0&#x27;,\n",
              "                                                                   CountVectorizer(binary=True,\n",
              "                                                                                   max_features=150))]),\n",
              "                                                  &#x27;tweet&#x27;)])),\n",
              "                (&#x27;logistic_regression&#x27;,\n",
              "                 LogisticRegression(C=0.1,\n",
              "                                    class_weight={-1: 1.5871410908756571,\n",
              "                                                  0: 1.0178173546589209,\n",
              "                                                  1: 0.7207509811936061},\n",
              "                                    max_iter=1000, solver=&#x27;saga&#x27;))])</pre><b>In a Jupyter environment, please rerun this cell to show the HTML representation or trust the notebook. <br />On GitHub, the HTML representation is unable to render, please try loading this page with nbviewer.org.</b></div><div class=\"sk-container\" hidden><div class=\"sk-item sk-dashed-wrapped\"><div class=\"sk-label-container\"><div class=\"sk-label sk-toggleable\"><input class=\"sk-toggleable__control sk-hidden--visually\" id=\"sk-estimator-id-6\" type=\"checkbox\" ><label for=\"sk-estimator-id-6\" class=\"sk-toggleable__label sk-toggleable__label-arrow\">Pipeline</label><div class=\"sk-toggleable__content\"><pre>Pipeline(steps=[(&#x27;data_preprocessing&#x27;,\n",
              "                 ColumnTransformer(transformers=[(&#x27;text_pre_0&#x27;,\n",
              "                                                  Pipeline(steps=[(&#x27;text_vect_0&#x27;,\n",
              "                                                                   CountVectorizer(binary=True,\n",
              "                                                                                   max_features=150))]),\n",
              "                                                  &#x27;tweet&#x27;)])),\n",
              "                (&#x27;logistic_regression&#x27;,\n",
              "                 LogisticRegression(C=0.1,\n",
              "                                    class_weight={-1: 1.5871410908756571,\n",
              "                                                  0: 1.0178173546589209,\n",
              "                                                  1: 0.7207509811936061},\n",
              "                                    max_iter=1000, solver=&#x27;saga&#x27;))])</pre></div></div></div><div class=\"sk-serial\"><div class=\"sk-item sk-dashed-wrapped\"><div class=\"sk-label-container\"><div class=\"sk-label sk-toggleable\"><input class=\"sk-toggleable__control sk-hidden--visually\" id=\"sk-estimator-id-7\" type=\"checkbox\" ><label for=\"sk-estimator-id-7\" class=\"sk-toggleable__label sk-toggleable__label-arrow\">data_preprocessing: ColumnTransformer</label><div class=\"sk-toggleable__content\"><pre>ColumnTransformer(transformers=[(&#x27;text_pre_0&#x27;,\n",
              "                                 Pipeline(steps=[(&#x27;text_vect_0&#x27;,\n",
              "                                                  CountVectorizer(binary=True,\n",
              "                                                                  max_features=150))]),\n",
              "                                 &#x27;tweet&#x27;)])</pre></div></div></div><div class=\"sk-parallel\"><div class=\"sk-parallel-item\"><div class=\"sk-item\"><div class=\"sk-label-container\"><div class=\"sk-label sk-toggleable\"><input class=\"sk-toggleable__control sk-hidden--visually\" id=\"sk-estimator-id-8\" type=\"checkbox\" ><label for=\"sk-estimator-id-8\" class=\"sk-toggleable__label sk-toggleable__label-arrow\">text_pre_0</label><div class=\"sk-toggleable__content\"><pre>tweet</pre></div></div></div><div class=\"sk-serial\"><div class=\"sk-item\"><div class=\"sk-serial\"><div class=\"sk-item\"><div class=\"sk-estimator sk-toggleable\"><input class=\"sk-toggleable__control sk-hidden--visually\" id=\"sk-estimator-id-9\" type=\"checkbox\" ><label for=\"sk-estimator-id-9\" class=\"sk-toggleable__label sk-toggleable__label-arrow\">CountVectorizer</label><div class=\"sk-toggleable__content\"><pre>CountVectorizer(binary=True, max_features=150)</pre></div></div></div></div></div></div></div></div></div></div><div class=\"sk-item\"><div class=\"sk-estimator sk-toggleable\"><input class=\"sk-toggleable__control sk-hidden--visually\" id=\"sk-estimator-id-10\" type=\"checkbox\" ><label for=\"sk-estimator-id-10\" class=\"sk-toggleable__label sk-toggleable__label-arrow\">LogisticRegression</label><div class=\"sk-toggleable__content\"><pre>LogisticRegression(C=0.1,\n",
              "                   class_weight={-1: 1.5871410908756571, 0: 1.0178173546589209,\n",
              "                                 1: 0.7207509811936061},\n",
              "                   max_iter=1000, solver=&#x27;saga&#x27;)</pre></div></div></div></div></div></div></div>"
            ],
            "text/plain": [
              "Pipeline(steps=[('data_preprocessing',\n",
              "                 ColumnTransformer(transformers=[('text_pre_0',\n",
              "                                                  Pipeline(steps=[('text_vect_0',\n",
              "                                                                   CountVectorizer(binary=True,\n",
              "                                                                                   max_features=150))]),\n",
              "                                                  'tweet')])),\n",
              "                ('logistic_regression',\n",
              "                 LogisticRegression(C=0.1,\n",
              "                                    class_weight={-1: 1.5871410908756571,\n",
              "                                                  0: 1.0178173546589209,\n",
              "                                                  1: 0.7207509811936061},\n",
              "                                    max_iter=1000, solver='saga'))])"
            ]
          },
          "execution_count": 10,
          "metadata": {},
          "output_type": "execute_result"
        }
      ],
      "source": [
        "class_labels = np.unique(y_train)\n",
        "\n",
        "class_weights = compute_class_weight('balanced', classes=class_labels, y=y_train)\n",
        "\n",
        "# Creating a dictionary to pass to the model\n",
        "class_weights_dict = {class_labels[i]: class_weights[i] for i in range(len(class_labels))}\n",
        "\n",
        "# Assembling the Full Pipeline\n",
        "pipeline = Pipeline([\n",
        "    ('data_preprocessing', data_preprocessor),\n",
        "    ('logistic_regression', LogisticRegression(penalty = 'l2', class_weight=class_weights_dict,\n",
        "                              C = 0.1, max_iter=1000, solver='saga'))\n",
        "])\n",
        "\n",
        "# Visualizing the Pipeline\n",
        "from sklearn import set_config\n",
        "set_config(display='diagram')\n",
        "pipeline"
      ]
    },
    {
      "cell_type": "code",
      "execution_count": null,
      "metadata": {
        "colab": {
          "base_uri": "https://localhost:8080/",
          "height": 192
        },
        "id": "CpkQSSxw2rNv",
        "outputId": "86700a74-ca68-4485-f3a5-9a16e564a1ea"
      },
      "outputs": [
        {
          "data": {
            "text/html": [
              "<style>#sk-container-id-3 {color: black;background-color: white;}#sk-container-id-3 pre{padding: 0;}#sk-container-id-3 div.sk-toggleable {background-color: white;}#sk-container-id-3 label.sk-toggleable__label {cursor: pointer;display: block;width: 100%;margin-bottom: 0;padding: 0.3em;box-sizing: border-box;text-align: center;}#sk-container-id-3 label.sk-toggleable__label-arrow:before {content: \"▸\";float: left;margin-right: 0.25em;color: #696969;}#sk-container-id-3 label.sk-toggleable__label-arrow:hover:before {color: black;}#sk-container-id-3 div.sk-estimator:hover label.sk-toggleable__label-arrow:before {color: black;}#sk-container-id-3 div.sk-toggleable__content {max-height: 0;max-width: 0;overflow: hidden;text-align: left;background-color: #f0f8ff;}#sk-container-id-3 div.sk-toggleable__content pre {margin: 0.2em;color: black;border-radius: 0.25em;background-color: #f0f8ff;}#sk-container-id-3 input.sk-toggleable__control:checked~div.sk-toggleable__content {max-height: 200px;max-width: 100%;overflow: auto;}#sk-container-id-3 input.sk-toggleable__control:checked~label.sk-toggleable__label-arrow:before {content: \"▾\";}#sk-container-id-3 div.sk-estimator input.sk-toggleable__control:checked~label.sk-toggleable__label {background-color: #d4ebff;}#sk-container-id-3 div.sk-label input.sk-toggleable__control:checked~label.sk-toggleable__label {background-color: #d4ebff;}#sk-container-id-3 input.sk-hidden--visually {border: 0;clip: rect(1px 1px 1px 1px);clip: rect(1px, 1px, 1px, 1px);height: 1px;margin: -1px;overflow: hidden;padding: 0;position: absolute;width: 1px;}#sk-container-id-3 div.sk-estimator {font-family: monospace;background-color: #f0f8ff;border: 1px dotted black;border-radius: 0.25em;box-sizing: border-box;margin-bottom: 0.5em;}#sk-container-id-3 div.sk-estimator:hover {background-color: #d4ebff;}#sk-container-id-3 div.sk-parallel-item::after {content: \"\";width: 100%;border-bottom: 1px solid gray;flex-grow: 1;}#sk-container-id-3 div.sk-label:hover label.sk-toggleable__label {background-color: #d4ebff;}#sk-container-id-3 div.sk-serial::before {content: \"\";position: absolute;border-left: 1px solid gray;box-sizing: border-box;top: 0;bottom: 0;left: 50%;z-index: 0;}#sk-container-id-3 div.sk-serial {display: flex;flex-direction: column;align-items: center;background-color: white;padding-right: 0.2em;padding-left: 0.2em;position: relative;}#sk-container-id-3 div.sk-item {position: relative;z-index: 1;}#sk-container-id-3 div.sk-parallel {display: flex;align-items: stretch;justify-content: center;background-color: white;position: relative;}#sk-container-id-3 div.sk-item::before, #sk-container-id-3 div.sk-parallel-item::before {content: \"\";position: absolute;border-left: 1px solid gray;box-sizing: border-box;top: 0;bottom: 0;left: 50%;z-index: -1;}#sk-container-id-3 div.sk-parallel-item {display: flex;flex-direction: column;z-index: 1;position: relative;background-color: white;}#sk-container-id-3 div.sk-parallel-item:first-child::after {align-self: flex-end;width: 50%;}#sk-container-id-3 div.sk-parallel-item:last-child::after {align-self: flex-start;width: 50%;}#sk-container-id-3 div.sk-parallel-item:only-child::after {width: 0;}#sk-container-id-3 div.sk-dashed-wrapped {border: 1px dashed gray;margin: 0 0.4em 0.5em 0.4em;box-sizing: border-box;padding-bottom: 0.4em;background-color: white;}#sk-container-id-3 div.sk-label label {font-family: monospace;font-weight: bold;display: inline-block;line-height: 1.2em;}#sk-container-id-3 div.sk-label-container {text-align: center;}#sk-container-id-3 div.sk-container {/* jupyter's `normalize.less` sets `[hidden] { display: none; }` but bootstrap.min.css set `[hidden] { display: none !important; }` so we also need the `!important` here to be able to override the default hidden behavior on the sphinx rendered scikit-learn.org. See: https://github.com/scikit-learn/scikit-learn/issues/21755 */display: inline-block !important;position: relative;}#sk-container-id-3 div.sk-text-repr-fallback {display: none;}</style><div id=\"sk-container-id-3\" class=\"sk-top-container\"><div class=\"sk-text-repr-fallback\"><pre>Pipeline(steps=[(&#x27;data_preprocessing&#x27;,\n",
              "                 ColumnTransformer(transformers=[(&#x27;text_pre_0&#x27;,\n",
              "                                                  Pipeline(steps=[(&#x27;text_vect_0&#x27;,\n",
              "                                                                   CountVectorizer(binary=True,\n",
              "                                                                                   max_features=150))]),\n",
              "                                                  &#x27;tweet&#x27;)])),\n",
              "                (&#x27;logistic_regression&#x27;,\n",
              "                 LogisticRegression(C=0.1,\n",
              "                                    class_weight={-1: 1.5871410908756571,\n",
              "                                                  0: 1.0178173546589209,\n",
              "                                                  1: 0.7207509811936061},\n",
              "                                    max_iter=1000, solver=&#x27;saga&#x27;))])</pre><b>In a Jupyter environment, please rerun this cell to show the HTML representation or trust the notebook. <br />On GitHub, the HTML representation is unable to render, please try loading this page with nbviewer.org.</b></div><div class=\"sk-container\" hidden><div class=\"sk-item sk-dashed-wrapped\"><div class=\"sk-label-container\"><div class=\"sk-label sk-toggleable\"><input class=\"sk-toggleable__control sk-hidden--visually\" id=\"sk-estimator-id-11\" type=\"checkbox\" ><label for=\"sk-estimator-id-11\" class=\"sk-toggleable__label sk-toggleable__label-arrow\">Pipeline</label><div class=\"sk-toggleable__content\"><pre>Pipeline(steps=[(&#x27;data_preprocessing&#x27;,\n",
              "                 ColumnTransformer(transformers=[(&#x27;text_pre_0&#x27;,\n",
              "                                                  Pipeline(steps=[(&#x27;text_vect_0&#x27;,\n",
              "                                                                   CountVectorizer(binary=True,\n",
              "                                                                                   max_features=150))]),\n",
              "                                                  &#x27;tweet&#x27;)])),\n",
              "                (&#x27;logistic_regression&#x27;,\n",
              "                 LogisticRegression(C=0.1,\n",
              "                                    class_weight={-1: 1.5871410908756571,\n",
              "                                                  0: 1.0178173546589209,\n",
              "                                                  1: 0.7207509811936061},\n",
              "                                    max_iter=1000, solver=&#x27;saga&#x27;))])</pre></div></div></div><div class=\"sk-serial\"><div class=\"sk-item sk-dashed-wrapped\"><div class=\"sk-label-container\"><div class=\"sk-label sk-toggleable\"><input class=\"sk-toggleable__control sk-hidden--visually\" id=\"sk-estimator-id-12\" type=\"checkbox\" ><label for=\"sk-estimator-id-12\" class=\"sk-toggleable__label sk-toggleable__label-arrow\">data_preprocessing: ColumnTransformer</label><div class=\"sk-toggleable__content\"><pre>ColumnTransformer(transformers=[(&#x27;text_pre_0&#x27;,\n",
              "                                 Pipeline(steps=[(&#x27;text_vect_0&#x27;,\n",
              "                                                  CountVectorizer(binary=True,\n",
              "                                                                  max_features=150))]),\n",
              "                                 &#x27;tweet&#x27;)])</pre></div></div></div><div class=\"sk-parallel\"><div class=\"sk-parallel-item\"><div class=\"sk-item\"><div class=\"sk-label-container\"><div class=\"sk-label sk-toggleable\"><input class=\"sk-toggleable__control sk-hidden--visually\" id=\"sk-estimator-id-13\" type=\"checkbox\" ><label for=\"sk-estimator-id-13\" class=\"sk-toggleable__label sk-toggleable__label-arrow\">text_pre_0</label><div class=\"sk-toggleable__content\"><pre>tweet</pre></div></div></div><div class=\"sk-serial\"><div class=\"sk-item\"><div class=\"sk-serial\"><div class=\"sk-item\"><div class=\"sk-estimator sk-toggleable\"><input class=\"sk-toggleable__control sk-hidden--visually\" id=\"sk-estimator-id-14\" type=\"checkbox\" ><label for=\"sk-estimator-id-14\" class=\"sk-toggleable__label sk-toggleable__label-arrow\">CountVectorizer</label><div class=\"sk-toggleable__content\"><pre>CountVectorizer(binary=True, max_features=150)</pre></div></div></div></div></div></div></div></div></div></div><div class=\"sk-item\"><div class=\"sk-estimator sk-toggleable\"><input class=\"sk-toggleable__control sk-hidden--visually\" id=\"sk-estimator-id-15\" type=\"checkbox\" ><label for=\"sk-estimator-id-15\" class=\"sk-toggleable__label sk-toggleable__label-arrow\">LogisticRegression</label><div class=\"sk-toggleable__content\"><pre>LogisticRegression(C=0.1,\n",
              "                   class_weight={-1: 1.5871410908756571, 0: 1.0178173546589209,\n",
              "                                 1: 0.7207509811936061},\n",
              "                   max_iter=1000, solver=&#x27;saga&#x27;)</pre></div></div></div></div></div></div></div>"
            ],
            "text/plain": [
              "Pipeline(steps=[('data_preprocessing',\n",
              "                 ColumnTransformer(transformers=[('text_pre_0',\n",
              "                                                  Pipeline(steps=[('text_vect_0',\n",
              "                                                                   CountVectorizer(binary=True,\n",
              "                                                                                   max_features=150))]),\n",
              "                                                  'tweet')])),\n",
              "                ('logistic_regression',\n",
              "                 LogisticRegression(C=0.1,\n",
              "                                    class_weight={-1: 1.5871410908756571,\n",
              "                                                  0: 1.0178173546589209,\n",
              "                                                  1: 0.7207509811936061},\n",
              "                                    max_iter=1000, solver='saga'))])"
            ]
          },
          "execution_count": 11,
          "metadata": {},
          "output_type": "execute_result"
        }
      ],
      "source": [
        "# Fit the Pipeline to training data\n",
        "pipeline.fit(X_train, y_train.values)"
      ]
    },
    {
      "cell_type": "code",
      "execution_count": null,
      "metadata": {
        "colab": {
          "base_uri": "https://localhost:8080/"
        },
        "id": "HDBQrvEz2tUg",
        "outputId": "ad6dad70-5169-4b28-c984-4991bdd7a054"
      },
      "outputs": [
        {
          "name": "stdout",
          "output_type": "stream",
          "text": [
            "[[14743 13747  5813]\n",
            " [ 8499 42911  2022]\n",
            " [ 9178 16414 50665]]\n",
            "              precision    recall  f1-score   support\n",
            "\n",
            "          -1       0.45      0.43      0.44     34303\n",
            "           0       0.59      0.80      0.68     53432\n",
            "           1       0.87      0.66      0.75     76257\n",
            "\n",
            "    accuracy                           0.66    163992\n",
            "   macro avg       0.64      0.63      0.62    163992\n",
            "weighted avg       0.69      0.66      0.66    163992\n",
            "\n",
            "Accuracy (validation): 0.660513927508659\n"
          ]
        }
      ],
      "source": [
        "from sklearn.metrics import confusion_matrix, classification_report, accuracy_score\n",
        "\n",
        "# Predict the categories of the testing set tweets\n",
        "test_predictions = pipeline.predict(X_test)\n",
        "\n",
        "# Printing the Confusion Matrix\n",
        "print(confusion_matrix(y_test.values, test_predictions))\n",
        "\n",
        "# Printing the Classification Report\n",
        "print(classification_report(y_test.values, test_predictions))\n",
        "\n",
        "# Calculating and Printing the Accuracy\n",
        "print(\"Accuracy (validation):\", accuracy_score(y_test.values, test_predictions))"
      ]
    },
    {
      "cell_type": "code",
      "execution_count": null,
      "metadata": {
        "colab": {
          "base_uri": "https://localhost:8080/",
          "height": 564
        },
        "id": "oxU6QjCx2vm7",
        "outputId": "88bda61c-0fc3-4f4c-91f0-9346e2301b05"
      },
      "outputs": [
        {
          "data": {
            "image/png": "[encoded data removed]",
            "text/plain": [
              "<Figure size 800x600 with 1 Axes>"
            ]
          },
          "metadata": {},
          "output_type": "display_data"
        }
      ],
      "source": [
        "import seaborn as sns\n",
        "import matplotlib.pyplot as plt\n",
        "cm_1 = confusion_matrix(y_test.values, test_predictions)\n",
        "\n",
        "def plot_confusion_matrix(conf_matrix, title='Confusion Matrix'):\n",
        "    plt.figure(figsize=(8, 6))\n",
        "    sns.heatmap(cm_1, annot=True, fmt='g', cmap='Blues', cbar=False,\n",
        "                xticklabels=['negative', 'neutral', 'positive'],\n",
        "                yticklabels=['negative', 'neutral', 'positive'])\n",
        "    plt.xlabel('Predicted labels')\n",
        "    plt.ylabel('True labels')\n",
        "    plt.title(title)\n",
        "    plt.show()\n",
        "\n",
        "# Plotting the confusion matrices\n",
        "plot_confusion_matrix(cm_1, title='LR Confusion Matrix')"
      ]
    },
    {
      "cell_type": "markdown",
      "metadata": {
        "id": "2ne0_ohaYuSW"
      },
      "source": [
        "## Gradient Boosting Model"
      ]
    },
    {
      "cell_type": "code",
      "execution_count": null,
      "metadata": {
        "id": "nU3slp68Yxox"
      },
      "outputs": [],
      "source": [
        "#Gradient Boosting pipeline\n",
        "gb_pipeline = Pipeline([\n",
        "    ('data_preprocessing', data_preprocessor),\n",
        "    ('gb', GradientBoostingClassifier(n_estimators=100, learning_rate=0.1, max_depth=3, random_state=42))\n",
        "])"
      ]
    },
    {
      "cell_type": "code",
      "execution_count": null,
      "metadata": {
        "colab": {
          "base_uri": "https://localhost:8080/",
          "height": 192
        },
        "id": "zqD8koeSbaky",
        "outputId": "042bee3d-0dfa-4b01-87cd-afd18becb751"
      },
      "outputs": [
        {
          "data": {
            "text/html": [
              "<style>#sk-container-id-6 {color: black;background-color: white;}#sk-container-id-6 pre{padding: 0;}#sk-container-id-6 div.sk-toggleable {background-color: white;}#sk-container-id-6 label.sk-toggleable__label {cursor: pointer;display: block;width: 100%;margin-bottom: 0;padding: 0.3em;box-sizing: border-box;text-align: center;}#sk-container-id-6 label.sk-toggleable__label-arrow:before {content: \"▸\";float: left;margin-right: 0.25em;color: #696969;}#sk-container-id-6 label.sk-toggleable__label-arrow:hover:before {color: black;}#sk-container-id-6 div.sk-estimator:hover label.sk-toggleable__label-arrow:before {color: black;}#sk-container-id-6 div.sk-toggleable__content {max-height: 0;max-width: 0;overflow: hidden;text-align: left;background-color: #f0f8ff;}#sk-container-id-6 div.sk-toggleable__content pre {margin: 0.2em;color: black;border-radius: 0.25em;background-color: #f0f8ff;}#sk-container-id-6 input.sk-toggleable__control:checked~div.sk-toggleable__content {max-height: 200px;max-width: 100%;overflow: auto;}#sk-container-id-6 input.sk-toggleable__control:checked~label.sk-toggleable__label-arrow:before {content: \"▾\";}#sk-container-id-6 div.sk-estimator input.sk-toggleable__control:checked~label.sk-toggleable__label {background-color: #d4ebff;}#sk-container-id-6 div.sk-label input.sk-toggleable__control:checked~label.sk-toggleable__label {background-color: #d4ebff;}#sk-container-id-6 input.sk-hidden--visually {border: 0;clip: rect(1px 1px 1px 1px);clip: rect(1px, 1px, 1px, 1px);height: 1px;margin: -1px;overflow: hidden;padding: 0;position: absolute;width: 1px;}#sk-container-id-6 div.sk-estimator {font-family: monospace;background-color: #f0f8ff;border: 1px dotted black;border-radius: 0.25em;box-sizing: border-box;margin-bottom: 0.5em;}#sk-container-id-6 div.sk-estimator:hover {background-color: #d4ebff;}#sk-container-id-6 div.sk-parallel-item::after {content: \"\";width: 100%;border-bottom: 1px solid gray;flex-grow: 1;}#sk-container-id-6 div.sk-label:hover label.sk-toggleable__label {background-color: #d4ebff;}#sk-container-id-6 div.sk-serial::before {content: \"\";position: absolute;border-left: 1px solid gray;box-sizing: border-box;top: 0;bottom: 0;left: 50%;z-index: 0;}#sk-container-id-6 div.sk-serial {display: flex;flex-direction: column;align-items: center;background-color: white;padding-right: 0.2em;padding-left: 0.2em;position: relative;}#sk-container-id-6 div.sk-item {position: relative;z-index: 1;}#sk-container-id-6 div.sk-parallel {display: flex;align-items: stretch;justify-content: center;background-color: white;position: relative;}#sk-container-id-6 div.sk-item::before, #sk-container-id-6 div.sk-parallel-item::before {content: \"\";position: absolute;border-left: 1px solid gray;box-sizing: border-box;top: 0;bottom: 0;left: 50%;z-index: -1;}#sk-container-id-6 div.sk-parallel-item {display: flex;flex-direction: column;z-index: 1;position: relative;background-color: white;}#sk-container-id-6 div.sk-parallel-item:first-child::after {align-self: flex-end;width: 50%;}#sk-container-id-6 div.sk-parallel-item:last-child::after {align-self: flex-start;width: 50%;}#sk-container-id-6 div.sk-parallel-item:only-child::after {width: 0;}#sk-container-id-6 div.sk-dashed-wrapped {border: 1px dashed gray;margin: 0 0.4em 0.5em 0.4em;box-sizing: border-box;padding-bottom: 0.4em;background-color: white;}#sk-container-id-6 div.sk-label label {font-family: monospace;font-weight: bold;display: inline-block;line-height: 1.2em;}#sk-container-id-6 div.sk-label-container {text-align: center;}#sk-container-id-6 div.sk-container {/* jupyter's `normalize.less` sets `[hidden] { display: none; }` but bootstrap.min.css set `[hidden] { display: none !important; }` so we also need the `!important` here to be able to override the default hidden behavior on the sphinx rendered scikit-learn.org. See: https://github.com/scikit-learn/scikit-learn/issues/21755 */display: inline-block !important;position: relative;}#sk-container-id-6 div.sk-text-repr-fallback {display: none;}</style><div id=\"sk-container-id-6\" class=\"sk-top-container\"><div class=\"sk-text-repr-fallback\"><pre>Pipeline(steps=[(&#x27;data_preprocessing&#x27;,\n",
              "                 ColumnTransformer(transformers=[(&#x27;text_pre_0&#x27;,\n",
              "                                                  Pipeline(steps=[(&#x27;text_vect_0&#x27;,\n",
              "                                                                   TfidfVectorizer(max_features=2500))]),\n",
              "                                                  &#x27;tweet&#x27;)])),\n",
              "                (&#x27;gb&#x27;, GradientBoostingClassifier(random_state=42))])</pre><b>In a Jupyter environment, please rerun this cell to show the HTML representation or trust the notebook. <br />On GitHub, the HTML representation is unable to render, please try loading this page with nbviewer.org.</b></div><div class=\"sk-container\" hidden><div class=\"sk-item sk-dashed-wrapped\"><div class=\"sk-label-container\"><div class=\"sk-label sk-toggleable\"><input class=\"sk-toggleable__control sk-hidden--visually\" id=\"sk-estimator-id-26\" type=\"checkbox\" ><label for=\"sk-estimator-id-26\" class=\"sk-toggleable__label sk-toggleable__label-arrow\">Pipeline</label><div class=\"sk-toggleable__content\"><pre>Pipeline(steps=[(&#x27;data_preprocessing&#x27;,\n",
              "                 ColumnTransformer(transformers=[(&#x27;text_pre_0&#x27;,\n",
              "                                                  Pipeline(steps=[(&#x27;text_vect_0&#x27;,\n",
              "                                                                   TfidfVectorizer(max_features=2500))]),\n",
              "                                                  &#x27;tweet&#x27;)])),\n",
              "                (&#x27;gb&#x27;, GradientBoostingClassifier(random_state=42))])</pre></div></div></div><div class=\"sk-serial\"><div class=\"sk-item sk-dashed-wrapped\"><div class=\"sk-label-container\"><div class=\"sk-label sk-toggleable\"><input class=\"sk-toggleable__control sk-hidden--visually\" id=\"sk-estimator-id-27\" type=\"checkbox\" ><label for=\"sk-estimator-id-27\" class=\"sk-toggleable__label sk-toggleable__label-arrow\">data_preprocessing: ColumnTransformer</label><div class=\"sk-toggleable__content\"><pre>ColumnTransformer(transformers=[(&#x27;text_pre_0&#x27;,\n",
              "                                 Pipeline(steps=[(&#x27;text_vect_0&#x27;,\n",
              "                                                  TfidfVectorizer(max_features=2500))]),\n",
              "                                 &#x27;tweet&#x27;)])</pre></div></div></div><div class=\"sk-parallel\"><div class=\"sk-parallel-item\"><div class=\"sk-item\"><div class=\"sk-label-container\"><div class=\"sk-label sk-toggleable\"><input class=\"sk-toggleable__control sk-hidden--visually\" id=\"sk-estimator-id-28\" type=\"checkbox\" ><label for=\"sk-estimator-id-28\" class=\"sk-toggleable__label sk-toggleable__label-arrow\">text_pre_0</label><div class=\"sk-toggleable__content\"><pre>tweet</pre></div></div></div><div class=\"sk-serial\"><div class=\"sk-item\"><div class=\"sk-serial\"><div class=\"sk-item\"><div class=\"sk-estimator sk-toggleable\"><input class=\"sk-toggleable__control sk-hidden--visually\" id=\"sk-estimator-id-29\" type=\"checkbox\" ><label for=\"sk-estimator-id-29\" class=\"sk-toggleable__label sk-toggleable__label-arrow\">TfidfVectorizer</label><div class=\"sk-toggleable__content\"><pre>TfidfVectorizer(max_features=2500)</pre></div></div></div></div></div></div></div></div></div></div><div class=\"sk-item\"><div class=\"sk-estimator sk-toggleable\"><input class=\"sk-toggleable__control sk-hidden--visually\" id=\"sk-estimator-id-30\" type=\"checkbox\" ><label for=\"sk-estimator-id-30\" class=\"sk-toggleable__label sk-toggleable__label-arrow\">GradientBoostingClassifier</label><div class=\"sk-toggleable__content\"><pre>GradientBoostingClassifier(random_state=42)</pre></div></div></div></div></div></div></div>"
            ],
            "text/plain": [
              "Pipeline(steps=[('data_preprocessing',\n",
              "                 ColumnTransformer(transformers=[('text_pre_0',\n",
              "                                                  Pipeline(steps=[('text_vect_0',\n",
              "                                                                   TfidfVectorizer(max_features=2500))]),\n",
              "                                                  'tweet')])),\n",
              "                ('gb', GradientBoostingClassifier(random_state=42))])"
            ]
          },
          "execution_count": 24,
          "metadata": {},
          "output_type": "execute_result"
        }
      ],
      "source": [
        "# Fit the pipeline to your training data\n",
        "gb_pipeline.fit(X_train, y_train)"
      ]
    },
    {
      "cell_type": "code",
      "execution_count": null,
      "metadata": {
        "colab": {
          "base_uri": "https://localhost:8080/"
        },
        "id": "L5SvJB1mbRgG",
        "outputId": "54239ee7-f218-42d6-8f30-59b7eb1cd99b"
      },
      "outputs": [
        {
          "name": "stdout",
          "output_type": "stream",
          "text": [
            "[[11927 14261  8115]\n",
            " [ 1036 48167  4229]\n",
            " [ 2107 14971 59179]]\n",
            "              precision    recall  f1-score   support\n",
            "\n",
            "          -1       0.79      0.35      0.48     34303\n",
            "           0       0.62      0.90      0.74     53432\n",
            "           1       0.83      0.78      0.80     76257\n",
            "\n",
            "    accuracy                           0.73    163992\n",
            "   macro avg       0.75      0.68      0.67    163992\n",
            "weighted avg       0.75      0.73      0.71    163992\n",
            "\n",
            "Accuracy (validation): 0.7273098687740865\n"
          ]
        }
      ],
      "source": [
        "# Predict the categories of the testing set tweets\n",
        "test_predictions = gb_pipeline.predict(X_test)\n",
        "\n",
        "# Printing the Confusion Matrix\n",
        "print(confusion_matrix(y_test.values, test_predictions))\n",
        "\n",
        "# Printing the Classification Report\n",
        "print(classification_report(y_test.values, test_predictions))\n",
        "\n",
        "# Calculating and Printing the Accuracy\n",
        "print(\"Accuracy (validation):\", accuracy_score(y_test.values, test_predictions))"
      ]
    },
    {
      "cell_type": "markdown",
      "metadata": {
        "id": "kUsFZfcz4630"
      },
      "source": [
        "## KNN Model"
      ]
    },
    {
      "cell_type": "code",
      "execution_count": null,
      "metadata": {
        "colab": {
          "base_uri": "https://localhost:8080/",
          "height": 192
        },
        "id": "DBhkBg7J48kS",
        "outputId": "928931dc-5aae-4901-db9e-56151aa4ab2e"
      },
      "outputs": [
        {
          "data": {
            "text/html": [
              "<style>#sk-container-id-4 {color: black;background-color: white;}#sk-container-id-4 pre{padding: 0;}#sk-container-id-4 div.sk-toggleable {background-color: white;}#sk-container-id-4 label.sk-toggleable__label {cursor: pointer;display: block;width: 100%;margin-bottom: 0;padding: 0.3em;box-sizing: border-box;text-align: center;}#sk-container-id-4 label.sk-toggleable__label-arrow:before {content: \"▸\";float: left;margin-right: 0.25em;color: #696969;}#sk-container-id-4 label.sk-toggleable__label-arrow:hover:before {color: black;}#sk-container-id-4 div.sk-estimator:hover label.sk-toggleable__label-arrow:before {color: black;}#sk-container-id-4 div.sk-toggleable__content {max-height: 0;max-width: 0;overflow: hidden;text-align: left;background-color: #f0f8ff;}#sk-container-id-4 div.sk-toggleable__content pre {margin: 0.2em;color: black;border-radius: 0.25em;background-color: #f0f8ff;}#sk-container-id-4 input.sk-toggleable__control:checked~div.sk-toggleable__content {max-height: 200px;max-width: 100%;overflow: auto;}#sk-container-id-4 input.sk-toggleable__control:checked~label.sk-toggleable__label-arrow:before {content: \"▾\";}#sk-container-id-4 div.sk-estimator input.sk-toggleable__control:checked~label.sk-toggleable__label {background-color: #d4ebff;}#sk-container-id-4 div.sk-label input.sk-toggleable__control:checked~label.sk-toggleable__label {background-color: #d4ebff;}#sk-container-id-4 input.sk-hidden--visually {border: 0;clip: rect(1px 1px 1px 1px);clip: rect(1px, 1px, 1px, 1px);height: 1px;margin: -1px;overflow: hidden;padding: 0;position: absolute;width: 1px;}#sk-container-id-4 div.sk-estimator {font-family: monospace;background-color: #f0f8ff;border: 1px dotted black;border-radius: 0.25em;box-sizing: border-box;margin-bottom: 0.5em;}#sk-container-id-4 div.sk-estimator:hover {background-color: #d4ebff;}#sk-container-id-4 div.sk-parallel-item::after {content: \"\";width: 100%;border-bottom: 1px solid gray;flex-grow: 1;}#sk-container-id-4 div.sk-label:hover label.sk-toggleable__label {background-color: #d4ebff;}#sk-container-id-4 div.sk-serial::before {content: \"\";position: absolute;border-left: 1px solid gray;box-sizing: border-box;top: 0;bottom: 0;left: 50%;z-index: 0;}#sk-container-id-4 div.sk-serial {display: flex;flex-direction: column;align-items: center;background-color: white;padding-right: 0.2em;padding-left: 0.2em;position: relative;}#sk-container-id-4 div.sk-item {position: relative;z-index: 1;}#sk-container-id-4 div.sk-parallel {display: flex;align-items: stretch;justify-content: center;background-color: white;position: relative;}#sk-container-id-4 div.sk-item::before, #sk-container-id-4 div.sk-parallel-item::before {content: \"\";position: absolute;border-left: 1px solid gray;box-sizing: border-box;top: 0;bottom: 0;left: 50%;z-index: -1;}#sk-container-id-4 div.sk-parallel-item {display: flex;flex-direction: column;z-index: 1;position: relative;background-color: white;}#sk-container-id-4 div.sk-parallel-item:first-child::after {align-self: flex-end;width: 50%;}#sk-container-id-4 div.sk-parallel-item:last-child::after {align-self: flex-start;width: 50%;}#sk-container-id-4 div.sk-parallel-item:only-child::after {width: 0;}#sk-container-id-4 div.sk-dashed-wrapped {border: 1px dashed gray;margin: 0 0.4em 0.5em 0.4em;box-sizing: border-box;padding-bottom: 0.4em;background-color: white;}#sk-container-id-4 div.sk-label label {font-family: monospace;font-weight: bold;display: inline-block;line-height: 1.2em;}#sk-container-id-4 div.sk-label-container {text-align: center;}#sk-container-id-4 div.sk-container {/* jupyter's `normalize.less` sets `[hidden] { display: none; }` but bootstrap.min.css set `[hidden] { display: none !important; }` so we also need the `!important` here to be able to override the default hidden behavior on the sphinx rendered scikit-learn.org. See: https://github.com/scikit-learn/scikit-learn/issues/21755 */display: inline-block !important;position: relative;}#sk-container-id-4 div.sk-text-repr-fallback {display: none;}</style><div id=\"sk-container-id-4\" class=\"sk-top-container\"><div class=\"sk-text-repr-fallback\"><pre>Pipeline(steps=[(&#x27;data_preprocessing&#x27;,\n",
              "                 ColumnTransformer(transformers=[(&#x27;text_pre_0&#x27;,\n",
              "                                                  Pipeline(steps=[(&#x27;text_vect_0&#x27;,\n",
              "                                                                   CountVectorizer(binary=True,\n",
              "                                                                                   max_features=150))]),\n",
              "                                                  &#x27;tweet&#x27;)])),\n",
              "                (&#x27;knn&#x27;, KNeighborsClassifier())])</pre><b>In a Jupyter environment, please rerun this cell to show the HTML representation or trust the notebook. <br />On GitHub, the HTML representation is unable to render, please try loading this page with nbviewer.org.</b></div><div class=\"sk-container\" hidden><div class=\"sk-item sk-dashed-wrapped\"><div class=\"sk-label-container\"><div class=\"sk-label sk-toggleable\"><input class=\"sk-toggleable__control sk-hidden--visually\" id=\"sk-estimator-id-16\" type=\"checkbox\" ><label for=\"sk-estimator-id-16\" class=\"sk-toggleable__label sk-toggleable__label-arrow\">Pipeline</label><div class=\"sk-toggleable__content\"><pre>Pipeline(steps=[(&#x27;data_preprocessing&#x27;,\n",
              "                 ColumnTransformer(transformers=[(&#x27;text_pre_0&#x27;,\n",
              "                                                  Pipeline(steps=[(&#x27;text_vect_0&#x27;,\n",
              "                                                                   CountVectorizer(binary=True,\n",
              "                                                                                   max_features=150))]),\n",
              "                                                  &#x27;tweet&#x27;)])),\n",
              "                (&#x27;knn&#x27;, KNeighborsClassifier())])</pre></div></div></div><div class=\"sk-serial\"><div class=\"sk-item sk-dashed-wrapped\"><div class=\"sk-label-container\"><div class=\"sk-label sk-toggleable\"><input class=\"sk-toggleable__control sk-hidden--visually\" id=\"sk-estimator-id-17\" type=\"checkbox\" ><label for=\"sk-estimator-id-17\" class=\"sk-toggleable__label sk-toggleable__label-arrow\">data_preprocessing: ColumnTransformer</label><div class=\"sk-toggleable__content\"><pre>ColumnTransformer(transformers=[(&#x27;text_pre_0&#x27;,\n",
              "                                 Pipeline(steps=[(&#x27;text_vect_0&#x27;,\n",
              "                                                  CountVectorizer(binary=True,\n",
              "                                                                  max_features=150))]),\n",
              "                                 &#x27;tweet&#x27;)])</pre></div></div></div><div class=\"sk-parallel\"><div class=\"sk-parallel-item\"><div class=\"sk-item\"><div class=\"sk-label-container\"><div class=\"sk-label sk-toggleable\"><input class=\"sk-toggleable__control sk-hidden--visually\" id=\"sk-estimator-id-18\" type=\"checkbox\" ><label for=\"sk-estimator-id-18\" class=\"sk-toggleable__label sk-toggleable__label-arrow\">text_pre_0</label><div class=\"sk-toggleable__content\"><pre>tweet</pre></div></div></div><div class=\"sk-serial\"><div class=\"sk-item\"><div class=\"sk-serial\"><div class=\"sk-item\"><div class=\"sk-estimator sk-toggleable\"><input class=\"sk-toggleable__control sk-hidden--visually\" id=\"sk-estimator-id-19\" type=\"checkbox\" ><label for=\"sk-estimator-id-19\" class=\"sk-toggleable__label sk-toggleable__label-arrow\">CountVectorizer</label><div class=\"sk-toggleable__content\"><pre>CountVectorizer(binary=True, max_features=150)</pre></div></div></div></div></div></div></div></div></div></div><div class=\"sk-item\"><div class=\"sk-estimator sk-toggleable\"><input class=\"sk-toggleable__control sk-hidden--visually\" id=\"sk-estimator-id-20\" type=\"checkbox\" ><label for=\"sk-estimator-id-20\" class=\"sk-toggleable__label sk-toggleable__label-arrow\">KNeighborsClassifier</label><div class=\"sk-toggleable__content\"><pre>KNeighborsClassifier()</pre></div></div></div></div></div></div></div>"
            ],
            "text/plain": [
              "Pipeline(steps=[('data_preprocessing',\n",
              "                 ColumnTransformer(transformers=[('text_pre_0',\n",
              "                                                  Pipeline(steps=[('text_vect_0',\n",
              "                                                                   CountVectorizer(binary=True,\n",
              "                                                                                   max_features=150))]),\n",
              "                                                  'tweet')])),\n",
              "                ('knn', KNeighborsClassifier())])"
            ]
          },
          "execution_count": 14,
          "metadata": {},
          "output_type": "execute_result"
        }
      ],
      "source": [
        "from sklearn.neighbors import KNeighborsClassifier\n",
        "\n",
        "knn_pipeline = Pipeline([\n",
        "    ('data_preprocessing', data_preprocessor),\n",
        "    ('knn', KNeighborsClassifier(n_neighbors=5))\n",
        "])\n",
        "\n",
        "# Fit the KNN pipeline to the training data\n",
        "knn_pipeline.fit(X_train, y_train)"
      ]
    },
    {
      "cell_type": "code",
      "execution_count": null,
      "metadata": {
        "colab": {
          "base_uri": "https://localhost:8080/"
        },
        "id": "A92KCoMi5Aah",
        "outputId": "20e0c9d4-4806-4743-8ed1-f5b2154ee291"
      },
      "outputs": [
        {
          "name": "stdout",
          "output_type": "stream",
          "text": [
            "[[19234  9229  5840]\n",
            " [15213 34311  3908]\n",
            " [11261 11239 53757]]\n",
            "              precision    recall  f1-score   support\n",
            "\n",
            "          -1       0.42      0.56      0.48     34303\n",
            "           0       0.63      0.64      0.63     53432\n",
            "           1       0.85      0.70      0.77     76257\n",
            "\n",
            "    accuracy                           0.65    163992\n",
            "   macro avg       0.63      0.64      0.63    163992\n",
            "weighted avg       0.69      0.65      0.66    163992\n",
            "\n",
            "Accuracy (validation): 0.6543124054831942\n"
          ]
        }
      ],
      "source": [
        "# Predict the categories of the testing set tweets\n",
        "test_predictions = knn_pipeline.predict(X_test)\n",
        "\n",
        "# Printing the Confusion Matrix\n",
        "print(confusion_matrix(y_test.values, test_predictions))\n",
        "\n",
        "# Printing the Classification Report\n",
        "print(classification_report(y_test.values, test_predictions))\n",
        "\n",
        "# Calculating and Printing the Accuracy\n",
        "print(\"Accuracy (validation):\", accuracy_score(y_test.values, test_predictions))"
      ]
    },
    {
      "cell_type": "markdown",
      "metadata": {
        "id": "XjwJWcv15bF0"
      },
      "source": [
        "## Random Forest Model"
      ]
    },
    {
      "cell_type": "code",
      "execution_count": null,
      "metadata": {
        "colab": {
          "base_uri": "https://localhost:8080/",
          "height": 192
        },
        "id": "QJx0p-7p5d2R",
        "outputId": "d748872b-5dd6-40ac-bcd7-c8718781a02e"
      },
      "outputs": [
        {
          "data": {
            "text/html": [
              "<style>#sk-container-id-6 {color: black;background-color: white;}#sk-container-id-6 pre{padding: 0;}#sk-container-id-6 div.sk-toggleable {background-color: white;}#sk-container-id-6 label.sk-toggleable__label {cursor: pointer;display: block;width: 100%;margin-bottom: 0;padding: 0.3em;box-sizing: border-box;text-align: center;}#sk-container-id-6 label.sk-toggleable__label-arrow:before {content: \"▸\";float: left;margin-right: 0.25em;color: #696969;}#sk-container-id-6 label.sk-toggleable__label-arrow:hover:before {color: black;}#sk-container-id-6 div.sk-estimator:hover label.sk-toggleable__label-arrow:before {color: black;}#sk-container-id-6 div.sk-toggleable__content {max-height: 0;max-width: 0;overflow: hidden;text-align: left;background-color: #f0f8ff;}#sk-container-id-6 div.sk-toggleable__content pre {margin: 0.2em;color: black;border-radius: 0.25em;background-color: #f0f8ff;}#sk-container-id-6 input.sk-toggleable__control:checked~div.sk-toggleable__content {max-height: 200px;max-width: 100%;overflow: auto;}#sk-container-id-6 input.sk-toggleable__control:checked~label.sk-toggleable__label-arrow:before {content: \"▾\";}#sk-container-id-6 div.sk-estimator input.sk-toggleable__control:checked~label.sk-toggleable__label {background-color: #d4ebff;}#sk-container-id-6 div.sk-label input.sk-toggleable__control:checked~label.sk-toggleable__label {background-color: #d4ebff;}#sk-container-id-6 input.sk-hidden--visually {border: 0;clip: rect(1px 1px 1px 1px);clip: rect(1px, 1px, 1px, 1px);height: 1px;margin: -1px;overflow: hidden;padding: 0;position: absolute;width: 1px;}#sk-container-id-6 div.sk-estimator {font-family: monospace;background-color: #f0f8ff;border: 1px dotted black;border-radius: 0.25em;box-sizing: border-box;margin-bottom: 0.5em;}#sk-container-id-6 div.sk-estimator:hover {background-color: #d4ebff;}#sk-container-id-6 div.sk-parallel-item::after {content: \"\";width: 100%;border-bottom: 1px solid gray;flex-grow: 1;}#sk-container-id-6 div.sk-label:hover label.sk-toggleable__label {background-color: #d4ebff;}#sk-container-id-6 div.sk-serial::before {content: \"\";position: absolute;border-left: 1px solid gray;box-sizing: border-box;top: 0;bottom: 0;left: 50%;z-index: 0;}#sk-container-id-6 div.sk-serial {display: flex;flex-direction: column;align-items: center;background-color: white;padding-right: 0.2em;padding-left: 0.2em;position: relative;}#sk-container-id-6 div.sk-item {position: relative;z-index: 1;}#sk-container-id-6 div.sk-parallel {display: flex;align-items: stretch;justify-content: center;background-color: white;position: relative;}#sk-container-id-6 div.sk-item::before, #sk-container-id-6 div.sk-parallel-item::before {content: \"\";position: absolute;border-left: 1px solid gray;box-sizing: border-box;top: 0;bottom: 0;left: 50%;z-index: -1;}#sk-container-id-6 div.sk-parallel-item {display: flex;flex-direction: column;z-index: 1;position: relative;background-color: white;}#sk-container-id-6 div.sk-parallel-item:first-child::after {align-self: flex-end;width: 50%;}#sk-container-id-6 div.sk-parallel-item:last-child::after {align-self: flex-start;width: 50%;}#sk-container-id-6 div.sk-parallel-item:only-child::after {width: 0;}#sk-container-id-6 div.sk-dashed-wrapped {border: 1px dashed gray;margin: 0 0.4em 0.5em 0.4em;box-sizing: border-box;padding-bottom: 0.4em;background-color: white;}#sk-container-id-6 div.sk-label label {font-family: monospace;font-weight: bold;display: inline-block;line-height: 1.2em;}#sk-container-id-6 div.sk-label-container {text-align: center;}#sk-container-id-6 div.sk-container {/* jupyter's `normalize.less` sets `[hidden] { display: none; }` but bootstrap.min.css set `[hidden] { display: none !important; }` so we also need the `!important` here to be able to override the default hidden behavior on the sphinx rendered scikit-learn.org. See: https://github.com/scikit-learn/scikit-learn/issues/21755 */display: inline-block !important;position: relative;}#sk-container-id-6 div.sk-text-repr-fallback {display: none;}</style><div id=\"sk-container-id-6\" class=\"sk-top-container\"><div class=\"sk-text-repr-fallback\"><pre>Pipeline(steps=[(&#x27;data_preprocessing&#x27;,\n",
              "                 ColumnTransformer(transformers=[(&#x27;text_pre_0&#x27;,\n",
              "                                                  Pipeline(steps=[(&#x27;text_vect_0&#x27;,\n",
              "                                                                   CountVectorizer(binary=True,\n",
              "                                                                                   max_features=150))]),\n",
              "                                                  &#x27;tweet&#x27;)])),\n",
              "                (&#x27;random_forest&#x27;,\n",
              "                 RandomForestClassifier(class_weight=&#x27;balanced&#x27;))])</pre><b>In a Jupyter environment, please rerun this cell to show the HTML representation or trust the notebook. <br />On GitHub, the HTML representation is unable to render, please try loading this page with nbviewer.org.</b></div><div class=\"sk-container\" hidden><div class=\"sk-item sk-dashed-wrapped\"><div class=\"sk-label-container\"><div class=\"sk-label sk-toggleable\"><input class=\"sk-toggleable__control sk-hidden--visually\" id=\"sk-estimator-id-26\" type=\"checkbox\" ><label for=\"sk-estimator-id-26\" class=\"sk-toggleable__label sk-toggleable__label-arrow\">Pipeline</label><div class=\"sk-toggleable__content\"><pre>Pipeline(steps=[(&#x27;data_preprocessing&#x27;,\n",
              "                 ColumnTransformer(transformers=[(&#x27;text_pre_0&#x27;,\n",
              "                                                  Pipeline(steps=[(&#x27;text_vect_0&#x27;,\n",
              "                                                                   CountVectorizer(binary=True,\n",
              "                                                                                   max_features=150))]),\n",
              "                                                  &#x27;tweet&#x27;)])),\n",
              "                (&#x27;random_forest&#x27;,\n",
              "                 RandomForestClassifier(class_weight=&#x27;balanced&#x27;))])</pre></div></div></div><div class=\"sk-serial\"><div class=\"sk-item sk-dashed-wrapped\"><div class=\"sk-label-container\"><div class=\"sk-label sk-toggleable\"><input class=\"sk-toggleable__control sk-hidden--visually\" id=\"sk-estimator-id-27\" type=\"checkbox\" ><label for=\"sk-estimator-id-27\" class=\"sk-toggleable__label sk-toggleable__label-arrow\">data_preprocessing: ColumnTransformer</label><div class=\"sk-toggleable__content\"><pre>ColumnTransformer(transformers=[(&#x27;text_pre_0&#x27;,\n",
              "                                 Pipeline(steps=[(&#x27;text_vect_0&#x27;,\n",
              "                                                  CountVectorizer(binary=True,\n",
              "                                                                  max_features=150))]),\n",
              "                                 &#x27;tweet&#x27;)])</pre></div></div></div><div class=\"sk-parallel\"><div class=\"sk-parallel-item\"><div class=\"sk-item\"><div class=\"sk-label-container\"><div class=\"sk-label sk-toggleable\"><input class=\"sk-toggleable__control sk-hidden--visually\" id=\"sk-estimator-id-28\" type=\"checkbox\" ><label for=\"sk-estimator-id-28\" class=\"sk-toggleable__label sk-toggleable__label-arrow\">text_pre_0</label><div class=\"sk-toggleable__content\"><pre>tweet</pre></div></div></div><div class=\"sk-serial\"><div class=\"sk-item\"><div class=\"sk-serial\"><div class=\"sk-item\"><div class=\"sk-estimator sk-toggleable\"><input class=\"sk-toggleable__control sk-hidden--visually\" id=\"sk-estimator-id-29\" type=\"checkbox\" ><label for=\"sk-estimator-id-29\" class=\"sk-toggleable__label sk-toggleable__label-arrow\">CountVectorizer</label><div class=\"sk-toggleable__content\"><pre>CountVectorizer(binary=True, max_features=150)</pre></div></div></div></div></div></div></div></div></div></div><div class=\"sk-item\"><div class=\"sk-estimator sk-toggleable\"><input class=\"sk-toggleable__control sk-hidden--visually\" id=\"sk-estimator-id-30\" type=\"checkbox\" ><label for=\"sk-estimator-id-30\" class=\"sk-toggleable__label sk-toggleable__label-arrow\">RandomForestClassifier</label><div class=\"sk-toggleable__content\"><pre>RandomForestClassifier(class_weight=&#x27;balanced&#x27;)</pre></div></div></div></div></div></div></div>"
            ],
            "text/plain": [
              "Pipeline(steps=[('data_preprocessing',\n",
              "                 ColumnTransformer(transformers=[('text_pre_0',\n",
              "                                                  Pipeline(steps=[('text_vect_0',\n",
              "                                                                   CountVectorizer(binary=True,\n",
              "                                                                                   max_features=150))]),\n",
              "                                                  'tweet')])),\n",
              "                ('random_forest',\n",
              "                 RandomForestClassifier(class_weight='balanced'))])"
            ]
          },
          "execution_count": 23,
          "metadata": {},
          "output_type": "execute_result"
        }
      ],
      "source": [
        "from sklearn.ensemble import RandomForestClassifier\n",
        "\n",
        "rf_pipeline = Pipeline([\n",
        "    ('data_preprocessing', data_preprocessor),\n",
        "    ('random_forest', RandomForestClassifier(n_estimators=100, class_weight='balanced'))\n",
        "])\n",
        "\n",
        "# Fit the Random Forest pipeline to the training data\n",
        "rf_pipeline.fit(X_train, y_train)"
      ]
    },
    {
      "cell_type": "code",
      "execution_count": null,
      "metadata": {
        "colab": {
          "base_uri": "https://localhost:8080/"
        },
        "id": "GeCqMY1n5vsS",
        "outputId": "fce7b4e5-179e-4071-c1b6-7bbe084c6876"
      },
      "outputs": [
        {
          "name": "stdout",
          "output_type": "stream",
          "text": [
            "[[17691 11307  5305]\n",
            " [ 6921 43612  2899]\n",
            " [ 7365 13239 55653]]\n",
            "              precision    recall  f1-score   support\n",
            "\n",
            "          -1       0.55      0.52      0.53     34303\n",
            "           0       0.64      0.82      0.72     53432\n",
            "           1       0.87      0.73      0.79     76257\n",
            "\n",
            "    accuracy                           0.71    163992\n",
            "   macro avg       0.69      0.69      0.68    163992\n",
            "weighted avg       0.73      0.71      0.71    163992\n",
            "\n",
            "Accuracy (validation): 0.7131811307868676\n"
          ]
        }
      ],
      "source": [
        "# Predict the categories of the testing set tweets\n",
        "test_predictions = rf_pipeline.predict(X_test)\n",
        "\n",
        "# Printing the Confusion Matrix\n",
        "print(confusion_matrix(y_test.values, test_predictions))\n",
        "\n",
        "# Printing the Classification Report\n",
        "print(classification_report(y_test.values, test_predictions))\n",
        "\n",
        "# Calculating and Printing the Accuracy\n",
        "print(\"Accuracy (validation):\", accuracy_score(y_test.values, test_predictions))"
      ]
    },
    {
      "cell_type": "markdown",
      "metadata": {
        "id": "fHmO7rTk54re"
      },
      "source": [
        "### Feature Performance"
      ]
    },
    {
      "cell_type": "code",
      "execution_count": null,
      "metadata": {
        "colab": {
          "base_uri": "https://localhost:8080/"
        },
        "id": "2cFOTzSY54H_",
        "outputId": "8cc1aff4-c4d8-45f5-e444-c75353cd1816"
      },
      "outputs": [
        {
          "name": "stdout",
          "output_type": "stream",
          "text": [
            "Feature: pleas, Importance: 0.08725747064626763\n",
            "Feature: like, Importance: 0.031357368777313564\n",
            "Feature: love, Importance: 0.03113878283700322\n",
            "Feature: pay, Importance: 0.027497578409965154\n",
            "Feature: feel, Importance: 0.01747366807740699\n",
            "Feature: good, Importance: 0.017117936265751577\n",
            "Feature: interest, Importance: 0.01521833383061979\n",
            "Feature: thank, Importance: 0.014475620096656115\n",
            "Feature: fuck, Importance: 0.013064285511652715\n",
            "Feature: stop, Importance: 0.012506361669363565\n",
            "Feature: bad, Importance: 0.01206050266010293\n",
            "Feature: shit, Importance: 0.011958256858380374\n",
            "Feature: best, Importance: 0.011459703235111947\n",
            "Feature: not, Importance: 0.011064068670098147\n",
            "Feature: https, Importance: 0.010788347590659473\n",
            "Feature: happi, Importance: 0.010328635579870378\n",
            "Feature: valu, Importance: 0.010094550458625628\n",
            "Feature: top, Importance: 0.009743074139452414\n",
            "Feature: get, Importance: 0.009736333939554073\n",
            "Feature: want, Importance: 0.009532696670775553\n",
            "Feature: promot, Importance: 0.008639077438263589\n",
            "Feature: great, Importance: 0.00842056740841467\n",
            "Feature: better, Importance: 0.008362844243487003\n",
            "Feature: co, Importance: 0.00824039471666595\n",
            "Feature: make, Importance: 0.008239343136885499\n",
            "Feature: money, Importance: 0.00772210638993119\n",
            "Feature: elonmusk, Importance: 0.00758988753121033\n",
            "Feature: need, Importance: 0.007566312419270756\n",
            "Feature: one, Importance: 0.007482586973635336\n",
            "Feature: cost, Importance: 0.00742756896418698\n",
            "Feature: know, Importance: 0.007327918905533499\n",
            "Feature: time, Importance: 0.0073070819999470705\n",
            "Feature: free, Importance: 0.0072847606625626145\n",
            "Feature: charg, Importance: 0.007079462682855657\n",
            "Feature: help, Importance: 0.007010082582723092\n",
            "Feature: fair, Importance: 0.006878777293968701\n",
            "Feature: yes, Importance: 0.0068423007238417885\n",
            "Feature: day, Importance: 0.006842142313317077\n",
            "Feature: win, Importance: 0.006792918628246122\n",
            "Feature: price, Importance: 0.0067701549275076415\n",
            "Feature: twitter, Importance: 0.006594328702319569\n",
            "Feature: new, Importance: 0.006545456467942663\n",
            "Feature: year, Importance: 0.0065210153955462015\n",
            "Feature: see, Importance: 0.006478266804337484\n",
            "Feature: never, Importance: 0.00645713521318233\n",
            "Feature: amp, Importance: 0.006443885468749789\n",
            "Feature: think, Importance: 0.006349748639035643\n",
            "Feature: say, Importance: 0.00629966560736137\n",
            "Feature: high, Importance: 0.006124105937350232\n",
            "Feature: peopl, Importance: 0.0060469038161767305\n",
            "Feature: back, Importance: 0.0058762462015616666\n",
            "Feature: still, Importance: 0.005868433817596139\n",
            "Feature: lol, Importance: 0.005866977721959776\n",
            "Feature: life, Importance: 0.005846882119888427\n",
            "Feature: celebr, Importance: 0.005816746548149487\n",
            "Feature: play, Importance: 0.005723285980753569\n",
            "Feature: come, Importance: 0.0056899513970665675\n",
            "Feature: could, Importance: 0.005677920213126368\n",
            "Feature: got, Importance: 0.005641627498238369\n",
            "Feature: send, Importance: 0.005641320347134296\n",
            "Feature: would, Importance: 0.005606085838315365\n",
            "Feature: market, Importance: 0.005555722608621154\n",
            "Feature: today, Importance: 0.005485490060336849\n",
            "Feature: thing, Importance: 0.005478115986553962\n",
            "Feature: take, Importance: 0.005391727696648181\n",
            "Feature: let, Importance: 0.00537909468597624\n",
            "Feature: use, Importance: 0.005329046632808491\n",
            "Feature: way, Importance: 0.00529298918400469\n",
            "Feature: someon, Importance: 0.00515560873911449\n",
            "Feature: go, Importance: 0.005132280656177811\n",
            "Feature: re, Importance: 0.005122337495858221\n",
            "Feature: hope, Importance: 0.0051196376054335\n",
            "Feature: right, Importance: 0.005118378296803857\n",
            "Feature: well, Importance: 0.005006788054826045\n",
            "Feature: world, Importance: 0.004980407073516953\n",
            "Feature: rate, Importance: 0.004875627233065669\n",
            "Feature: look, Importance: 0.004860357375528212\n",
            "Feature: vote, Importance: 0.004766486923566052\n",
            "Feature: realli, Importance: 0.004753801100850155\n",
            "Feature: work, Importance: 0.004705135652168932\n",
            "Feature: even, Importance: 0.004704385747644071\n",
            "Feature: much, Importance: 0.004683810159328201\n",
            "Feature: billion, Importance: 0.004622233295597326\n",
            "Feature: support, Importance: 0.004615600941629379\n",
            "Feature: keep, Importance: 0.004611793936753189\n",
            "Feature: bill, Importance: 0.004580120976670884\n",
            "Feature: buy, Importance: 0.004572743085704536\n",
            "Feature: week, Importance: 0.00456308507762443\n",
            "Feature: tri, Importance: 0.0045055997350089035\n",
            "Feature: noth, Importance: 0.004497610334230378\n",
            "Feature: show, Importance: 0.004478347648947118\n",
            "Feature: give, Importance: 0.004436630715021101\n",
            "Feature: first, Importance: 0.0043741612456218515\n",
            "Feature: live, Importance: 0.004366179308701254\n",
            "Feature: god, Importance: 0.004349963348951109\n",
            "Feature: someth, Importance: 0.0043212260591097415\n",
            "Feature: watch, Importance: 0.004311699457851925\n",
            "Feature: friend, Importance: 0.004249753403761255\n",
            "Feature: may, Importance: 0.004229037401408042\n",
            "Feature: guy, Importance: 0.004158456081417222\n",
            "Feature: man, Importance: 0.0041425848462744936\n",
            "Feature: sell, Importance: 0.004066879064602553\n",
            "Feature: trump, Importance: 0.0040636061874040445\n",
            "Feature: start, Importance: 0.004062717638939031\n",
            "Feature: share, Importance: 0.004018110322658755\n",
            "Feature: alway, Importance: 0.00399510673791439\n",
            "Feature: everi, Importance: 0.003884244903405671\n",
            "Feature: next, Importance: 0.003857190918717704\n",
            "Feature: tweet, Importance: 0.0038040160544835643\n",
            "Feature: normal, Importance: 0.0038011126403143846\n",
            "Feature: ever, Importance: 0.003791459298667817\n",
            "Feature: call, Importance: 0.0037620426236000086\n",
            "Feature: tell, Importance: 0.0037141589677110705\n",
            "Feature: month, Importance: 0.003672086306078101\n",
            "Feature: ll, Importance: 0.0036623136011788037\n",
            "Feature: elon, Importance: 0.0036446913198842595\n",
            "Feature: game, Importance: 0.0036352332562802963\n",
            "Feature: home, Importance: 0.0036308638524510006\n",
            "Feature: end, Importance: 0.0035714066047793053\n",
            "Feature: person, Importance: 0.003543287307632674\n",
            "Feature: anyon, Importance: 0.0035238377706313328\n",
            "Feature: made, Importance: 0.0035235208420050833\n",
            "Feature: last, Importance: 0.0034366745353099316\n",
            "Feature: elect, Importance: 0.0034108050013488783\n",
            "Feature: releas, Importance: 0.003409177930148607\n",
            "Feature: account, Importance: 0.0034029311124650114\n",
            "Feature: feed, Importance: 0.0033661720593902832\n",
            "Feature: also, Importance: 0.0033585498749731596\n",
            "Feature: talk, Importance: 0.003318767845247263\n",
            "Feature: big, Importance: 0.0033061502786958384\n",
            "Feature: school, Importance: 0.00317781864285562\n",
            "Feature: everyon, Importance: 0.0031470824613990655\n",
            "Feature: follow, Importance: 0.0031455198451516143\n",
            "Feature: song, Importance: 0.0031406296577668174\n",
            "Feature: post, Importance: 0.003059171673730071\n",
            "Feature: anoth, Importance: 0.0030553247757928084\n",
            "Feature: check, Importance: 0.003024264016056278\n",
            "Feature: quot, Importance: 0.0029385904088653396\n",
            "Feature: open, Importance: 0.0028401197513887\n",
            "Feature: sale, Importance: 0.002775569510221432\n",
            "Feature: target, Importance: 0.0027599990749724644\n",
            "Feature: inflat, Importance: 0.002758848389529768\n",
            "Feature: feet, Importance: 0.0026898891137791246\n",
            "Feature: analyst, Importance: 0.0026297693586239375\n",
            "Feature: coffe, Importance: 0.002462365106663748\n",
            "Feature: economi, Importance: 0.002447433935662242\n",
            "Feature: higher, Importance: 0.002270123276005675\n",
            "Feature: billboard, Importance: 0.0019427157055497133\n",
            "Feature: sold, Importance: 0.0012725497944402584\n",
            "Feature: mvsale, Importance: 0.0005251891726327371\n"
          ]
        }
      ],
      "source": [
        "vectorizer = rf_pipeline['data_preprocessing'].named_transformers_['text_pre_0'].named_steps['text_vect_0']\n",
        "feature_names = vectorizer.get_feature_names_out()\n",
        "\n",
        "# Get feature importances from the random forest model\n",
        "feature_importances = rf_pipeline['random_forest'].feature_importances_\n",
        "\n",
        "# Create a dictionary of feature names and their importances\n",
        "importance_dict = dict(zip(feature_names, feature_importances))\n",
        "\n",
        "# Sort and print the feature importances\n",
        "sorted_importances = sorted(importance_dict.items(), key=lambda x: x[1], reverse=True)\n",
        "for feature, importance in sorted_importances:\n",
        "    print(f\"Feature: {feature}, Importance: {importance}\")"
      ]
    },
    {
      "cell_type": "markdown",
      "metadata": {
        "id": "Vih_kGlr7HJt"
      },
      "source": [
        "## Naive Bayes"
      ]
    },
    {
      "cell_type": "code",
      "execution_count": null,
      "metadata": {
        "colab": {
          "base_uri": "https://localhost:8080/",
          "height": 227
        },
        "id": "ewFZNAiA7JYx",
        "outputId": "635b34cc-3d12-430f-f0ea-c57db72830d1"
      },
      "outputs": [
        {
          "data": {
            "text/html": [
              "<style>#sk-container-id-5 {color: black;background-color: white;}#sk-container-id-5 pre{padding: 0;}#sk-container-id-5 div.sk-toggleable {background-color: white;}#sk-container-id-5 label.sk-toggleable__label {cursor: pointer;display: block;width: 100%;margin-bottom: 0;padding: 0.3em;box-sizing: border-box;text-align: center;}#sk-container-id-5 label.sk-toggleable__label-arrow:before {content: \"▸\";float: left;margin-right: 0.25em;color: #696969;}#sk-container-id-5 label.sk-toggleable__label-arrow:hover:before {color: black;}#sk-container-id-5 div.sk-estimator:hover label.sk-toggleable__label-arrow:before {color: black;}#sk-container-id-5 div.sk-toggleable__content {max-height: 0;max-width: 0;overflow: hidden;text-align: left;background-color: #f0f8ff;}#sk-container-id-5 div.sk-toggleable__content pre {margin: 0.2em;color: black;border-radius: 0.25em;background-color: #f0f8ff;}#sk-container-id-5 input.sk-toggleable__control:checked~div.sk-toggleable__content {max-height: 200px;max-width: 100%;overflow: auto;}#sk-container-id-5 input.sk-toggleable__control:checked~label.sk-toggleable__label-arrow:before {content: \"▾\";}#sk-container-id-5 div.sk-estimator input.sk-toggleable__control:checked~label.sk-toggleable__label {background-color: #d4ebff;}#sk-container-id-5 div.sk-label input.sk-toggleable__control:checked~label.sk-toggleable__label {background-color: #d4ebff;}#sk-container-id-5 input.sk-hidden--visually {border: 0;clip: rect(1px 1px 1px 1px);clip: rect(1px, 1px, 1px, 1px);height: 1px;margin: -1px;overflow: hidden;padding: 0;position: absolute;width: 1px;}#sk-container-id-5 div.sk-estimator {font-family: monospace;background-color: #f0f8ff;border: 1px dotted black;border-radius: 0.25em;box-sizing: border-box;margin-bottom: 0.5em;}#sk-container-id-5 div.sk-estimator:hover {background-color: #d4ebff;}#sk-container-id-5 div.sk-parallel-item::after {content: \"\";width: 100%;border-bottom: 1px solid gray;flex-grow: 1;}#sk-container-id-5 div.sk-label:hover label.sk-toggleable__label {background-color: #d4ebff;}#sk-container-id-5 div.sk-serial::before {content: \"\";position: absolute;border-left: 1px solid gray;box-sizing: border-box;top: 0;bottom: 0;left: 50%;z-index: 0;}#sk-container-id-5 div.sk-serial {display: flex;flex-direction: column;align-items: center;background-color: white;padding-right: 0.2em;padding-left: 0.2em;position: relative;}#sk-container-id-5 div.sk-item {position: relative;z-index: 1;}#sk-container-id-5 div.sk-parallel {display: flex;align-items: stretch;justify-content: center;background-color: white;position: relative;}#sk-container-id-5 div.sk-item::before, #sk-container-id-5 div.sk-parallel-item::before {content: \"\";position: absolute;border-left: 1px solid gray;box-sizing: border-box;top: 0;bottom: 0;left: 50%;z-index: -1;}#sk-container-id-5 div.sk-parallel-item {display: flex;flex-direction: column;z-index: 1;position: relative;background-color: white;}#sk-container-id-5 div.sk-parallel-item:first-child::after {align-self: flex-end;width: 50%;}#sk-container-id-5 div.sk-parallel-item:last-child::after {align-self: flex-start;width: 50%;}#sk-container-id-5 div.sk-parallel-item:only-child::after {width: 0;}#sk-container-id-5 div.sk-dashed-wrapped {border: 1px dashed gray;margin: 0 0.4em 0.5em 0.4em;box-sizing: border-box;padding-bottom: 0.4em;background-color: white;}#sk-container-id-5 div.sk-label label {font-family: monospace;font-weight: bold;display: inline-block;line-height: 1.2em;}#sk-container-id-5 div.sk-label-container {text-align: center;}#sk-container-id-5 div.sk-container {/* jupyter's `normalize.less` sets `[hidden] { display: none; }` but bootstrap.min.css set `[hidden] { display: none !important; }` so we also need the `!important` here to be able to override the default hidden behavior on the sphinx rendered scikit-learn.org. See: https://github.com/scikit-learn/scikit-learn/issues/21755 */display: inline-block !important;position: relative;}#sk-container-id-5 div.sk-text-repr-fallback {display: none;}</style><div id=\"sk-container-id-5\" class=\"sk-top-container\"><div class=\"sk-text-repr-fallback\"><pre>Pipeline(steps=[(&#x27;data_preprocessing&#x27;,\n",
              "                 ColumnTransformer(transformers=[(&#x27;text_pre_0&#x27;,\n",
              "                                                  Pipeline(steps=[(&#x27;text_vect_0&#x27;,\n",
              "                                                                   CountVectorizer(binary=True,\n",
              "                                                                                   max_features=150))]),\n",
              "                                                  &#x27;tweet&#x27;)])),\n",
              "                (&#x27;to_dense&#x27;,\n",
              "                 FunctionTransformer(accept_sparse=True,\n",
              "                                     func=&lt;function to_dense at 0x7c231226b910&gt;)),\n",
              "                (&#x27;naive_bayes&#x27;, MultinomialNB())])</pre><b>In a Jupyter environment, please rerun this cell to show the HTML representation or trust the notebook. <br />On GitHub, the HTML representation is unable to render, please try loading this page with nbviewer.org.</b></div><div class=\"sk-container\" hidden><div class=\"sk-item sk-dashed-wrapped\"><div class=\"sk-label-container\"><div class=\"sk-label sk-toggleable\"><input class=\"sk-toggleable__control sk-hidden--visually\" id=\"sk-estimator-id-21\" type=\"checkbox\" ><label for=\"sk-estimator-id-21\" class=\"sk-toggleable__label sk-toggleable__label-arrow\">Pipeline</label><div class=\"sk-toggleable__content\"><pre>Pipeline(steps=[(&#x27;data_preprocessing&#x27;,\n",
              "                 ColumnTransformer(transformers=[(&#x27;text_pre_0&#x27;,\n",
              "                                                  Pipeline(steps=[(&#x27;text_vect_0&#x27;,\n",
              "                                                                   CountVectorizer(binary=True,\n",
              "                                                                                   max_features=150))]),\n",
              "                                                  &#x27;tweet&#x27;)])),\n",
              "                (&#x27;to_dense&#x27;,\n",
              "                 FunctionTransformer(accept_sparse=True,\n",
              "                                     func=&lt;function to_dense at 0x7c231226b910&gt;)),\n",
              "                (&#x27;naive_bayes&#x27;, MultinomialNB())])</pre></div></div></div><div class=\"sk-serial\"><div class=\"sk-item sk-dashed-wrapped\"><div class=\"sk-label-container\"><div class=\"sk-label sk-toggleable\"><input class=\"sk-toggleable__control sk-hidden--visually\" id=\"sk-estimator-id-22\" type=\"checkbox\" ><label for=\"sk-estimator-id-22\" class=\"sk-toggleable__label sk-toggleable__label-arrow\">data_preprocessing: ColumnTransformer</label><div class=\"sk-toggleable__content\"><pre>ColumnTransformer(transformers=[(&#x27;text_pre_0&#x27;,\n",
              "                                 Pipeline(steps=[(&#x27;text_vect_0&#x27;,\n",
              "                                                  CountVectorizer(binary=True,\n",
              "                                                                  max_features=150))]),\n",
              "                                 &#x27;tweet&#x27;)])</pre></div></div></div><div class=\"sk-parallel\"><div class=\"sk-parallel-item\"><div class=\"sk-item\"><div class=\"sk-label-container\"><div class=\"sk-label sk-toggleable\"><input class=\"sk-toggleable__control sk-hidden--visually\" id=\"sk-estimator-id-23\" type=\"checkbox\" ><label for=\"sk-estimator-id-23\" class=\"sk-toggleable__label sk-toggleable__label-arrow\">text_pre_0</label><div class=\"sk-toggleable__content\"><pre>tweet</pre></div></div></div><div class=\"sk-serial\"><div class=\"sk-item\"><div class=\"sk-serial\"><div class=\"sk-item\"><div class=\"sk-estimator sk-toggleable\"><input class=\"sk-toggleable__control sk-hidden--visually\" id=\"sk-estimator-id-24\" type=\"checkbox\" ><label for=\"sk-estimator-id-24\" class=\"sk-toggleable__label sk-toggleable__label-arrow\">CountVectorizer</label><div class=\"sk-toggleable__content\"><pre>CountVectorizer(binary=True, max_features=150)</pre></div></div></div></div></div></div></div></div></div></div><div class=\"sk-item\"><div class=\"sk-estimator sk-toggleable\"><input class=\"sk-toggleable__control sk-hidden--visually\" id=\"sk-estimator-id-25\" type=\"checkbox\" ><label for=\"sk-estimator-id-25\" class=\"sk-toggleable__label sk-toggleable__label-arrow\">FunctionTransformer</label><div class=\"sk-toggleable__content\"><pre>FunctionTransformer(accept_sparse=True,\n",
              "                    func=&lt;function to_dense at 0x7c231226b910&gt;)</pre></div></div></div><div class=\"sk-item\"><div class=\"sk-estimator sk-toggleable\"><input class=\"sk-toggleable__control sk-hidden--visually\" id=\"sk-estimator-id-26\" type=\"checkbox\" ><label for=\"sk-estimator-id-26\" class=\"sk-toggleable__label sk-toggleable__label-arrow\">MultinomialNB</label><div class=\"sk-toggleable__content\"><pre>MultinomialNB()</pre></div></div></div></div></div></div></div>"
            ],
            "text/plain": [
              "Pipeline(steps=[('data_preprocessing',\n",
              "                 ColumnTransformer(transformers=[('text_pre_0',\n",
              "                                                  Pipeline(steps=[('text_vect_0',\n",
              "                                                                   CountVectorizer(binary=True,\n",
              "                                                                                   max_features=150))]),\n",
              "                                                  'tweet')])),\n",
              "                ('to_dense',\n",
              "                 FunctionTransformer(accept_sparse=True,\n",
              "                                     func=<function to_dense at 0x7c231226b910>)),\n",
              "                ('naive_bayes', MultinomialNB())])"
            ]
          },
          "execution_count": 21,
          "metadata": {},
          "output_type": "execute_result"
        }
      ],
      "source": [
        "from sklearn.naive_bayes import MultinomialNB\n",
        "from sklearn.compose import ColumnTransformer\n",
        "from sklearn.preprocessing import FunctionTransformer\n",
        "\n",
        "# Function to convert sparse matrix to dense\n",
        "def to_dense(X):\n",
        "    return X.toarray()\n",
        "dense_transformer = FunctionTransformer(to_dense, accept_sparse=True)\n",
        "\n",
        "nb_pipeline = Pipeline([\n",
        "    ('data_preprocessing', data_preprocessor),\n",
        "    ('to_dense', dense_transformer),\n",
        "    ('naive_bayes', MultinomialNB())\n",
        "])\n",
        "\n",
        "# Fit the Naive Bayes pipeline to the training data\n",
        "nb_pipeline.fit(X_train, y_train)"
      ]
    },
    {
      "cell_type": "code",
      "execution_count": null,
      "metadata": {
        "colab": {
          "base_uri": "https://localhost:8080/"
        },
        "id": "TTA96l807LE2",
        "outputId": "b7d68e9c-2bf8-4ef0-93c8-25ad990bd8c5"
      },
      "outputs": [
        {
          "name": "stdout",
          "output_type": "stream",
          "text": [
            "[[ 9784 11414 13105]\n",
            " [ 4319 33944 15169]\n",
            " [ 5145 12899 58213]]\n",
            "              precision    recall  f1-score   support\n",
            "\n",
            "          -1       0.51      0.29      0.37     34303\n",
            "           0       0.58      0.64      0.61     53432\n",
            "           1       0.67      0.76      0.72     76257\n",
            "\n",
            "    accuracy                           0.62    163992\n",
            "   macro avg       0.59      0.56      0.56    163992\n",
            "weighted avg       0.61      0.62      0.61    163992\n",
            "\n",
            "Accuracy (validation): 0.6216217864286063\n"
          ]
        }
      ],
      "source": [
        "# Predict the categories of the testing set tweets\n",
        "test_predictions = nb_pipeline.predict(X_test)\n",
        "\n",
        "# Printing the Confusion Matrix\n",
        "print(confusion_matrix(y_test.values, test_predictions))\n",
        "\n",
        "# Printing the Classification Report\n",
        "print(classification_report(y_test.values, test_predictions))\n",
        "\n",
        "# Calculating and Printing the Accuracy\n",
        "print(\"Accuracy (validation):\", accuracy_score(y_test.values, test_predictions))"
      ]
    },
    {
      "cell_type": "markdown",
      "metadata": {
        "id": "SeD2lbTtUbXx"
      },
      "source": [
        "# Grid Search"
      ]
    },
    {
      "cell_type": "markdown",
      "metadata": {
        "id": "JXNAaxdzUi7L"
      },
      "source": [
        "## Logistic Regression"
      ]
    },
    {
      "cell_type": "code",
      "execution_count": 9,
      "metadata": {
        "id": "8hxuxdB_k5Nr"
      },
      "outputs": [],
      "source": [
        "from sklearn.model_selection import GridSearchCV\n",
        "from sklearn.svm import SVC\n",
        "from sklearn.neighbors import KNeighborsClassifier\n",
        "from sklearn.naive_bayes import MultinomialNB\n",
        "from sklearn.ensemble import RandomForestClassifier\n",
        "from sklearn.pipeline import Pipeline\n",
        "from sklearn.naive_bayes import GaussianNB, MultinomialNB, BernoulliNB"
      ]
    },
    {
      "cell_type": "code",
      "execution_count": null,
      "metadata": {
        "colab": {
          "base_uri": "https://localhost:8080/"
        },
        "id": "oJnTBugpUlvh",
        "outputId": "7971917d-7273-43cd-b460-594a8bdbf6bf"
      },
      "outputs": [
        {
          "name": "stdout",
          "output_type": "stream",
          "text": [
            "Best Parameters: {'data_preprocessing__text_pre_0__text_vect_0__max_features': 500, 'logistic_regression__C': 5}\n"
          ]
        }
      ],
      "source": [
        "# Define a parameter grid to search for best parameters for everything in the pipeline\n",
        "param_grid = {\n",
        "    'data_preprocessing__text_pre_0__text_vect_0__max_features': [5, 25, 50, 100, 150, 200, 250, 500],\n",
        "    'logistic_regression__C': [0.1, 0.5, 1, 2.5, 5, 7.5, 10]\n",
        "}\n",
        "\n",
        "# Create a GridSearchCV object to perform a grid search with the pipeline\n",
        "grid_search = GridSearchCV(pipeline, param_grid, cv=5)\n",
        "\n",
        "# Fitting the GridSearchCV to the training data\n",
        "grid_search.fit(X_train, y_train.values)\n",
        "print(\"Best Parameters:\", grid_search.best_params_)"
      ]
    },
    {
      "cell_type": "code",
      "execution_count": null,
      "metadata": {
        "colab": {
          "base_uri": "https://localhost:8080/"
        },
        "id": "76QxGVoAlC9h",
        "outputId": "8092b680-0fe4-42d2-d9c8-6e509bc83d04"
      },
      "outputs": [
        {
          "name": "stdout",
          "output_type": "stream",
          "text": [
            "Best Parameters: {'data_preprocessing__text_pre_0__text_vect_0__max_features': 5000}\n"
          ]
        }
      ],
      "source": [
        "param_grid = {\n",
        "    'data_preprocessing__text_pre_0__text_vect_0__max_features': [500, 750, 1000, 1500, 2000, 5000]\n",
        "}\n",
        "\n",
        "# Create a GridSearchCV object to perform a grid search with the pipeline\n",
        "grid_search = GridSearchCV(pipeline, param_grid, cv=5)\n",
        "\n",
        "# Fitting the GridSearchCV to the training data\n",
        "grid_search.fit(X_train, y_train.values)\n",
        "print(\"Best Parameters:\", grid_search.best_params_)"
      ]
    },
    {
      "cell_type": "code",
      "execution_count": null,
      "metadata": {
        "colab": {
          "base_uri": "https://localhost:8080/"
        },
        "id": "txrtRvQ8n8Pn",
        "outputId": "67112163-000f-410c-8f9c-648498e62124"
      },
      "outputs": [
        {
          "name": "stdout",
          "output_type": "stream",
          "text": [
            "Best Parameters: {'data_preprocessing__text_pre_0__text_vect_0__max_features': 10000}\n"
          ]
        }
      ],
      "source": [
        "param_grid = {\n",
        "    'data_preprocessing__text_pre_0__text_vect_0__max_features': [5000, 6000, 8000, 10000]\n",
        "}\n",
        "\n",
        "# Create a GridSearchCV object to perform a grid search with the pipeline\n",
        "grid_search = GridSearchCV(pipeline, param_grid, cv=5)\n",
        "\n",
        "# Fitting the GridSearchCV to the training data\n",
        "grid_search.fit(X_train, y_train.values)\n",
        "print(\"Best Parameters:\", grid_search.best_params_)"
      ]
    },
    {
      "cell_type": "markdown",
      "metadata": {
        "id": "PgBnupxgenWZ"
      },
      "source": [
        "## GB Grid Search"
      ]
    },
    {
      "cell_type": "code",
      "execution_count": null,
      "metadata": {
        "colab": {
          "base_uri": "https://localhost:8080/"
        },
        "id": "4UMsQKG2ep2q",
        "outputId": "3d39718e-9978-4e08-a2c0-336c0a977eb7"
      },
      "outputs": [
        {
          "name": "stdout",
          "output_type": "stream",
          "text": [
            "Best Parameters: {'gb__learning_rate': 0.1, 'gb__max_depth': 5, 'gb__n_estimators': 500}\n"
          ]
        }
      ],
      "source": [
        "# Parameter grid for GridSearchCV\n",
        "param_grid = {\n",
        "    'gb__n_estimators': [100, 500],\n",
        "    'gb__learning_rate': [0.01, 0.1],\n",
        "    'gb__max_depth': [1, 5]\n",
        "}\n",
        "\n",
        "# Create a GridSearchCV object to perform a grid search with the pipeline\n",
        "grid_search = GridSearchCV(gb_pipeline, param_grid, cv=5)\n",
        "\n",
        "# Fitting the GridSearchCV to the training data\n",
        "grid_search.fit(X_train, y_train.values)\n",
        "print(\"Best Parameters:\", grid_search.best_params_)"
      ]
    },
    {
      "cell_type": "markdown",
      "metadata": {
        "id": "Zrn25x5tWmqO"
      },
      "source": [
        "## KNN Grid Search"
      ]
    },
    {
      "cell_type": "code",
      "execution_count": null,
      "metadata": {
        "colab": {
          "background_save": true
        },
        "id": "FoRY_xKGWqT6",
        "outputId": "3a3df4c5-b02d-45fb-b326-d71f86af72f0"
      },
      "outputs": [
        {
          "name": "stdout",
          "output_type": "stream",
          "text": [
            "Best Parameters: {'knn__n_neighbors': 5}\n"
          ]
        }
      ],
      "source": [
        "# Define a parameter grid to search for best parameters for everything in the pipeline\n",
        "param_grid = {\n",
        "    'knn__n_neighbors': [1, 3, 5]\n",
        "}\n",
        "\n",
        "# Create a GridSearchCV object to perform a grid search with the pipeline\n",
        "grid_search = GridSearchCV(knn_pipeline, param_grid, cv=5)\n",
        "\n",
        "# Fitting the GridSearchCV to the training data\n",
        "grid_search.fit(X_train, y_train.values)\n",
        "print(\"Best Parameters:\", grid_search.best_params_)"
      ]
    },
    {
      "cell_type": "markdown",
      "metadata": {
        "id": "4mkn7mb4WsX3"
      },
      "source": [
        "## Random Forest Search"
      ]
    },
    {
      "cell_type": "code",
      "execution_count": null,
      "metadata": {
        "colab": {
          "base_uri": "https://localhost:8080/"
        },
        "id": "IN2D538-Wv9_",
        "outputId": "c336509e-2be8-487d-ce54-25c66ad940d6"
      },
      "outputs": [
        {
          "name": "stdout",
          "output_type": "stream",
          "text": [
            "Best Parameters: {'random_forest__n_estimators': 100}\n"
          ]
        }
      ],
      "source": [
        "# Define a parameter grid to search for best parameters for everything in the pipeline\n",
        "rf_param_grid = {\n",
        "    'random_forest__n_estimators': [10, 50, 100]\n",
        "}\n",
        "\n",
        "# Create a GridSearchCV object to perform a grid search with the pipeline\n",
        "grid_search = GridSearchCV(rf_pipeline, rf_param_grid, cv=5)\n",
        "\n",
        "# Fitting the GridSearchCV to the training data\n",
        "grid_search.fit(X_train, y_train.values)\n",
        "print(\"Best Parameters:\", grid_search.best_params_)"
      ]
    },
    {
      "cell_type": "markdown",
      "metadata": {
        "id": "_HG1QrOfWyEy"
      },
      "source": [
        "## Naive Bayes Grid Search"
      ]
    },
    {
      "cell_type": "code",
      "execution_count": null,
      "metadata": {
        "colab": {
          "base_uri": "https://localhost:8080/"
        },
        "id": "qTwrMDumW2QP",
        "outputId": "9030040c-5299-4446-ed21-28866a737f5d"
      },
      "outputs": [
        {
          "name": "stdout",
          "output_type": "stream",
          "text": [
            "Best Parameters: {'data_preprocessing__text_pre_0__text_vect_0__max_features': 2500, 'naive_bayes': BernoulliNB()}\n"
          ]
        }
      ],
      "source": [
        "nb_param_grid = {\n",
        "    'data_preprocessing__text_pre_0__text_vect_0__max_features': [100, 500, 1000, 2500],\n",
        "    'naive_bayes': [GaussianNB(), MultinomialNB(), BernoulliNB()]\n",
        "}\n",
        "\n",
        "# Create a GridSearchCV object to perform a grid search with the pipeline\n",
        "grid_search = GridSearchCV(nb_pipeline, nb_param_grid, cv=5)\n",
        "\n",
        "# Fitting the GridSearchCV to the training data\n",
        "grid_search.fit(X_train, y_train.values)\n",
        "print(\"Best Parameters:\", grid_search.best_params_)"
      ]
    },
    {
      "cell_type": "markdown",
      "metadata": {
        "id": "xTrEWHVsW6Up"
      },
      "source": [
        "# Improved Models"
      ]
    },
    {
      "cell_type": "code",
      "execution_count": 10,
      "metadata": {
        "id": "wDG-HC5x6Zil"
      },
      "outputs": [],
      "source": [
        "from sklearn.linear_model import LogisticRegression\n",
        "from sklearn.pipeline import Pipeline\n",
        "from sklearn.compose import ColumnTransformer\n",
        "from sklearn.preprocessing import MinMaxScaler\n",
        "from sklearn.feature_extraction.text import TfidfVectorizer"
      ]
    },
    {
      "cell_type": "markdown",
      "metadata": {
        "id": "HPvF-IZKW8YF"
      },
      "source": [
        "## Improved Logistic Regression Model"
      ]
    },
    {
      "cell_type": "code",
      "execution_count": null,
      "metadata": {
        "id": "-rJ9ExExXt4M"
      },
      "outputs": [],
      "source": [
        "# Preprocessing the Text Feature\n",
        "text_processor_0 = Pipeline(steps=[\n",
        "    ('text_vect_0', TfidfVectorizer(max_features=10000))\n",
        "])\n",
        "\n",
        "# Combining All Data Preprocessors\n",
        "data_preprocessor = ColumnTransformer(transformers=[\n",
        "    ('text_pre_0', text_processor_0, text_features[0]),\n",
        "])\n",
        "\n",
        "# Assembling the Full Pipeline with Multinomial Logistic Regression\n",
        "pipeline = Pipeline(steps=[\n",
        "    ('data_preprocessing', data_preprocessor),\n",
        "    ('logistic_regression', LogisticRegression(penalty='l2', solver='lbfgs', max_iter=1000, C=5, multi_class='multinomial'))\n",
        "])"
      ]
    },
    {
      "cell_type": "code",
      "execution_count": null,
      "metadata": {
        "colab": {
          "base_uri": "https://localhost:8080/",
          "height": 192
        },
        "id": "_Bd4Efi6Xwjp",
        "outputId": "35a239fb-aaf0-45e1-da13-14b58b886290"
      },
      "outputs": [
        {
          "data": {
            "text/html": [
              "<style>#sk-container-id-9 {color: black;background-color: white;}#sk-container-id-9 pre{padding: 0;}#sk-container-id-9 div.sk-toggleable {background-color: white;}#sk-container-id-9 label.sk-toggleable__label {cursor: pointer;display: block;width: 100%;margin-bottom: 0;padding: 0.3em;box-sizing: border-box;text-align: center;}#sk-container-id-9 label.sk-toggleable__label-arrow:before {content: \"▸\";float: left;margin-right: 0.25em;color: #696969;}#sk-container-id-9 label.sk-toggleable__label-arrow:hover:before {color: black;}#sk-container-id-9 div.sk-estimator:hover label.sk-toggleable__label-arrow:before {color: black;}#sk-container-id-9 div.sk-toggleable__content {max-height: 0;max-width: 0;overflow: hidden;text-align: left;background-color: #f0f8ff;}#sk-container-id-9 div.sk-toggleable__content pre {margin: 0.2em;color: black;border-radius: 0.25em;background-color: #f0f8ff;}#sk-container-id-9 input.sk-toggleable__control:checked~div.sk-toggleable__content {max-height: 200px;max-width: 100%;overflow: auto;}#sk-container-id-9 input.sk-toggleable__control:checked~label.sk-toggleable__label-arrow:before {content: \"▾\";}#sk-container-id-9 div.sk-estimator input.sk-toggleable__control:checked~label.sk-toggleable__label {background-color: #d4ebff;}#sk-container-id-9 div.sk-label input.sk-toggleable__control:checked~label.sk-toggleable__label {background-color: #d4ebff;}#sk-container-id-9 input.sk-hidden--visually {border: 0;clip: rect(1px 1px 1px 1px);clip: rect(1px, 1px, 1px, 1px);height: 1px;margin: -1px;overflow: hidden;padding: 0;position: absolute;width: 1px;}#sk-container-id-9 div.sk-estimator {font-family: monospace;background-color: #f0f8ff;border: 1px dotted black;border-radius: 0.25em;box-sizing: border-box;margin-bottom: 0.5em;}#sk-container-id-9 div.sk-estimator:hover {background-color: #d4ebff;}#sk-container-id-9 div.sk-parallel-item::after {content: \"\";width: 100%;border-bottom: 1px solid gray;flex-grow: 1;}#sk-container-id-9 div.sk-label:hover label.sk-toggleable__label {background-color: #d4ebff;}#sk-container-id-9 div.sk-serial::before {content: \"\";position: absolute;border-left: 1px solid gray;box-sizing: border-box;top: 0;bottom: 0;left: 50%;z-index: 0;}#sk-container-id-9 div.sk-serial {display: flex;flex-direction: column;align-items: center;background-color: white;padding-right: 0.2em;padding-left: 0.2em;position: relative;}#sk-container-id-9 div.sk-item {position: relative;z-index: 1;}#sk-container-id-9 div.sk-parallel {display: flex;align-items: stretch;justify-content: center;background-color: white;position: relative;}#sk-container-id-9 div.sk-item::before, #sk-container-id-9 div.sk-parallel-item::before {content: \"\";position: absolute;border-left: 1px solid gray;box-sizing: border-box;top: 0;bottom: 0;left: 50%;z-index: -1;}#sk-container-id-9 div.sk-parallel-item {display: flex;flex-direction: column;z-index: 1;position: relative;background-color: white;}#sk-container-id-9 div.sk-parallel-item:first-child::after {align-self: flex-end;width: 50%;}#sk-container-id-9 div.sk-parallel-item:last-child::after {align-self: flex-start;width: 50%;}#sk-container-id-9 div.sk-parallel-item:only-child::after {width: 0;}#sk-container-id-9 div.sk-dashed-wrapped {border: 1px dashed gray;margin: 0 0.4em 0.5em 0.4em;box-sizing: border-box;padding-bottom: 0.4em;background-color: white;}#sk-container-id-9 div.sk-label label {font-family: monospace;font-weight: bold;display: inline-block;line-height: 1.2em;}#sk-container-id-9 div.sk-label-container {text-align: center;}#sk-container-id-9 div.sk-container {/* jupyter's `normalize.less` sets `[hidden] { display: none; }` but bootstrap.min.css set `[hidden] { display: none !important; }` so we also need the `!important` here to be able to override the default hidden behavior on the sphinx rendered scikit-learn.org. See: https://github.com/scikit-learn/scikit-learn/issues/21755 */display: inline-block !important;position: relative;}#sk-container-id-9 div.sk-text-repr-fallback {display: none;}</style><div id=\"sk-container-id-9\" class=\"sk-top-container\"><div class=\"sk-text-repr-fallback\"><pre>Pipeline(steps=[(&#x27;data_preprocessing&#x27;,\n",
              "                 ColumnTransformer(transformers=[(&#x27;text_pre_0&#x27;,\n",
              "                                                  Pipeline(steps=[(&#x27;text_vect_0&#x27;,\n",
              "                                                                   TfidfVectorizer(max_features=10000))]),\n",
              "                                                  &#x27;tweet&#x27;)])),\n",
              "                (&#x27;logistic_regression&#x27;,\n",
              "                 LogisticRegression(C=5, max_iter=1000,\n",
              "                                    multi_class=&#x27;multinomial&#x27;))])</pre><b>In a Jupyter environment, please rerun this cell to show the HTML representation or trust the notebook. <br />On GitHub, the HTML representation is unable to render, please try loading this page with nbviewer.org.</b></div><div class=\"sk-container\" hidden><div class=\"sk-item sk-dashed-wrapped\"><div class=\"sk-label-container\"><div class=\"sk-label sk-toggleable\"><input class=\"sk-toggleable__control sk-hidden--visually\" id=\"sk-estimator-id-41\" type=\"checkbox\" ><label for=\"sk-estimator-id-41\" class=\"sk-toggleable__label sk-toggleable__label-arrow\">Pipeline</label><div class=\"sk-toggleable__content\"><pre>Pipeline(steps=[(&#x27;data_preprocessing&#x27;,\n",
              "                 ColumnTransformer(transformers=[(&#x27;text_pre_0&#x27;,\n",
              "                                                  Pipeline(steps=[(&#x27;text_vect_0&#x27;,\n",
              "                                                                   TfidfVectorizer(max_features=10000))]),\n",
              "                                                  &#x27;tweet&#x27;)])),\n",
              "                (&#x27;logistic_regression&#x27;,\n",
              "                 LogisticRegression(C=5, max_iter=1000,\n",
              "                                    multi_class=&#x27;multinomial&#x27;))])</pre></div></div></div><div class=\"sk-serial\"><div class=\"sk-item sk-dashed-wrapped\"><div class=\"sk-label-container\"><div class=\"sk-label sk-toggleable\"><input class=\"sk-toggleable__control sk-hidden--visually\" id=\"sk-estimator-id-42\" type=\"checkbox\" ><label for=\"sk-estimator-id-42\" class=\"sk-toggleable__label sk-toggleable__label-arrow\">data_preprocessing: ColumnTransformer</label><div class=\"sk-toggleable__content\"><pre>ColumnTransformer(transformers=[(&#x27;text_pre_0&#x27;,\n",
              "                                 Pipeline(steps=[(&#x27;text_vect_0&#x27;,\n",
              "                                                  TfidfVectorizer(max_features=10000))]),\n",
              "                                 &#x27;tweet&#x27;)])</pre></div></div></div><div class=\"sk-parallel\"><div class=\"sk-parallel-item\"><div class=\"sk-item\"><div class=\"sk-label-container\"><div class=\"sk-label sk-toggleable\"><input class=\"sk-toggleable__control sk-hidden--visually\" id=\"sk-estimator-id-43\" type=\"checkbox\" ><label for=\"sk-estimator-id-43\" class=\"sk-toggleable__label sk-toggleable__label-arrow\">text_pre_0</label><div class=\"sk-toggleable__content\"><pre>tweet</pre></div></div></div><div class=\"sk-serial\"><div class=\"sk-item\"><div class=\"sk-serial\"><div class=\"sk-item\"><div class=\"sk-estimator sk-toggleable\"><input class=\"sk-toggleable__control sk-hidden--visually\" id=\"sk-estimator-id-44\" type=\"checkbox\" ><label for=\"sk-estimator-id-44\" class=\"sk-toggleable__label sk-toggleable__label-arrow\">TfidfVectorizer</label><div class=\"sk-toggleable__content\"><pre>TfidfVectorizer(max_features=10000)</pre></div></div></div></div></div></div></div></div></div></div><div class=\"sk-item\"><div class=\"sk-estimator sk-toggleable\"><input class=\"sk-toggleable__control sk-hidden--visually\" id=\"sk-estimator-id-45\" type=\"checkbox\" ><label for=\"sk-estimator-id-45\" class=\"sk-toggleable__label sk-toggleable__label-arrow\">LogisticRegression</label><div class=\"sk-toggleable__content\"><pre>LogisticRegression(C=5, max_iter=1000, multi_class=&#x27;multinomial&#x27;)</pre></div></div></div></div></div></div></div>"
            ],
            "text/plain": [
              "Pipeline(steps=[('data_preprocessing',\n",
              "                 ColumnTransformer(transformers=[('text_pre_0',\n",
              "                                                  Pipeline(steps=[('text_vect_0',\n",
              "                                                                   TfidfVectorizer(max_features=10000))]),\n",
              "                                                  'tweet')])),\n",
              "                ('logistic_regression',\n",
              "                 LogisticRegression(C=5, max_iter=1000,\n",
              "                                    multi_class='multinomial'))])"
            ]
          },
          "execution_count": 35,
          "metadata": {},
          "output_type": "execute_result"
        }
      ],
      "source": [
        "# Fit the Pipeline to training data\n",
        "pipeline.fit(X_train, y_train.values)"
      ]
    },
    {
      "cell_type": "code",
      "execution_count": null,
      "metadata": {
        "colab": {
          "base_uri": "https://localhost:8080/"
        },
        "id": "SUXGL9yiXx8Z",
        "outputId": "62fec0ea-7142-4aa7-9336-e22ad2350974"
      },
      "outputs": [
        {
          "name": "stdout",
          "output_type": "stream",
          "text": [
            "[[27810  2978  3515]\n",
            " [ 1802 48719  2911]\n",
            " [ 2809  2739 70709]]\n",
            "              precision    recall  f1-score   support\n",
            "\n",
            "          -1       0.86      0.81      0.83     34303\n",
            "           0       0.89      0.91      0.90     53432\n",
            "           1       0.92      0.93      0.92     76257\n",
            "\n",
            "    accuracy                           0.90    163992\n",
            "   macro avg       0.89      0.88      0.89    163992\n",
            "weighted avg       0.90      0.90      0.90    163992\n",
            "\n",
            "Accuracy (validation): 0.8978364798282843\n"
          ]
        }
      ],
      "source": [
        "# Predict the categories of the testing set tweets\n",
        "test_predictions = pipeline.predict(X_test)\n",
        "\n",
        "# Printing the Confusion Matrix\n",
        "print(confusion_matrix(y_test.values, test_predictions))\n",
        "\n",
        "# Printing the Classification Report\n",
        "print(classification_report(y_test.values, test_predictions))\n",
        "\n",
        "# Calculating and Printing the Accuracy\n",
        "print(\"Accuracy (validation):\", accuracy_score(y_test.values, test_predictions))"
      ]
    },
    {
      "cell_type": "code",
      "execution_count": null,
      "metadata": {
        "colab": {
          "base_uri": "https://localhost:8080/",
          "height": 564
        },
        "id": "Sgum1JCYX0Pj",
        "outputId": "1fd8ab2a-1bc3-481e-8916-e65ffd1e6bec"
      },
      "outputs": [
        {
          "data": {
            "image/png": "[encoded data removed]",
            "text/plain": [
              "<Figure size 800x600 with 1 Axes>"
            ]
          },
          "metadata": {},
          "output_type": "display_data"
        }
      ],
      "source": [
        "cm = confusion_matrix(y_test.values, test_predictions)\n",
        "\n",
        "def plot_confusion_matrix(conf_matrix, title='Confusion Matrix'):\n",
        "    plt.figure(figsize=(8, 6))\n",
        "    sns.heatmap(cm, annot=True, fmt='g', cmap='Blues', cbar=False,\n",
        "                xticklabels=['negative', 'neutral', 'positive'],\n",
        "                yticklabels=['negative', 'neutral', 'positive'])\n",
        "    plt.xlabel('Predicted labels')\n",
        "    plt.ylabel('True labels')\n",
        "    plt.title(title)\n",
        "    plt.show()\n",
        "\n",
        "# Plotting the confusion matrices\n",
        "plot_confusion_matrix(cm, title='Confusion Matrix')"
      ]
    },
    {
      "cell_type": "markdown",
      "metadata": {
        "id": "wmIhy89_X1cv"
      },
      "source": [
        "## Improved GB Model"
      ]
    },
    {
      "cell_type": "code",
      "execution_count": null,
      "metadata": {
        "id": "bMS0_8pxvpK1"
      },
      "outputs": [],
      "source": [
        "# Preprocessing the Text Feature\n",
        "text_processor_0 = Pipeline(steps=[\n",
        "    ('text_vect_0', TfidfVectorizer(max_features=2500))\n",
        "])\n",
        "\n",
        "# Combining All Data Preprocessors\n",
        "data_preprocessor = ColumnTransformer(transformers=[\n",
        "    ('text_pre_0', text_processor_0, text_features[0]),\n",
        "])\n",
        "\n",
        "# Assembling the Full Pipeline with Multinomial Logistic Regression\n",
        "gb_pipeline = Pipeline(steps=[\n",
        "    ('data_preprocessing', data_preprocessor),\n",
        "    ('gb', GradientBoostingClassifier(n_estimators=500, learning_rate=0.1, max_depth=5, random_state=42))\n",
        "])"
      ]
    },
    {
      "cell_type": "code",
      "execution_count": null,
      "metadata": {
        "colab": {
          "base_uri": "https://localhost:8080/",
          "height": 192
        },
        "id": "pKf_1rv9X4af",
        "outputId": "5d70f670-0444-45f1-db9d-93eda6a54405"
      },
      "outputs": [
        {
          "data": {
            "text/html": [
              "<style>#sk-container-id-7 {color: black;background-color: white;}#sk-container-id-7 pre{padding: 0;}#sk-container-id-7 div.sk-toggleable {background-color: white;}#sk-container-id-7 label.sk-toggleable__label {cursor: pointer;display: block;width: 100%;margin-bottom: 0;padding: 0.3em;box-sizing: border-box;text-align: center;}#sk-container-id-7 label.sk-toggleable__label-arrow:before {content: \"▸\";float: left;margin-right: 0.25em;color: #696969;}#sk-container-id-7 label.sk-toggleable__label-arrow:hover:before {color: black;}#sk-container-id-7 div.sk-estimator:hover label.sk-toggleable__label-arrow:before {color: black;}#sk-container-id-7 div.sk-toggleable__content {max-height: 0;max-width: 0;overflow: hidden;text-align: left;background-color: #f0f8ff;}#sk-container-id-7 div.sk-toggleable__content pre {margin: 0.2em;color: black;border-radius: 0.25em;background-color: #f0f8ff;}#sk-container-id-7 input.sk-toggleable__control:checked~div.sk-toggleable__content {max-height: 200px;max-width: 100%;overflow: auto;}#sk-container-id-7 input.sk-toggleable__control:checked~label.sk-toggleable__label-arrow:before {content: \"▾\";}#sk-container-id-7 div.sk-estimator input.sk-toggleable__control:checked~label.sk-toggleable__label {background-color: #d4ebff;}#sk-container-id-7 div.sk-label input.sk-toggleable__control:checked~label.sk-toggleable__label {background-color: #d4ebff;}#sk-container-id-7 input.sk-hidden--visually {border: 0;clip: rect(1px 1px 1px 1px);clip: rect(1px, 1px, 1px, 1px);height: 1px;margin: -1px;overflow: hidden;padding: 0;position: absolute;width: 1px;}#sk-container-id-7 div.sk-estimator {font-family: monospace;background-color: #f0f8ff;border: 1px dotted black;border-radius: 0.25em;box-sizing: border-box;margin-bottom: 0.5em;}#sk-container-id-7 div.sk-estimator:hover {background-color: #d4ebff;}#sk-container-id-7 div.sk-parallel-item::after {content: \"\";width: 100%;border-bottom: 1px solid gray;flex-grow: 1;}#sk-container-id-7 div.sk-label:hover label.sk-toggleable__label {background-color: #d4ebff;}#sk-container-id-7 div.sk-serial::before {content: \"\";position: absolute;border-left: 1px solid gray;box-sizing: border-box;top: 0;bottom: 0;left: 50%;z-index: 0;}#sk-container-id-7 div.sk-serial {display: flex;flex-direction: column;align-items: center;background-color: white;padding-right: 0.2em;padding-left: 0.2em;position: relative;}#sk-container-id-7 div.sk-item {position: relative;z-index: 1;}#sk-container-id-7 div.sk-parallel {display: flex;align-items: stretch;justify-content: center;background-color: white;position: relative;}#sk-container-id-7 div.sk-item::before, #sk-container-id-7 div.sk-parallel-item::before {content: \"\";position: absolute;border-left: 1px solid gray;box-sizing: border-box;top: 0;bottom: 0;left: 50%;z-index: -1;}#sk-container-id-7 div.sk-parallel-item {display: flex;flex-direction: column;z-index: 1;position: relative;background-color: white;}#sk-container-id-7 div.sk-parallel-item:first-child::after {align-self: flex-end;width: 50%;}#sk-container-id-7 div.sk-parallel-item:last-child::after {align-self: flex-start;width: 50%;}#sk-container-id-7 div.sk-parallel-item:only-child::after {width: 0;}#sk-container-id-7 div.sk-dashed-wrapped {border: 1px dashed gray;margin: 0 0.4em 0.5em 0.4em;box-sizing: border-box;padding-bottom: 0.4em;background-color: white;}#sk-container-id-7 div.sk-label label {font-family: monospace;font-weight: bold;display: inline-block;line-height: 1.2em;}#sk-container-id-7 div.sk-label-container {text-align: center;}#sk-container-id-7 div.sk-container {/* jupyter's `normalize.less` sets `[hidden] { display: none; }` but bootstrap.min.css set `[hidden] { display: none !important; }` so we also need the `!important` here to be able to override the default hidden behavior on the sphinx rendered scikit-learn.org. See: https://github.com/scikit-learn/scikit-learn/issues/21755 */display: inline-block !important;position: relative;}#sk-container-id-7 div.sk-text-repr-fallback {display: none;}</style><div id=\"sk-container-id-7\" class=\"sk-top-container\"><div class=\"sk-text-repr-fallback\"><pre>Pipeline(steps=[(&#x27;data_preprocessing&#x27;,\n",
              "                 ColumnTransformer(transformers=[(&#x27;text_pre_0&#x27;,\n",
              "                                                  Pipeline(steps=[(&#x27;text_vect_0&#x27;,\n",
              "                                                                   TfidfVectorizer(max_features=2500))]),\n",
              "                                                  &#x27;tweet&#x27;)])),\n",
              "                (&#x27;gb&#x27;,\n",
              "                 GradientBoostingClassifier(max_depth=5, n_estimators=500,\n",
              "                                            random_state=42))])</pre><b>In a Jupyter environment, please rerun this cell to show the HTML representation or trust the notebook. <br />On GitHub, the HTML representation is unable to render, please try loading this page with nbviewer.org.</b></div><div class=\"sk-container\" hidden><div class=\"sk-item sk-dashed-wrapped\"><div class=\"sk-label-container\"><div class=\"sk-label sk-toggleable\"><input class=\"sk-toggleable__control sk-hidden--visually\" id=\"sk-estimator-id-31\" type=\"checkbox\" ><label for=\"sk-estimator-id-31\" class=\"sk-toggleable__label sk-toggleable__label-arrow\">Pipeline</label><div class=\"sk-toggleable__content\"><pre>Pipeline(steps=[(&#x27;data_preprocessing&#x27;,\n",
              "                 ColumnTransformer(transformers=[(&#x27;text_pre_0&#x27;,\n",
              "                                                  Pipeline(steps=[(&#x27;text_vect_0&#x27;,\n",
              "                                                                   TfidfVectorizer(max_features=2500))]),\n",
              "                                                  &#x27;tweet&#x27;)])),\n",
              "                (&#x27;gb&#x27;,\n",
              "                 GradientBoostingClassifier(max_depth=5, n_estimators=500,\n",
              "                                            random_state=42))])</pre></div></div></div><div class=\"sk-serial\"><div class=\"sk-item sk-dashed-wrapped\"><div class=\"sk-label-container\"><div class=\"sk-label sk-toggleable\"><input class=\"sk-toggleable__control sk-hidden--visually\" id=\"sk-estimator-id-32\" type=\"checkbox\" ><label for=\"sk-estimator-id-32\" class=\"sk-toggleable__label sk-toggleable__label-arrow\">data_preprocessing: ColumnTransformer</label><div class=\"sk-toggleable__content\"><pre>ColumnTransformer(transformers=[(&#x27;text_pre_0&#x27;,\n",
              "                                 Pipeline(steps=[(&#x27;text_vect_0&#x27;,\n",
              "                                                  TfidfVectorizer(max_features=2500))]),\n",
              "                                 &#x27;tweet&#x27;)])</pre></div></div></div><div class=\"sk-parallel\"><div class=\"sk-parallel-item\"><div class=\"sk-item\"><div class=\"sk-label-container\"><div class=\"sk-label sk-toggleable\"><input class=\"sk-toggleable__control sk-hidden--visually\" id=\"sk-estimator-id-33\" type=\"checkbox\" ><label for=\"sk-estimator-id-33\" class=\"sk-toggleable__label sk-toggleable__label-arrow\">text_pre_0</label><div class=\"sk-toggleable__content\"><pre>tweet</pre></div></div></div><div class=\"sk-serial\"><div class=\"sk-item\"><div class=\"sk-serial\"><div class=\"sk-item\"><div class=\"sk-estimator sk-toggleable\"><input class=\"sk-toggleable__control sk-hidden--visually\" id=\"sk-estimator-id-34\" type=\"checkbox\" ><label for=\"sk-estimator-id-34\" class=\"sk-toggleable__label sk-toggleable__label-arrow\">TfidfVectorizer</label><div class=\"sk-toggleable__content\"><pre>TfidfVectorizer(max_features=2500)</pre></div></div></div></div></div></div></div></div></div></div><div class=\"sk-item\"><div class=\"sk-estimator sk-toggleable\"><input class=\"sk-toggleable__control sk-hidden--visually\" id=\"sk-estimator-id-35\" type=\"checkbox\" ><label for=\"sk-estimator-id-35\" class=\"sk-toggleable__label sk-toggleable__label-arrow\">GradientBoostingClassifier</label><div class=\"sk-toggleable__content\"><pre>GradientBoostingClassifier(max_depth=5, n_estimators=500, random_state=42)</pre></div></div></div></div></div></div></div>"
            ],
            "text/plain": [
              "Pipeline(steps=[('data_preprocessing',\n",
              "                 ColumnTransformer(transformers=[('text_pre_0',\n",
              "                                                  Pipeline(steps=[('text_vect_0',\n",
              "                                                                   TfidfVectorizer(max_features=2500))]),\n",
              "                                                  'tweet')])),\n",
              "                ('gb',\n",
              "                 GradientBoostingClassifier(max_depth=5, n_estimators=500,\n",
              "                                            random_state=42))])"
            ]
          },
          "execution_count": 27,
          "metadata": {},
          "output_type": "execute_result"
        }
      ],
      "source": [
        "# Fit the pipeline to your training data\n",
        "gb_pipeline.fit(X_train, y_train)"
      ]
    },
    {
      "cell_type": "code",
      "execution_count": null,
      "metadata": {
        "colab": {
          "base_uri": "https://localhost:8080/"
        },
        "id": "2EfIpKaZX7L5",
        "outputId": "b439acc7-5558-414d-fc55-f2f548773b67"
      },
      "outputs": [
        {
          "name": "stdout",
          "output_type": "stream",
          "text": [
            "[[23087  6359  4857]\n",
            " [ 1471 49417  2544]\n",
            " [ 2346  6130 67781]]\n",
            "              precision    recall  f1-score   support\n",
            "\n",
            "          -1       0.86      0.67      0.75     34303\n",
            "           0       0.80      0.92      0.86     53432\n",
            "           1       0.90      0.89      0.90     76257\n",
            "\n",
            "    accuracy                           0.86    163992\n",
            "   macro avg       0.85      0.83      0.84    163992\n",
            "weighted avg       0.86      0.86      0.85    163992\n",
            "\n",
            "Accuracy (validation): 0.8554380701497634\n"
          ]
        }
      ],
      "source": [
        "# Predict the categories of the testing set tweets\n",
        "test_predictions = gb_pipeline.predict(X_test)\n",
        "\n",
        "# Printing the Confusion Matrix\n",
        "print(confusion_matrix(y_test.values, test_predictions))\n",
        "\n",
        "# Printing the Classification Report\n",
        "print(classification_report(y_test.values, test_predictions))\n",
        "\n",
        "# Calculating and Printing the Accuracy\n",
        "print(\"Accuracy (validation):\", accuracy_score(y_test.values, test_predictions))"
      ]
    },
    {
      "cell_type": "code",
      "execution_count": null,
      "metadata": {
        "colab": {
          "base_uri": "https://localhost:8080/",
          "height": 564
        },
        "id": "B4nLuKPeX9fn",
        "outputId": "38045de1-7726-4968-8587-aa04cdf57b6e"
      },
      "outputs": [
        {
          "data": {
            "image/png": "[encoded data removed]",
            "text/plain": [
              "<Figure size 800x600 with 1 Axes>"
            ]
          },
          "metadata": {},
          "output_type": "display_data"
        }
      ],
      "source": [
        "gb_cm = confusion_matrix(y_test.values, test_predictions)\n",
        "\n",
        "def plot_confusion_matrix(conf_matrix, title='Confusion Matrix'):\n",
        "    plt.figure(figsize=(8, 6))\n",
        "    sns.heatmap(gb_cm, annot=True, fmt='g', cmap='Blues', cbar=False,\n",
        "                xticklabels=['negative', 'neutral', 'positive'],\n",
        "                yticklabels=['negative', 'neutral', 'positive'])\n",
        "    plt.xlabel('Predicted labels')\n",
        "    plt.ylabel('True labels')\n",
        "    plt.title(title)\n",
        "    plt.show()\n",
        "\n",
        "# Plotting the confusion matrices\n",
        "plot_confusion_matrix(gb_cm, title='Confusion Matrix')"
      ]
    },
    {
      "cell_type": "markdown",
      "metadata": {
        "id": "E5ZDUFkYX-sd"
      },
      "source": [
        "## Improved KNN Model"
      ]
    },
    {
      "cell_type": "code",
      "execution_count": null,
      "metadata": {
        "colab": {
          "base_uri": "https://localhost:8080/",
          "height": 192
        },
        "id": "wTSK7SIQFR9v",
        "outputId": "13eaefe0-b8af-4e83-eb6c-25e71c4515ef"
      },
      "outputs": [
        {
          "data": {
            "text/html": [
              "<style>#sk-container-id-5 {color: black;background-color: white;}#sk-container-id-5 pre{padding: 0;}#sk-container-id-5 div.sk-toggleable {background-color: white;}#sk-container-id-5 label.sk-toggleable__label {cursor: pointer;display: block;width: 100%;margin-bottom: 0;padding: 0.3em;box-sizing: border-box;text-align: center;}#sk-container-id-5 label.sk-toggleable__label-arrow:before {content: \"▸\";float: left;margin-right: 0.25em;color: #696969;}#sk-container-id-5 label.sk-toggleable__label-arrow:hover:before {color: black;}#sk-container-id-5 div.sk-estimator:hover label.sk-toggleable__label-arrow:before {color: black;}#sk-container-id-5 div.sk-toggleable__content {max-height: 0;max-width: 0;overflow: hidden;text-align: left;background-color: #f0f8ff;}#sk-container-id-5 div.sk-toggleable__content pre {margin: 0.2em;color: black;border-radius: 0.25em;background-color: #f0f8ff;}#sk-container-id-5 input.sk-toggleable__control:checked~div.sk-toggleable__content {max-height: 200px;max-width: 100%;overflow: auto;}#sk-container-id-5 input.sk-toggleable__control:checked~label.sk-toggleable__label-arrow:before {content: \"▾\";}#sk-container-id-5 div.sk-estimator input.sk-toggleable__control:checked~label.sk-toggleable__label {background-color: #d4ebff;}#sk-container-id-5 div.sk-label input.sk-toggleable__control:checked~label.sk-toggleable__label {background-color: #d4ebff;}#sk-container-id-5 input.sk-hidden--visually {border: 0;clip: rect(1px 1px 1px 1px);clip: rect(1px, 1px, 1px, 1px);height: 1px;margin: -1px;overflow: hidden;padding: 0;position: absolute;width: 1px;}#sk-container-id-5 div.sk-estimator {font-family: monospace;background-color: #f0f8ff;border: 1px dotted black;border-radius: 0.25em;box-sizing: border-box;margin-bottom: 0.5em;}#sk-container-id-5 div.sk-estimator:hover {background-color: #d4ebff;}#sk-container-id-5 div.sk-parallel-item::after {content: \"\";width: 100%;border-bottom: 1px solid gray;flex-grow: 1;}#sk-container-id-5 div.sk-label:hover label.sk-toggleable__label {background-color: #d4ebff;}#sk-container-id-5 div.sk-serial::before {content: \"\";position: absolute;border-left: 1px solid gray;box-sizing: border-box;top: 0;bottom: 0;left: 50%;z-index: 0;}#sk-container-id-5 div.sk-serial {display: flex;flex-direction: column;align-items: center;background-color: white;padding-right: 0.2em;padding-left: 0.2em;position: relative;}#sk-container-id-5 div.sk-item {position: relative;z-index: 1;}#sk-container-id-5 div.sk-parallel {display: flex;align-items: stretch;justify-content: center;background-color: white;position: relative;}#sk-container-id-5 div.sk-item::before, #sk-container-id-5 div.sk-parallel-item::before {content: \"\";position: absolute;border-left: 1px solid gray;box-sizing: border-box;top: 0;bottom: 0;left: 50%;z-index: -1;}#sk-container-id-5 div.sk-parallel-item {display: flex;flex-direction: column;z-index: 1;position: relative;background-color: white;}#sk-container-id-5 div.sk-parallel-item:first-child::after {align-self: flex-end;width: 50%;}#sk-container-id-5 div.sk-parallel-item:last-child::after {align-self: flex-start;width: 50%;}#sk-container-id-5 div.sk-parallel-item:only-child::after {width: 0;}#sk-container-id-5 div.sk-dashed-wrapped {border: 1px dashed gray;margin: 0 0.4em 0.5em 0.4em;box-sizing: border-box;padding-bottom: 0.4em;background-color: white;}#sk-container-id-5 div.sk-label label {font-family: monospace;font-weight: bold;display: inline-block;line-height: 1.2em;}#sk-container-id-5 div.sk-label-container {text-align: center;}#sk-container-id-5 div.sk-container {/* jupyter's `normalize.less` sets `[hidden] { display: none; }` but bootstrap.min.css set `[hidden] { display: none !important; }` so we also need the `!important` here to be able to override the default hidden behavior on the sphinx rendered scikit-learn.org. See: https://github.com/scikit-learn/scikit-learn/issues/21755 */display: inline-block !important;position: relative;}#sk-container-id-5 div.sk-text-repr-fallback {display: none;}</style><div id=\"sk-container-id-5\" class=\"sk-top-container\"><div class=\"sk-text-repr-fallback\"><pre>Pipeline(steps=[(&#x27;data_preprocessing&#x27;,\n",
              "                 ColumnTransformer(transformers=[(&#x27;text_pre_0&#x27;,\n",
              "                                                  Pipeline(steps=[(&#x27;text_vect_0&#x27;,\n",
              "                                                                   TfidfVectorizer(max_features=2500))]),\n",
              "                                                  &#x27;tweet&#x27;)])),\n",
              "                (&#x27;knn&#x27;, KNeighborsClassifier())])</pre><b>In a Jupyter environment, please rerun this cell to show the HTML representation or trust the notebook. <br />On GitHub, the HTML representation is unable to render, please try loading this page with nbviewer.org.</b></div><div class=\"sk-container\" hidden><div class=\"sk-item sk-dashed-wrapped\"><div class=\"sk-label-container\"><div class=\"sk-label sk-toggleable\"><input class=\"sk-toggleable__control sk-hidden--visually\" id=\"sk-estimator-id-21\" type=\"checkbox\" ><label for=\"sk-estimator-id-21\" class=\"sk-toggleable__label sk-toggleable__label-arrow\">Pipeline</label><div class=\"sk-toggleable__content\"><pre>Pipeline(steps=[(&#x27;data_preprocessing&#x27;,\n",
              "                 ColumnTransformer(transformers=[(&#x27;text_pre_0&#x27;,\n",
              "                                                  Pipeline(steps=[(&#x27;text_vect_0&#x27;,\n",
              "                                                                   TfidfVectorizer(max_features=2500))]),\n",
              "                                                  &#x27;tweet&#x27;)])),\n",
              "                (&#x27;knn&#x27;, KNeighborsClassifier())])</pre></div></div></div><div class=\"sk-serial\"><div class=\"sk-item sk-dashed-wrapped\"><div class=\"sk-label-container\"><div class=\"sk-label sk-toggleable\"><input class=\"sk-toggleable__control sk-hidden--visually\" id=\"sk-estimator-id-22\" type=\"checkbox\" ><label for=\"sk-estimator-id-22\" class=\"sk-toggleable__label sk-toggleable__label-arrow\">data_preprocessing: ColumnTransformer</label><div class=\"sk-toggleable__content\"><pre>ColumnTransformer(transformers=[(&#x27;text_pre_0&#x27;,\n",
              "                                 Pipeline(steps=[(&#x27;text_vect_0&#x27;,\n",
              "                                                  TfidfVectorizer(max_features=2500))]),\n",
              "                                 &#x27;tweet&#x27;)])</pre></div></div></div><div class=\"sk-parallel\"><div class=\"sk-parallel-item\"><div class=\"sk-item\"><div class=\"sk-label-container\"><div class=\"sk-label sk-toggleable\"><input class=\"sk-toggleable__control sk-hidden--visually\" id=\"sk-estimator-id-23\" type=\"checkbox\" ><label for=\"sk-estimator-id-23\" class=\"sk-toggleable__label sk-toggleable__label-arrow\">text_pre_0</label><div class=\"sk-toggleable__content\"><pre>tweet</pre></div></div></div><div class=\"sk-serial\"><div class=\"sk-item\"><div class=\"sk-serial\"><div class=\"sk-item\"><div class=\"sk-estimator sk-toggleable\"><input class=\"sk-toggleable__control sk-hidden--visually\" id=\"sk-estimator-id-24\" type=\"checkbox\" ><label for=\"sk-estimator-id-24\" class=\"sk-toggleable__label sk-toggleable__label-arrow\">TfidfVectorizer</label><div class=\"sk-toggleable__content\"><pre>TfidfVectorizer(max_features=2500)</pre></div></div></div></div></div></div></div></div></div></div><div class=\"sk-item\"><div class=\"sk-estimator sk-toggleable\"><input class=\"sk-toggleable__control sk-hidden--visually\" id=\"sk-estimator-id-25\" type=\"checkbox\" ><label for=\"sk-estimator-id-25\" class=\"sk-toggleable__label sk-toggleable__label-arrow\">KNeighborsClassifier</label><div class=\"sk-toggleable__content\"><pre>KNeighborsClassifier()</pre></div></div></div></div></div></div></div>"
            ],
            "text/plain": [
              "Pipeline(steps=[('data_preprocessing',\n",
              "                 ColumnTransformer(transformers=[('text_pre_0',\n",
              "                                                  Pipeline(steps=[('text_vect_0',\n",
              "                                                                   TfidfVectorizer(max_features=2500))]),\n",
              "                                                  'tweet')])),\n",
              "                ('knn', KNeighborsClassifier())])"
            ]
          },
          "execution_count": 19,
          "metadata": {},
          "output_type": "execute_result"
        }
      ],
      "source": [
        "# Preprocessing the Text Feature\n",
        "text_processor_0 = Pipeline(steps=[\n",
        "    ('text_vect_0', TfidfVectorizer(max_features=2500))\n",
        "])\n",
        "\n",
        "# Combining All Data Preprocessors\n",
        "data_preprocessor = ColumnTransformer(transformers=[\n",
        "    ('text_pre_0', text_processor_0, text_features[0]),\n",
        "])\n",
        "\n",
        "# Assembling the Full Pipeline with Multinomial Logistic Regression\n",
        "knn_pipeline = Pipeline(steps=[\n",
        "    ('data_preprocessing', data_preprocessor),\n",
        "    ('knn', KNeighborsClassifier(n_neighbors = 5))\n",
        "])\n",
        "\n",
        "# Fit the Pipeline to training data\n",
        "knn_pipeline.fit(X_train, y_train.values)"
      ]
    },
    {
      "cell_type": "code",
      "execution_count": null,
      "metadata": {
        "colab": {
          "base_uri": "https://localhost:8080/"
        },
        "id": "3WTRXjGjYsEU",
        "outputId": "d81b5547-aa2d-4368-fdf4-7c969ceccbab"
      },
      "outputs": [
        {
          "name": "stdout",
          "output_type": "stream",
          "text": [
            "[[19563 12263  2477]\n",
            " [ 1703 48907  2822]\n",
            " [ 2968 20767 52522]]\n",
            "              precision    recall  f1-score   support\n",
            "\n",
            "          -1       0.81      0.57      0.67     34303\n",
            "           0       0.60      0.92      0.72     53432\n",
            "           1       0.91      0.69      0.78     76257\n",
            "\n",
            "    accuracy                           0.74    163992\n",
            "   macro avg       0.77      0.72      0.72    163992\n",
            "weighted avg       0.79      0.74      0.74    163992\n",
            "\n",
            "Accuracy (validation): 0.7377920874188985\n"
          ]
        }
      ],
      "source": [
        "# Predict the categories of the testing set tweets\n",
        "test_predictions = knn_pipeline.predict(X_test)\n",
        "\n",
        "# Printing the Confusion Matrix\n",
        "print(confusion_matrix(y_test.values, test_predictions))\n",
        "\n",
        "# Printing the Classification Report\n",
        "print(classification_report(y_test.values, test_predictions))\n",
        "\n",
        "# Calculating and Printing the Accuracy\n",
        "print(\"Accuracy (validation):\", accuracy_score(y_test.values, test_predictions))"
      ]
    },
    {
      "cell_type": "code",
      "execution_count": null,
      "metadata": {
        "colab": {
          "base_uri": "https://localhost:8080/",
          "height": 564
        },
        "id": "K1rnffqaYto6",
        "outputId": "06b1e5ac-2488-495e-bcb7-9e855f2d5d9d"
      },
      "outputs": [
        {
          "data": {
            "image/png": "[encoded data removed]",
            "text/plain": [
              "<Figure size 800x600 with 1 Axes>"
            ]
          },
          "metadata": {},
          "output_type": "display_data"
        }
      ],
      "source": [
        "knn_cm = confusion_matrix(y_test.values, test_predictions)\n",
        "\n",
        "def plot_confusion_matrix(conf_matrix, title='Confusion Matrix'):\n",
        "    plt.figure(figsize=(8, 6))\n",
        "    sns.heatmap(knn_cm, annot=True, fmt='g', cmap='Blues', cbar=False,\n",
        "                xticklabels=['negative', 'neutral', 'positive'],\n",
        "                yticklabels=['negative', 'neutral', 'positive'])\n",
        "    plt.xlabel('Predicted labels')\n",
        "    plt.ylabel('True labels')\n",
        "    plt.title(title)\n",
        "    plt.show()\n",
        "\n",
        "# Plotting the confusion matrices\n",
        "plot_confusion_matrix(knn_cm, title='Confusion Matrix')"
      ]
    },
    {
      "cell_type": "markdown",
      "metadata": {
        "id": "DYoA0pNsY-iy"
      },
      "source": [
        "## Improved Random Forest Model"
      ]
    },
    {
      "cell_type": "code",
      "execution_count": null,
      "metadata": {
        "colab": {
          "base_uri": "https://localhost:8080/",
          "height": 192
        },
        "id": "lRLmKiFcZF9M",
        "outputId": "d0de48d2-63c3-4d97-8936-e621843f97f0"
      },
      "outputs": [
        {
          "data": {
            "text/html": [
              "<style>#sk-container-id-5 {color: black;background-color: white;}#sk-container-id-5 pre{padding: 0;}#sk-container-id-5 div.sk-toggleable {background-color: white;}#sk-container-id-5 label.sk-toggleable__label {cursor: pointer;display: block;width: 100%;margin-bottom: 0;padding: 0.3em;box-sizing: border-box;text-align: center;}#sk-container-id-5 label.sk-toggleable__label-arrow:before {content: \"▸\";float: left;margin-right: 0.25em;color: #696969;}#sk-container-id-5 label.sk-toggleable__label-arrow:hover:before {color: black;}#sk-container-id-5 div.sk-estimator:hover label.sk-toggleable__label-arrow:before {color: black;}#sk-container-id-5 div.sk-toggleable__content {max-height: 0;max-width: 0;overflow: hidden;text-align: left;background-color: #f0f8ff;}#sk-container-id-5 div.sk-toggleable__content pre {margin: 0.2em;color: black;border-radius: 0.25em;background-color: #f0f8ff;}#sk-container-id-5 input.sk-toggleable__control:checked~div.sk-toggleable__content {max-height: 200px;max-width: 100%;overflow: auto;}#sk-container-id-5 input.sk-toggleable__control:checked~label.sk-toggleable__label-arrow:before {content: \"▾\";}#sk-container-id-5 div.sk-estimator input.sk-toggleable__control:checked~label.sk-toggleable__label {background-color: #d4ebff;}#sk-container-id-5 div.sk-label input.sk-toggleable__control:checked~label.sk-toggleable__label {background-color: #d4ebff;}#sk-container-id-5 input.sk-hidden--visually {border: 0;clip: rect(1px 1px 1px 1px);clip: rect(1px, 1px, 1px, 1px);height: 1px;margin: -1px;overflow: hidden;padding: 0;position: absolute;width: 1px;}#sk-container-id-5 div.sk-estimator {font-family: monospace;background-color: #f0f8ff;border: 1px dotted black;border-radius: 0.25em;box-sizing: border-box;margin-bottom: 0.5em;}#sk-container-id-5 div.sk-estimator:hover {background-color: #d4ebff;}#sk-container-id-5 div.sk-parallel-item::after {content: \"\";width: 100%;border-bottom: 1px solid gray;flex-grow: 1;}#sk-container-id-5 div.sk-label:hover label.sk-toggleable__label {background-color: #d4ebff;}#sk-container-id-5 div.sk-serial::before {content: \"\";position: absolute;border-left: 1px solid gray;box-sizing: border-box;top: 0;bottom: 0;left: 50%;z-index: 0;}#sk-container-id-5 div.sk-serial {display: flex;flex-direction: column;align-items: center;background-color: white;padding-right: 0.2em;padding-left: 0.2em;position: relative;}#sk-container-id-5 div.sk-item {position: relative;z-index: 1;}#sk-container-id-5 div.sk-parallel {display: flex;align-items: stretch;justify-content: center;background-color: white;position: relative;}#sk-container-id-5 div.sk-item::before, #sk-container-id-5 div.sk-parallel-item::before {content: \"\";position: absolute;border-left: 1px solid gray;box-sizing: border-box;top: 0;bottom: 0;left: 50%;z-index: -1;}#sk-container-id-5 div.sk-parallel-item {display: flex;flex-direction: column;z-index: 1;position: relative;background-color: white;}#sk-container-id-5 div.sk-parallel-item:first-child::after {align-self: flex-end;width: 50%;}#sk-container-id-5 div.sk-parallel-item:last-child::after {align-self: flex-start;width: 50%;}#sk-container-id-5 div.sk-parallel-item:only-child::after {width: 0;}#sk-container-id-5 div.sk-dashed-wrapped {border: 1px dashed gray;margin: 0 0.4em 0.5em 0.4em;box-sizing: border-box;padding-bottom: 0.4em;background-color: white;}#sk-container-id-5 div.sk-label label {font-family: monospace;font-weight: bold;display: inline-block;line-height: 1.2em;}#sk-container-id-5 div.sk-label-container {text-align: center;}#sk-container-id-5 div.sk-container {/* jupyter's `normalize.less` sets `[hidden] { display: none; }` but bootstrap.min.css set `[hidden] { display: none !important; }` so we also need the `!important` here to be able to override the default hidden behavior on the sphinx rendered scikit-learn.org. See: https://github.com/scikit-learn/scikit-learn/issues/21755 */display: inline-block !important;position: relative;}#sk-container-id-5 div.sk-text-repr-fallback {display: none;}</style><div id=\"sk-container-id-5\" class=\"sk-top-container\"><div class=\"sk-text-repr-fallback\"><pre>Pipeline(steps=[(&#x27;data_preprocessing&#x27;,\n",
              "                 ColumnTransformer(transformers=[(&#x27;text_pre_0&#x27;,\n",
              "                                                  Pipeline(steps=[(&#x27;text_vect_0&#x27;,\n",
              "                                                                   TfidfVectorizer(max_features=1000))]),\n",
              "                                                  &#x27;tweet&#x27;)])),\n",
              "                (&#x27;random_forest&#x27;,\n",
              "                 RandomForestClassifier(class_weight=&#x27;balanced&#x27;))])</pre><b>In a Jupyter environment, please rerun this cell to show the HTML representation or trust the notebook. <br />On GitHub, the HTML representation is unable to render, please try loading this page with nbviewer.org.</b></div><div class=\"sk-container\" hidden><div class=\"sk-item sk-dashed-wrapped\"><div class=\"sk-label-container\"><div class=\"sk-label sk-toggleable\"><input class=\"sk-toggleable__control sk-hidden--visually\" id=\"sk-estimator-id-21\" type=\"checkbox\" ><label for=\"sk-estimator-id-21\" class=\"sk-toggleable__label sk-toggleable__label-arrow\">Pipeline</label><div class=\"sk-toggleable__content\"><pre>Pipeline(steps=[(&#x27;data_preprocessing&#x27;,\n",
              "                 ColumnTransformer(transformers=[(&#x27;text_pre_0&#x27;,\n",
              "                                                  Pipeline(steps=[(&#x27;text_vect_0&#x27;,\n",
              "                                                                   TfidfVectorizer(max_features=1000))]),\n",
              "                                                  &#x27;tweet&#x27;)])),\n",
              "                (&#x27;random_forest&#x27;,\n",
              "                 RandomForestClassifier(class_weight=&#x27;balanced&#x27;))])</pre></div></div></div><div class=\"sk-serial\"><div class=\"sk-item sk-dashed-wrapped\"><div class=\"sk-label-container\"><div class=\"sk-label sk-toggleable\"><input class=\"sk-toggleable__control sk-hidden--visually\" id=\"sk-estimator-id-22\" type=\"checkbox\" ><label for=\"sk-estimator-id-22\" class=\"sk-toggleable__label sk-toggleable__label-arrow\">data_preprocessing: ColumnTransformer</label><div class=\"sk-toggleable__content\"><pre>ColumnTransformer(transformers=[(&#x27;text_pre_0&#x27;,\n",
              "                                 Pipeline(steps=[(&#x27;text_vect_0&#x27;,\n",
              "                                                  TfidfVectorizer(max_features=1000))]),\n",
              "                                 &#x27;tweet&#x27;)])</pre></div></div></div><div class=\"sk-parallel\"><div class=\"sk-parallel-item\"><div class=\"sk-item\"><div class=\"sk-label-container\"><div class=\"sk-label sk-toggleable\"><input class=\"sk-toggleable__control sk-hidden--visually\" id=\"sk-estimator-id-23\" type=\"checkbox\" ><label for=\"sk-estimator-id-23\" class=\"sk-toggleable__label sk-toggleable__label-arrow\">text_pre_0</label><div class=\"sk-toggleable__content\"><pre>tweet</pre></div></div></div><div class=\"sk-serial\"><div class=\"sk-item\"><div class=\"sk-serial\"><div class=\"sk-item\"><div class=\"sk-estimator sk-toggleable\"><input class=\"sk-toggleable__control sk-hidden--visually\" id=\"sk-estimator-id-24\" type=\"checkbox\" ><label for=\"sk-estimator-id-24\" class=\"sk-toggleable__label sk-toggleable__label-arrow\">TfidfVectorizer</label><div class=\"sk-toggleable__content\"><pre>TfidfVectorizer(max_features=1000)</pre></div></div></div></div></div></div></div></div></div></div><div class=\"sk-item\"><div class=\"sk-estimator sk-toggleable\"><input class=\"sk-toggleable__control sk-hidden--visually\" id=\"sk-estimator-id-25\" type=\"checkbox\" ><label for=\"sk-estimator-id-25\" class=\"sk-toggleable__label sk-toggleable__label-arrow\">RandomForestClassifier</label><div class=\"sk-toggleable__content\"><pre>RandomForestClassifier(class_weight=&#x27;balanced&#x27;)</pre></div></div></div></div></div></div></div>"
            ],
            "text/plain": [
              "Pipeline(steps=[('data_preprocessing',\n",
              "                 ColumnTransformer(transformers=[('text_pre_0',\n",
              "                                                  Pipeline(steps=[('text_vect_0',\n",
              "                                                                   TfidfVectorizer(max_features=1000))]),\n",
              "                                                  'tweet')])),\n",
              "                ('random_forest',\n",
              "                 RandomForestClassifier(class_weight='balanced'))])"
            ]
          },
          "execution_count": 22,
          "metadata": {},
          "output_type": "execute_result"
        }
      ],
      "source": [
        "# Preprocessing the Text Feature\n",
        "text_processor_0 = Pipeline(steps=[\n",
        "    ('text_vect_0', TfidfVectorizer(max_features=2500))\n",
        "])\n",
        "\n",
        "# Combining All Data Preprocessors\n",
        "data_preprocessor = ColumnTransformer(transformers=[\n",
        "    ('text_pre_0', text_processor_0, text_features[0]),\n",
        "])\n",
        "\n",
        "# Assembling the Full Pipeline with Multinomial Logistic Regression\n",
        "rf_pipeline = Pipeline(steps=[\n",
        "    ('data_preprocessing', data_preprocessor),\n",
        "    ('random_forest', RandomForestClassifier(n_estimators=100, class_weight='balanced'))\n",
        "])\n",
        "\n",
        "# Fit the Pipeline to training data\n",
        "rf_pipeline.fit(X_train, y_train.values)"
      ]
    },
    {
      "cell_type": "code",
      "execution_count": null,
      "metadata": {
        "colab": {
          "base_uri": "https://localhost:8080/"
        },
        "id": "B97tA_V0ZJCM",
        "outputId": "caac3032-b061-4131-d6a9-5ef52127d73e"
      },
      "outputs": [
        {
          "name": "stdout",
          "output_type": "stream",
          "text": [
            "[[24775  5332  4196]\n",
            " [ 2367 48474  2591]\n",
            " [ 2925  4903 68429]]\n",
            "              precision    recall  f1-score   support\n",
            "\n",
            "          -1       0.82      0.72      0.77     34303\n",
            "           0       0.83      0.91      0.86     53432\n",
            "           1       0.91      0.90      0.90     76257\n",
            "\n",
            "    accuracy                           0.86    163992\n",
            "   macro avg       0.85      0.84      0.85    163992\n",
            "weighted avg       0.86      0.86      0.86    163992\n",
            "\n",
            "Accuracy (validation): 0.8639323869457046\n"
          ]
        }
      ],
      "source": [
        "# Predict the categories of the testing set tweets\n",
        "test_predictions = rf_pipeline.predict(X_test)\n",
        "\n",
        "# Printing the Confusion Matrix\n",
        "print(confusion_matrix(y_test.values, test_predictions))\n",
        "\n",
        "# Printing the Classification Report\n",
        "print(classification_report(y_test.values, test_predictions))\n",
        "\n",
        "# Calculating and Printing the Accuracy\n",
        "print(\"Accuracy (validation):\", accuracy_score(y_test.values, test_predictions))"
      ]
    },
    {
      "cell_type": "code",
      "execution_count": null,
      "metadata": {
        "colab": {
          "base_uri": "https://localhost:8080/",
          "height": 564
        },
        "id": "CgiG4o2eZKW8",
        "outputId": "46345535-5519-4323-db74-42652bdd5fd9"
      },
      "outputs": [
        {
          "data": {
            "image/png": "[encoded data removed]",
            "text/plain": [
              "<Figure size 800x600 with 1 Axes>"
            ]
          },
          "metadata": {},
          "output_type": "display_data"
        }
      ],
      "source": [
        "rf_cm = confusion_matrix(y_test.values, test_predictions)\n",
        "\n",
        "def plot_confusion_matrix(conf_matrix, title='Confusion Matrix'):\n",
        "    plt.figure(figsize=(8, 6))\n",
        "    sns.heatmap(rf_cm, annot=True, fmt='g', cmap='Blues', cbar=False,\n",
        "                xticklabels=['negative', 'neutral', 'positive'],\n",
        "                yticklabels=['negative', 'neutral', 'positive'])\n",
        "    plt.xlabel('Predicted labels')\n",
        "    plt.ylabel('True labels')\n",
        "    plt.title(title)\n",
        "    plt.show()\n",
        "\n",
        "# Plotting the confusion matrices\n",
        "plot_confusion_matrix(rf_cm, title='Confusion Matrix')"
      ]
    },
    {
      "cell_type": "markdown",
      "metadata": {
        "id": "UCO-KMthZLXf"
      },
      "source": [
        "## Improved Naive Bayes"
      ]
    },
    {
      "cell_type": "code",
      "execution_count": null,
      "metadata": {
        "colab": {
          "base_uri": "https://localhost:8080/",
          "height": 227
        },
        "id": "acUa3i_SaGks",
        "outputId": "5097f59e-f40f-4d73-a132-7bba0fcbcee4"
      },
      "outputs": [
        {
          "data": {
            "text/html": [
              "<style>#sk-container-id-3 {color: black;background-color: white;}#sk-container-id-3 pre{padding: 0;}#sk-container-id-3 div.sk-toggleable {background-color: white;}#sk-container-id-3 label.sk-toggleable__label {cursor: pointer;display: block;width: 100%;margin-bottom: 0;padding: 0.3em;box-sizing: border-box;text-align: center;}#sk-container-id-3 label.sk-toggleable__label-arrow:before {content: \"▸\";float: left;margin-right: 0.25em;color: #696969;}#sk-container-id-3 label.sk-toggleable__label-arrow:hover:before {color: black;}#sk-container-id-3 div.sk-estimator:hover label.sk-toggleable__label-arrow:before {color: black;}#sk-container-id-3 div.sk-toggleable__content {max-height: 0;max-width: 0;overflow: hidden;text-align: left;background-color: #f0f8ff;}#sk-container-id-3 div.sk-toggleable__content pre {margin: 0.2em;color: black;border-radius: 0.25em;background-color: #f0f8ff;}#sk-container-id-3 input.sk-toggleable__control:checked~div.sk-toggleable__content {max-height: 200px;max-width: 100%;overflow: auto;}#sk-container-id-3 input.sk-toggleable__control:checked~label.sk-toggleable__label-arrow:before {content: \"▾\";}#sk-container-id-3 div.sk-estimator input.sk-toggleable__control:checked~label.sk-toggleable__label {background-color: #d4ebff;}#sk-container-id-3 div.sk-label input.sk-toggleable__control:checked~label.sk-toggleable__label {background-color: #d4ebff;}#sk-container-id-3 input.sk-hidden--visually {border: 0;clip: rect(1px 1px 1px 1px);clip: rect(1px, 1px, 1px, 1px);height: 1px;margin: -1px;overflow: hidden;padding: 0;position: absolute;width: 1px;}#sk-container-id-3 div.sk-estimator {font-family: monospace;background-color: #f0f8ff;border: 1px dotted black;border-radius: 0.25em;box-sizing: border-box;margin-bottom: 0.5em;}#sk-container-id-3 div.sk-estimator:hover {background-color: #d4ebff;}#sk-container-id-3 div.sk-parallel-item::after {content: \"\";width: 100%;border-bottom: 1px solid gray;flex-grow: 1;}#sk-container-id-3 div.sk-label:hover label.sk-toggleable__label {background-color: #d4ebff;}#sk-container-id-3 div.sk-serial::before {content: \"\";position: absolute;border-left: 1px solid gray;box-sizing: border-box;top: 0;bottom: 0;left: 50%;z-index: 0;}#sk-container-id-3 div.sk-serial {display: flex;flex-direction: column;align-items: center;background-color: white;padding-right: 0.2em;padding-left: 0.2em;position: relative;}#sk-container-id-3 div.sk-item {position: relative;z-index: 1;}#sk-container-id-3 div.sk-parallel {display: flex;align-items: stretch;justify-content: center;background-color: white;position: relative;}#sk-container-id-3 div.sk-item::before, #sk-container-id-3 div.sk-parallel-item::before {content: \"\";position: absolute;border-left: 1px solid gray;box-sizing: border-box;top: 0;bottom: 0;left: 50%;z-index: -1;}#sk-container-id-3 div.sk-parallel-item {display: flex;flex-direction: column;z-index: 1;position: relative;background-color: white;}#sk-container-id-3 div.sk-parallel-item:first-child::after {align-self: flex-end;width: 50%;}#sk-container-id-3 div.sk-parallel-item:last-child::after {align-self: flex-start;width: 50%;}#sk-container-id-3 div.sk-parallel-item:only-child::after {width: 0;}#sk-container-id-3 div.sk-dashed-wrapped {border: 1px dashed gray;margin: 0 0.4em 0.5em 0.4em;box-sizing: border-box;padding-bottom: 0.4em;background-color: white;}#sk-container-id-3 div.sk-label label {font-family: monospace;font-weight: bold;display: inline-block;line-height: 1.2em;}#sk-container-id-3 div.sk-label-container {text-align: center;}#sk-container-id-3 div.sk-container {/* jupyter's `normalize.less` sets `[hidden] { display: none; }` but bootstrap.min.css set `[hidden] { display: none !important; }` so we also need the `!important` here to be able to override the default hidden behavior on the sphinx rendered scikit-learn.org. See: https://github.com/scikit-learn/scikit-learn/issues/21755 */display: inline-block !important;position: relative;}#sk-container-id-3 div.sk-text-repr-fallback {display: none;}</style><div id=\"sk-container-id-3\" class=\"sk-top-container\"><div class=\"sk-text-repr-fallback\"><pre>Pipeline(steps=[(&#x27;data_preprocessing&#x27;,\n",
              "                 ColumnTransformer(transformers=[(&#x27;text_pre_0&#x27;,\n",
              "                                                  Pipeline(steps=[(&#x27;text_vect_0&#x27;,\n",
              "                                                                   TfidfVectorizer(max_features=2500))]),\n",
              "                                                  &#x27;tweet&#x27;)])),\n",
              "                (&#x27;to_dense&#x27;,\n",
              "                 FunctionTransformer(accept_sparse=True,\n",
              "                                     func=&lt;function to_dense at 0x7c14c8e15e10&gt;)),\n",
              "                (&#x27;naive_bayes&#x27;, BernoulliNB())])</pre><b>In a Jupyter environment, please rerun this cell to show the HTML representation or trust the notebook. <br />On GitHub, the HTML representation is unable to render, please try loading this page with nbviewer.org.</b></div><div class=\"sk-container\" hidden><div class=\"sk-item sk-dashed-wrapped\"><div class=\"sk-label-container\"><div class=\"sk-label sk-toggleable\"><input class=\"sk-toggleable__control sk-hidden--visually\" id=\"sk-estimator-id-11\" type=\"checkbox\" ><label for=\"sk-estimator-id-11\" class=\"sk-toggleable__label sk-toggleable__label-arrow\">Pipeline</label><div class=\"sk-toggleable__content\"><pre>Pipeline(steps=[(&#x27;data_preprocessing&#x27;,\n",
              "                 ColumnTransformer(transformers=[(&#x27;text_pre_0&#x27;,\n",
              "                                                  Pipeline(steps=[(&#x27;text_vect_0&#x27;,\n",
              "                                                                   TfidfVectorizer(max_features=2500))]),\n",
              "                                                  &#x27;tweet&#x27;)])),\n",
              "                (&#x27;to_dense&#x27;,\n",
              "                 FunctionTransformer(accept_sparse=True,\n",
              "                                     func=&lt;function to_dense at 0x7c14c8e15e10&gt;)),\n",
              "                (&#x27;naive_bayes&#x27;, BernoulliNB())])</pre></div></div></div><div class=\"sk-serial\"><div class=\"sk-item sk-dashed-wrapped\"><div class=\"sk-label-container\"><div class=\"sk-label sk-toggleable\"><input class=\"sk-toggleable__control sk-hidden--visually\" id=\"sk-estimator-id-12\" type=\"checkbox\" ><label for=\"sk-estimator-id-12\" class=\"sk-toggleable__label sk-toggleable__label-arrow\">data_preprocessing: ColumnTransformer</label><div class=\"sk-toggleable__content\"><pre>ColumnTransformer(transformers=[(&#x27;text_pre_0&#x27;,\n",
              "                                 Pipeline(steps=[(&#x27;text_vect_0&#x27;,\n",
              "                                                  TfidfVectorizer(max_features=2500))]),\n",
              "                                 &#x27;tweet&#x27;)])</pre></div></div></div><div class=\"sk-parallel\"><div class=\"sk-parallel-item\"><div class=\"sk-item\"><div class=\"sk-label-container\"><div class=\"sk-label sk-toggleable\"><input class=\"sk-toggleable__control sk-hidden--visually\" id=\"sk-estimator-id-13\" type=\"checkbox\" ><label for=\"sk-estimator-id-13\" class=\"sk-toggleable__label sk-toggleable__label-arrow\">text_pre_0</label><div class=\"sk-toggleable__content\"><pre>tweet</pre></div></div></div><div class=\"sk-serial\"><div class=\"sk-item\"><div class=\"sk-serial\"><div class=\"sk-item\"><div class=\"sk-estimator sk-toggleable\"><input class=\"sk-toggleable__control sk-hidden--visually\" id=\"sk-estimator-id-14\" type=\"checkbox\" ><label for=\"sk-estimator-id-14\" class=\"sk-toggleable__label sk-toggleable__label-arrow\">TfidfVectorizer</label><div class=\"sk-toggleable__content\"><pre>TfidfVectorizer(max_features=2500)</pre></div></div></div></div></div></div></div></div></div></div><div class=\"sk-item\"><div class=\"sk-estimator sk-toggleable\"><input class=\"sk-toggleable__control sk-hidden--visually\" id=\"sk-estimator-id-15\" type=\"checkbox\" ><label for=\"sk-estimator-id-15\" class=\"sk-toggleable__label sk-toggleable__label-arrow\">FunctionTransformer</label><div class=\"sk-toggleable__content\"><pre>FunctionTransformer(accept_sparse=True,\n",
              "                    func=&lt;function to_dense at 0x7c14c8e15e10&gt;)</pre></div></div></div><div class=\"sk-item\"><div class=\"sk-estimator sk-toggleable\"><input class=\"sk-toggleable__control sk-hidden--visually\" id=\"sk-estimator-id-16\" type=\"checkbox\" ><label for=\"sk-estimator-id-16\" class=\"sk-toggleable__label sk-toggleable__label-arrow\">BernoulliNB</label><div class=\"sk-toggleable__content\"><pre>BernoulliNB()</pre></div></div></div></div></div></div></div>"
            ],
            "text/plain": [
              "Pipeline(steps=[('data_preprocessing',\n",
              "                 ColumnTransformer(transformers=[('text_pre_0',\n",
              "                                                  Pipeline(steps=[('text_vect_0',\n",
              "                                                                   TfidfVectorizer(max_features=2500))]),\n",
              "                                                  'tweet')])),\n",
              "                ('to_dense',\n",
              "                 FunctionTransformer(accept_sparse=True,\n",
              "                                     func=<function to_dense at 0x7c14c8e15e10>)),\n",
              "                ('naive_bayes', BernoulliNB())])"
            ]
          },
          "execution_count": 18,
          "metadata": {},
          "output_type": "execute_result"
        }
      ],
      "source": [
        "# Preprocessing the Text Feature\n",
        "text_processor_0 = Pipeline(steps=[\n",
        "    ('text_vect_0', TfidfVectorizer(max_features=2500))\n",
        "])\n",
        "\n",
        "# Combining All Data Preprocessors\n",
        "data_preprocessor = ColumnTransformer(transformers=[\n",
        "    ('text_pre_0', text_processor_0, text_features[0]),\n",
        "])\n",
        "\n",
        "# Function to convert sparse matrix to dense\n",
        "def to_dense(X):\n",
        "    return X.toarray()\n",
        "dense_transformer = FunctionTransformer(to_dense, accept_sparse=True)\n",
        "\n",
        "nb_pipeline = Pipeline([\n",
        "    ('data_preprocessing', data_preprocessor),\n",
        "    ('to_dense', dense_transformer),\n",
        "    ('naive_bayes', BernoulliNB())\n",
        "])\n",
        "\n",
        "# Fit the Naive Bayes pipeline to the training data\n",
        "nb_pipeline.fit(X_train, y_train)"
      ]
    },
    {
      "cell_type": "code",
      "execution_count": null,
      "metadata": {
        "colab": {
          "base_uri": "https://localhost:8080/"
        },
        "id": "ZaisGa81aJbh",
        "outputId": "e620ed97-bcbf-456c-c837-479cbb54efe8"
      },
      "outputs": [
        {
          "name": "stdout",
          "output_type": "stream",
          "text": [
            "[[23914  4792  5597]\n",
            " [ 4894 42084  6454]\n",
            " [ 6373  5014 64870]]\n",
            "              precision    recall  f1-score   support\n",
            "\n",
            "          -1       0.68      0.70      0.69     34303\n",
            "           0       0.81      0.79      0.80     53432\n",
            "           1       0.84      0.85      0.85     76257\n",
            "\n",
            "    accuracy                           0.80    163992\n",
            "   macro avg       0.78      0.78      0.78    163992\n",
            "weighted avg       0.80      0.80      0.80    163992\n",
            "\n",
            "Accuracy (validation): 0.7980145372945022\n"
          ]
        }
      ],
      "source": [
        "# Predict the categories of the testing set tweets\n",
        "test_predictions = nb_pipeline.predict(X_test)\n",
        "\n",
        "# Printing the Confusion Matrix\n",
        "print(confusion_matrix(y_test.values, test_predictions))\n",
        "\n",
        "# Printing the Classification Report\n",
        "print(classification_report(y_test.values, test_predictions))\n",
        "\n",
        "# Calculating and Printing the Accuracy\n",
        "print(\"Accuracy (validation):\", accuracy_score(y_test.values, test_predictions))"
      ]
    },
    {
      "cell_type": "code",
      "execution_count": null,
      "metadata": {
        "colab": {
          "base_uri": "https://localhost:8080/",
          "height": 564
        },
        "id": "9B1YlRQOaLIB",
        "outputId": "8b539b09-2f29-4b47-e1c6-80a206c8a5cb"
      },
      "outputs": [
        {
          "data": {
            "image/png": "[encoded data removed]",
            "text/plain": [
              "<Figure size 800x600 with 1 Axes>"
            ]
          },
          "metadata": {},
          "output_type": "display_data"
        }
      ],
      "source": [
        "nb_cm = confusion_matrix(y_test.values, test_predictions)\n",
        "\n",
        "def plot_confusion_matrix(conf_matrix, title='Confusion Matrix'):\n",
        "    plt.figure(figsize=(8, 6))\n",
        "    sns.heatmap(nb_cm, annot=True, fmt='g', cmap='Blues', cbar=False,\n",
        "                xticklabels=['negative', 'neutral', 'positive'],\n",
        "                yticklabels=['negative', 'neutral', 'positive'])\n",
        "    plt.xlabel('Predicted labels')\n",
        "    plt.ylabel('True labels')\n",
        "    plt.title(title)\n",
        "    plt.show()\n",
        "\n",
        "# Plotting the confusion matrices\n",
        "plot_confusion_matrix(nb_cm, title='Confusion Matrix')"
      ]
    },
    {
      "cell_type": "markdown",
      "metadata": {
        "id": "Zzo2OYJtJh0a"
      },
      "source": [
        "# Threshold Calibration"
      ]
    },
    {
      "cell_type": "code",
      "execution_count": null,
      "metadata": {
        "colab": {
          "base_uri": "https://localhost:8080/"
        },
        "id": "iDusU5VjJkk6",
        "outputId": "9b6b31c5-00e7-43ae-b395-279b1571cf2a"
      },
      "outputs": [
        {
          "data": {
            "text/plain": [
              "array([1, 0, 1, 0, 1])"
            ]
          },
          "execution_count": 38,
          "metadata": {},
          "output_type": "execute_result"
        }
      ],
      "source": [
        "pipeline.predict(X_test)[0:5]"
      ]
    },
    {
      "cell_type": "code",
      "execution_count": null,
      "metadata": {
        "colab": {
          "base_uri": "https://localhost:8080/"
        },
        "id": "CS8GrWiNJmj7",
        "outputId": "03eaca3b-e5c9-430b-b4c5-df2c9fbc7474"
      },
      "outputs": [
        {
          "data": {
            "text/plain": [
              "array([[0.32676269, 0.0534377 , 0.61979961],\n",
              "       [0.04649006, 0.88203614, 0.0714738 ],\n",
              "       [0.2226146 , 0.00285874, 0.77452666],\n",
              "       [0.01772461, 0.94615371, 0.03612168],\n",
              "       [0.01059306, 0.44951735, 0.5398896 ]])"
            ]
          },
          "execution_count": 39,
          "metadata": {},
          "output_type": "execute_result"
        }
      ],
      "source": [
        "pipeline.predict_proba(X_test)[0:5]"
      ]
    },
    {
      "cell_type": "code",
      "execution_count": null,
      "metadata": {
        "colab": {
          "base_uri": "https://localhost:8080/",
          "height": 489
        },
        "id": "3_bX4giTJoCD",
        "outputId": "53d43177-c385-415a-bf8e-e94153e90011"
      },
      "outputs": [
        {
          "name": "stdout",
          "output_type": "stream",
          "text": [
            "Highest Accuracy on Validation: 0.4650043904580711 , Threshold for the highest Accuracy: 0.0\n"
          ]
        },
        {
          "data": {
            "image/png": "[encoded data removed]",
            "text/plain": [
              "<Figure size 640x480 with 1 Axes>"
            ]
          },
          "metadata": {},
          "output_type": "display_data"
        }
      ],
      "source": [
        "# Calculate the accuracy using different values for the classification threshold\n",
        "highest_accuracy = 0\n",
        "threshold_highest_accuracy = 0\n",
        "\n",
        "thresholds = np.arange(0,1,0.01)\n",
        "scores = []\n",
        "for t in thresholds:\n",
        "    y_test_other = (pipeline.predict_proba(X_test)[:,1] >= t).astype(float)\n",
        "    score = accuracy_score(y_test, y_test_other)\n",
        "    scores.append(score)\n",
        "    if(score > highest_accuracy):\n",
        "        highest_accuracy = score\n",
        "        threshold_highest_accuracy = t\n",
        "print(\"Highest Accuracy on Validation:\", highest_accuracy, \\\n",
        "      \", Threshold for the highest Accuracy:\", threshold_highest_accuracy)\n",
        "\n",
        "# Plot the accuracy versus different choices of thresholds\n",
        "plt.plot([0.5, 0.5], [np.min(scores), np.max(scores)], linestyle='--')\n",
        "plt.plot([threshold_highest_accuracy , threshold_highest_accuracy ], [np.min(scores), np.max(scores)], linestyle='-')\n",
        "\n",
        "plt.plot(thresholds, scores, marker='.')\n",
        "plt.title('Accuracy versus different choices of thresholds')\n",
        "plt.xlabel('Threshold')\n",
        "plt.ylabel('Accuracy')\n",
        "plt.show()"
      ]
    },
    {
      "cell_type": "code",
      "execution_count": null,
      "metadata": {
        "colab": {
          "base_uri": "https://localhost:8080/",
          "height": 472
        },
        "id": "N72ytn55JqA5",
        "outputId": "7cc506e7-e021-4950-d75d-cde0cf560b50"
      },
      "outputs": [
        {
          "data": {
            "image/png": "[encoded data removed]",
            "text/plain": [
              "<Figure size 640x480 with 1 Axes>"
            ]
          },
          "metadata": {},
          "output_type": "display_data"
        }
      ],
      "source": [
        "from sklearn.metrics import precision_recall_curve\n",
        "from sklearn.preprocessing import label_binarize\n",
        "import numpy as np\n",
        "import matplotlib.pyplot as plt\n",
        "\n",
        "# Binarize the output classes\n",
        "y_test_binarized = label_binarize(y_test, classes=[-1, 0, 1])\n",
        "\n",
        "test_predictions_probs = pipeline.predict_proba(X_test)\n",
        "\n",
        "# Calculate precision and recall values for each class\n",
        "n_classes = y_test_binarized.shape[1]\n",
        "precision_dict = {}\n",
        "recall_dict = {}\n",
        "threshold_dict = {}\n",
        "\n",
        "for i in range(n_classes):\n",
        "    precision, recall, thresholds = precision_recall_curve(y_test_binarized[:, i], test_predictions_probs[:, i])\n",
        "    precision_dict[i-1] = precision\n",
        "    recall_dict[i-1] = recall\n",
        "    threshold_dict[i-1] = thresholds\n",
        "\n",
        "    # Plot precision-recall curve for class i-1 (-1, 0, 1)\n",
        "    plt.plot(recall, precision, lw=2, label=f'Class {i-1}')\n",
        "    plt.xlabel('Recall')\n",
        "    plt.ylabel('Precision')\n",
        "    plt.title('Precision-Recall curve for class {-1,1}')\n",
        "    plt.legend(loc='best')\n",
        "\n",
        "plt.show()"
      ]
    },
    {
      "cell_type": "markdown",
      "metadata": {
        "id": "27ZTmY67aP5w"
      },
      "source": [
        "# BERT Embeddings"
      ]
    },
    {
      "cell_type": "code",
      "execution_count": 13,
      "metadata": {
        "colab": {
          "base_uri": "https://localhost:8080/",
          "height": 316,
          "referenced_widgets": [
            "41af98e712274854ac8fb02306152002",
            "c50531d8edda49db91350e0e93274a71",
            "44e5b9dd052540d79cab91afc2da43af",
            "36af2af32b4b48838efe0979be27bd8f",
            "13df00f4b2484b03b59912180c9b1e30",
            "245be6e128ce4ca9966c0e4077a82585",
            "770635c7971f41b091a1e7d8095da887",
            "debfc78037c84d7fba647bb668128271",
            "02c8a0abb4a746d0b524d70a48fc6abf",
            "34090112721b49a19feb6ad2a3a0cfcd",
            "537ada488bfd4b03ba0d10803e205b05",
            "37d8c17df3db4b6e8d99a1562b808ce0",
            "745590265f6040f6878c96e4027ab145",
            "e1bb6e9c2cca4ab39e8ffb77e5acc70f",
            "76f9886657814c289c600130a6483cc4",
            "78761af9de3a44708ea7bd267f26adb6",
            "7e439dc08a8c43fd87ebf01decb611c6",
            "27bc6e650d914989ad01d31f39172462",
            "36aba1783a2040f9ae3ec5d7152a358c",
            "01e1c7003b0b46c5a266f655ec6a9484",
            "40ac7dbb29a5453ab313a911414b882f",
            "dc21302068ff42bc9870786dae232461",
            "a922ca64319b4b77a665c6cab3f76201",
            "bd2e11988c7e4dc28b1c5f08ec52d37c",
            "803ee922c8754bf993a8ae41a2a2807d",
            "d8d615f5679c45d7aafd66ae7e151063",
            "40de957b423c494fb3f8cbc12f584484",
            "6bb6d6c406344a79984a438a38ca846b",
            "a687aab615b84512b3ef03ab2460b306",
            "6770c3ffabd14f5681edca6c873521cf",
            "073f4c94c6214b93828fbb18efc8b36b",
            "c310308cd2e143b3ae4772b2e3d55a65",
            "d973b5968e9945dea94a7c9b2aa3a471",
            "b05ef5bbea874ca8bb43f842d453b45f",
            "5539dd2b49234ece9ab6ae3ade59e51b",
            "125f538b802e482a8b12c19eb3ba8904",
            "3993dd50622a47a8ae7cd62ddd3b7777",
            "ae912e05065841f0af0ccec03aab4e60",
            "2f788833503240a2897b28c35933e236",
            "510fc9c3e1804a83b65e12e629ddd6b7",
            "7d19f5e60d5b4757983aaf5c56e2926e",
            "4c19c407caae4155b148c61de161765f",
            "1800647c94784e8fae672fb31a676730",
            "ee2c0477731b49fdbdea29ffc9444657",
            "fe716d9829df4bb4ae516ee2bdc82fd0",
            "a9ff90a9938f43999fe9ebb75fd10fed",
            "2d231ffa57754ee89b2eb9edded46d81",
            "6fd13db7f13b4dc98c5d1f2d7b85feff",
            "3afb9f32469d439298c88b005ad9b16e",
            "a2afa2ea62ed4adcb50e9142a4376650",
            "30fe5b932ec849cdb11012a0aa2488ce",
            "f5bdaaf9f34d4f1391e3990b54e4c521",
            "ef8c6716fff14581910e0dfb207519b7",
            "68e85b08ce3548528657b3f682ca8732",
            "fe40664ac8dc4aa98e60102da164460b"
          ]
        },
        "id": "N_HymAiU-t07",
        "outputId": "2f88afad-de8f-4107-9a18-a83180f6cf45"
      },
      "outputs": [
        {
          "metadata": {
            "tags": null
          },
          "name": "stderr",
          "output_type": "stream",
          "text": [
            "/usr/local/lib/python3.10/dist-packages/huggingface_hub/utils/_token.py:88: UserWarning: \n",
            "The secret `HF_TOKEN` does not exist in your Colab secrets.\n",
            "To authenticate with the Hugging Face Hub, create a token in your settings tab (https://huggingface.co/settings/tokens), set it as secret in your Google Colab and restart your session.\n",
            "You will be able to reuse this secret in all of your notebooks.\n",
            "Please note that authentication is recommended but still optional to access public models or datasets.\n",
            "  warnings.warn(\n"
          ]
        },
        {
          "data": {
            "application/vnd.jupyter.widget-view+json": {
              "model_id": "41af98e712274854ac8fb02306152002",
              "version_major": 2,
              "version_minor": 0
            },
            "text/plain": [
              "tokenizer_config.json:   0%|          | 0.00/48.0 [00:00<?, ?B/s]"
            ]
          },
          "metadata": {},
          "output_type": "display_data"
        },
        {
          "data": {
            "application/vnd.jupyter.widget-view+json": {
              "model_id": "37d8c17df3db4b6e8d99a1562b808ce0",
              "version_major": 2,
              "version_minor": 0
            },
            "text/plain": [
              "vocab.txt:   0%|          | 0.00/232k [00:00<?, ?B/s]"
            ]
          },
          "metadata": {},
          "output_type": "display_data"
        },
        {
          "data": {
            "application/vnd.jupyter.widget-view+json": {
              "model_id": "a922ca64319b4b77a665c6cab3f76201",
              "version_major": 2,
              "version_minor": 0
            },
            "text/plain": [
              "tokenizer.json:   0%|          | 0.00/466k [00:00<?, ?B/s]"
            ]
          },
          "metadata": {},
          "output_type": "display_data"
        },
        {
          "data": {
            "application/vnd.jupyter.widget-view+json": {
              "model_id": "b05ef5bbea874ca8bb43f842d453b45f",
              "version_major": 2,
              "version_minor": 0
            },
            "text/plain": [
              "config.json:   0%|          | 0.00/570 [00:00<?, ?B/s]"
            ]
          },
          "metadata": {},
          "output_type": "display_data"
        },
        {
          "data": {
            "application/vnd.jupyter.widget-view+json": {
              "model_id": "fe716d9829df4bb4ae516ee2bdc82fd0",
              "version_major": 2,
              "version_minor": 0
            },
            "text/plain": [
              "model.safetensors:   0%|          | 0.00/440M [00:00<?, ?B/s]"
            ]
          },
          "metadata": {},
          "output_type": "display_data"
        },
        {
          "output_type": "stream",
          "name": "stderr",
          "text": [
            "100%|██████████| 40000/40000 [1:30:59<00:00,  7.33it/s]\n",
            "100%|██████████| 10000/10000 [19:58<00:00,  8.35it/s]\n"
          ]
        }
      ],
      "source": [
        "from sklearn.model_selection import train_test_split\n",
        "from transformers import BertTokenizer, BertModel\n",
        "import torch\n",
        "from tqdm import tqdm\n",
        "from sklearn.neighbors import KNeighborsClassifier\n",
        "import numpy as np\n",
        "\n",
        "# Taking the first 70,000 rows for BERT as the iteraion is too long to fully run\n",
        "subset_df = clean_en_df.iloc[:50000]\n",
        "\n",
        "# Split the subset of the dataset into train and test sets\n",
        "train_data, test_data, train_labels, test_labels = train_test_split(subset_df[\"tweet\"], subset_df[\"sentiment\"], test_size=0.2, random_state=42)\n",
        "\n",
        "# Move the model to GPU if available\n",
        "device = torch.device(\"cuda\" if torch.cuda.is_available() else \"cpu\")\n",
        "\n",
        "# Load BERT tokenizer and model, move to GPU\n",
        "tokenizer = BertTokenizer.from_pretrained(\"bert-base-uncased\")\n",
        "bert_model = BertModel.from_pretrained(\"bert-base-uncased\").to(device)\n",
        "\n",
        "# Tokenize and encode the text data, move to GPU\n",
        "max_length = 128\n",
        "X_train_tokens = tokenizer(list(train_data), truncation=True, padding=True, max_length=max_length, return_tensors=\"pt\", add_special_tokens=True)\n",
        "X_test_tokens = tokenizer(list(test_data), truncation=True, padding=True, max_length=max_length, return_tensors=\"pt\", add_special_tokens=True)\n",
        "\n",
        "# Adjust tensors to move to GPU if using CUDA\n",
        "X_train_tokens = {key: value.to(device) for key, value in X_train_tokens.items()}\n",
        "X_test_tokens = {key: value.to(device) for key, value in X_test_tokens.items()}\n",
        "\n",
        "# Calculate BERT embeddings for the text data\n",
        "def get_bert_embeddings(tokens):\n",
        "    embeddings = []\n",
        "    for i in tqdm(range(tokens['input_ids'].size(0))):\n",
        "        with torch.no_grad():\n",
        "            output = bert_model(input_ids=tokens['input_ids'][i].unsqueeze(0),\n",
        "                                attention_mask=tokens['attention_mask'][i].unsqueeze(0))\n",
        "        embeddings.append(output.last_hidden_state.mean(dim=1).squeeze().cpu().numpy())\n",
        "    return embeddings\n",
        "\n",
        "X_train_bert_embeddings = get_bert_embeddings(X_train_tokens)\n",
        "X_test_bert_embeddings = get_bert_embeddings(X_test_tokens)"
      ]
    },
    {
      "cell_type": "markdown",
      "metadata": {
        "id": "PO6e_qF657GW"
      },
      "source": [
        "## Logistic Regression"
      ]
    },
    {
      "cell_type": "code",
      "execution_count": 14,
      "metadata": {
        "id": "wZXe4YIShgVe"
      },
      "outputs": [],
      "source": [
        "from sklearn.model_selection import GridSearchCV\n",
        "from sklearn.decomposition import PCA\n",
        "from sklearn.neighbors import KNeighborsClassifier\n",
        "from sklearn.pipeline import Pipeline\n",
        "from sklearn.preprocessing import StandardScaler\n",
        "from sklearn.linear_model import LogisticRegression\n",
        "from sklearn.ensemble import GradientBoostingClassifier\n",
        "from sklearn.naive_bayes import GaussianNB, MultinomialNB\n",
        "from sklearn.ensemble import RandomForestClassifier"
      ]
    },
    {
      "cell_type": "code",
      "execution_count": null,
      "metadata": {
        "colab": {
          "base_uri": "https://localhost:8080/"
        },
        "id": "d1oeF7TWhiHA",
        "outputId": "e4e40ca8-b348-4b8e-9371-f093baea42a6"
      },
      "outputs": [
        {
          "name": "stdout",
          "output_type": "stream",
          "text": [
            "Fitting 5 folds for each of 5 candidates, totalling 25 fits\n",
            "Best parameters found:  {'logreg__C': 0.01}\n"
          ]
        }
      ],
      "source": [
        "# Pipeline steps: StandardScaler -> PCA -> LogisticRegression\n",
        "logreg_pipeline = Pipeline(steps=[\n",
        "    ('scaler', StandardScaler()),\n",
        "    ('pca', PCA(n_components=0.95, svd_solver='full')),\n",
        "    ('logreg', LogisticRegression(max_iter=1000))\n",
        "])\n",
        "\n",
        "# Define a grid of parameters to search\n",
        "param_grid = {\n",
        "    'logreg__C': [0.001, 0.01, 0.1, 1, 10],\n",
        "}\n",
        "\n",
        "# Create a GridSearchCV object\n",
        "grid_search = GridSearchCV(logreg_pipeline, param_grid, cv=5, verbose=1, n_jobs=-1)\n",
        "grid_search.fit(X_train_bert_embeddings, train_labels)\n",
        "\n",
        "# Display the best parameters\n",
        "print(\"Best parameters found: \", grid_search.best_params_)"
      ]
    },
    {
      "cell_type": "code",
      "execution_count": null,
      "metadata": {
        "colab": {
          "base_uri": "https://localhost:8080/"
        },
        "id": "FihVWhfJiWBf",
        "outputId": "5d259aac-6190-4e22-9704-953819acf180"
      },
      "outputs": [
        {
          "name": "stdout",
          "output_type": "stream",
          "text": [
            "Logistic Regression Accuracy: 69.94%\n"
          ]
        }
      ],
      "source": [
        "# Make predictions on the test data using the best estimator from grid search\n",
        "predictions = grid_search.best_estimator_.predict(X_test_bert_embeddings)\n",
        "\n",
        "# Compute accuracy\n",
        "accuracy = accuracy_score(test_labels, predictions)\n",
        "print(f'Logistic Regression Accuracy: {accuracy * 100:.2f}%')"
      ]
    },
    {
      "cell_type": "code",
      "execution_count": null,
      "metadata": {
        "colab": {
          "base_uri": "https://localhost:8080/"
        },
        "id": "P0XHu47kj1jf",
        "outputId": "88d6a58c-4d3b-413e-dd46-32c66ca2ea8d"
      },
      "outputs": [
        {
          "name": "stdout",
          "output_type": "stream",
          "text": [
            "Classification Report:\n",
            "              precision    recall  f1-score   support\n",
            "\n",
            "    negative       0.64      0.60      0.62      2158\n",
            "     neutral       0.69      0.64      0.66      3182\n",
            "    positive       0.73      0.79      0.76      4660\n",
            "\n",
            "    accuracy                           0.70     10000\n",
            "   macro avg       0.69      0.68      0.68     10000\n",
            "weighted avg       0.70      0.70      0.70     10000\n",
            "\n",
            "\n",
            "Confusion Matrix:\n",
            "[[1298  334  526]\n",
            " [ 310 2031  841]\n",
            " [ 409  586 3665]]\n"
          ]
        }
      ],
      "source": [
        "# Make predictions on the KNN test data\n",
        "predictions = grid_search.best_estimator_.predict(X_test_bert_embeddings)\n",
        "class_report = classification_report(test_labels, predictions, target_names=['negative', 'neutral','positive'])\n",
        "lr_conf_matrix = confusion_matrix(test_labels, predictions)\n",
        "\n",
        "# Print the classification report and confusion matrix\n",
        "print(\"Classification Report:\")\n",
        "print(class_report)\n",
        "print(\"\\nConfusion Matrix:\")\n",
        "print(lr_conf_matrix)"
      ]
    },
    {
      "cell_type": "markdown",
      "metadata": {
        "id": "d4-9kreF6A_k"
      },
      "source": [
        "## Gradient Boosting"
      ]
    },
    {
      "cell_type": "code",
      "execution_count": null,
      "metadata": {
        "colab": {
          "background_save": true,
          "base_uri": "https://localhost:8080/"
        },
        "id": "-r9Hs11hjCtr",
        "outputId": "d5e7794b-3041-42fb-8460-56486b6d7384"
      },
      "outputs": [
        {
          "output_type": "stream",
          "name": "stdout",
          "text": [
            "Fitting 5 folds for each of 8 candidates, totalling 40 fits\n"
          ]
        }
      ],
      "source": [
        "# Gradient Boosting pipeline\n",
        "gb_pipeline = Pipeline(steps=[\n",
        "    ('scaler', StandardScaler()),\n",
        "    ('gradient_boosting', GradientBoostingClassifier())\n",
        "])\n",
        "\n",
        "# Define a grid of parameters to search over\n",
        "param_grid = {\n",
        "    'gradient_boosting__n_estimators': [100, 200],\n",
        "    'gradient_boosting__learning_rate': [0.1, 1],  # Learning rate shrinks the contribution of each tree\n",
        "    'gradient_boosting__max_depth': [1, 5]  # Maximum depth of the individual regression estimators\n",
        "}\n",
        "\n",
        "# Setup the grid search\n",
        "grid_search_gb = GridSearchCV(gb_pipeline, param_grid, cv=5, verbose=1, n_jobs=-1)\n",
        "\n",
        "# Fit the model with the grid search\n",
        "grid_search_gb.fit(X_train_bert_embeddings, train_labels)\n",
        "\n",
        "# Best parameters\n",
        "print(\"Best parameters found for Gradient Boosting: \", grid_search_gb.best_params_)"
      ]
    },
    {
      "cell_type": "code",
      "execution_count": null,
      "metadata": {
        "id": "64flDtu7jNbC"
      },
      "outputs": [],
      "source": [
        "# Note: Ensure X_test_bert_embeddings is defined\n",
        "predictions_gb = grid_search_gb.best_estimator_.predict(X_test_bert_embeddings)\n",
        "\n",
        "# Compute accuracy\n",
        "accuracy_gb = accuracy_score(test_labels, predictions_gb)\n",
        "print(f'Gradient Boosting Accuracy: {accuracy_gb * 100:.2f}%')"
      ]
    },
    {
      "cell_type": "code",
      "execution_count": null,
      "metadata": {
        "id": "I1O5BuZMj_mm"
      },
      "outputs": [],
      "source": [
        "# Make predictions on the KNN test data\n",
        "predictions = grid_search.best_estimator_.predict(X_test_bert_embeddings)\n",
        "class_report = classification_report(test_labels, predictions, target_names=['negative', 'neutral','positive'])\n",
        "gb_conf_matrix = confusion_matrix(test_labels, predictions)\n",
        "\n",
        "# Print the classification report and confusion matrix\n",
        "print(\"Classification Report:\")\n",
        "print(class_report)\n",
        "print(\"\\nConfusion Matrix:\")\n",
        "print(gb_conf_matrix)"
      ]
    },
    {
      "cell_type": "markdown",
      "metadata": {
        "id": "NQWBcrmu6DHV"
      },
      "source": [
        "## KNN"
      ]
    },
    {
      "cell_type": "code",
      "execution_count": null,
      "metadata": {
        "colab": {
          "base_uri": "https://localhost:8080/"
        },
        "id": "GowHVOaX6JlO",
        "outputId": "eafed1c8-2ed9-4515-9a3f-dddfa60f13af"
      },
      "outputs": [
        {
          "name": "stdout",
          "output_type": "stream",
          "text": [
            "Fitting 5 folds for each of 3 candidates, totalling 15 fits\n",
            "Best parameters found:  {'knn__n_neighbors': 1}\n"
          ]
        }
      ],
      "source": [
        "# Reduce the dimensionality of BERT embeddings to make KNN more efficient and potentially more effective\n",
        "pca = PCA(n_components=0.95, svd_solver='full')\n",
        "knn = KNeighborsClassifier()\n",
        "\n",
        "# This pipeline standardizes the embeddings, reduces dimensionality, and then applies KNN\n",
        "knn_pipeline = Pipeline(steps=[('scaler', StandardScaler()), ('pca', pca), ('knn', knn)])\n",
        "\n",
        "\n",
        "# Define a grid of parameters to search over\n",
        "param_grid = {\n",
        "    'knn__n_neighbors': [1, 5, 10]\n",
        "}\n",
        "grid_search = GridSearchCV(knn_pipeline, param_grid, cv=5, verbose=1, n_jobs=-1)\n",
        "\n",
        "\n",
        "grid_search.fit(X_train_bert_embeddings, train_labels)\n",
        "\n",
        "\n",
        "print(\"Best parameters found: \", grid_search.best_params_)"
      ]
    },
    {
      "cell_type": "code",
      "execution_count": null,
      "metadata": {
        "colab": {
          "base_uri": "https://localhost:8080/"
        },
        "id": "Ik4Qxp8i7BJ1",
        "outputId": "095d0822-4a2f-46e9-8fd8-877d4113f381"
      },
      "outputs": [
        {
          "name": "stdout",
          "output_type": "stream",
          "text": [
            "KNN Accuracy: 69.17%\n"
          ]
        }
      ],
      "source": [
        "from sklearn.metrics import classification_report, confusion_matrix\n",
        "\n",
        "# Make predictions on the test data using the best estimator from grid search\n",
        "predictions = grid_search.best_estimator_.predict(X_test_bert_embeddings)\n",
        "\n",
        "accuracy = accuracy_score(test_labels, predictions)\n",
        "print(f'KNN Accuracy: {accuracy * 100:.2f}%')"
      ]
    },
    {
      "cell_type": "code",
      "execution_count": null,
      "metadata": {
        "colab": {
          "base_uri": "https://localhost:8080/"
        },
        "id": "d_kDt2cI7YMK",
        "outputId": "f52c5904-2fbe-421c-bb98-dcf1960278b7"
      },
      "outputs": [
        {
          "name": "stdout",
          "output_type": "stream",
          "text": [
            "Classification Report:\n",
            "              precision    recall  f1-score   support\n",
            "\n",
            "    negative       0.59      0.61      0.60      2158\n",
            "     neutral       0.69      0.66      0.67      3182\n",
            "    positive       0.74      0.75      0.75      4660\n",
            "\n",
            "    accuracy                           0.69     10000\n",
            "   macro avg       0.67      0.67      0.67     10000\n",
            "weighted avg       0.69      0.69      0.69     10000\n",
            "\n",
            "\n",
            "Confusion Matrix:\n",
            "[[1313  325  520]\n",
            " [ 374 2099  709]\n",
            " [ 522  633 3505]]\n"
          ]
        }
      ],
      "source": [
        "# Make predictions on the KNN test data\n",
        "predictions = grid_search.best_estimator_.predict(X_test_bert_embeddings)\n",
        "class_report = classification_report(test_labels, predictions, target_names=['negative', 'neutral','positive'])\n",
        "knn_conf_matrix = confusion_matrix(test_labels, predictions)\n",
        "\n",
        "# Print the classification report and confusion matrix\n",
        "print(\"Classification Report:\")\n",
        "print(class_report)\n",
        "print(\"\\nConfusion Matrix:\")\n",
        "print(knn_conf_matrix)"
      ]
    },
    {
      "cell_type": "markdown",
      "metadata": {
        "id": "9tzPzNyA6Ewk"
      },
      "source": [
        "## Random Forest"
      ]
    },
    {
      "cell_type": "code",
      "execution_count": null,
      "metadata": {
        "id": "Iiioo1ZfjgXe"
      },
      "outputs": [],
      "source": [
        "# Initialize PCA and Random Forest Classifier\n",
        "pca = PCA(n_components=0.95, svd_solver='full')\n",
        "rf = RandomForestClassifier(random_state=42)\n",
        "\n",
        "# Create a pipeline\n",
        "rf_pipeline = Pipeline(steps=[\n",
        "    ('scaler', StandardScaler()),\n",
        "    ('pca', pca),\n",
        "    ('rf', rf)\n",
        "])\n",
        "\n",
        "# Define a grid of parameters to search over\n",
        "param_grid = {\n",
        "    'rf__n_estimators': [100, 200, 1000],  # Number of trees in the forest\n",
        "    'rf__max_depth': [None, 10, 20] # Maximum depth of the tree\n",
        "}\n",
        "\n",
        "# Configure GridSearchCV\n",
        "grid_search_rf = GridSearchCV(rf_pipeline, param_grid, cv=5, verbose=1, n_jobs=-1)\n",
        "\n",
        "# Fit the model with grid search\n",
        "grid_search_rf.fit(X_train_bert_embeddings, train_labels)\n",
        "\n",
        "# Best parameters\n",
        "print(\"Best parameters found: \", grid_search_rf.best_params_)"
      ]
    },
    {
      "cell_type": "code",
      "execution_count": null,
      "metadata": {
        "id": "pjrplwxCjqQL"
      },
      "outputs": [],
      "source": [
        "# Make predictions on the test data using the best estimator from the grid search\n",
        "predictions_rf = grid_search_rf.best_estimator_.predict(X_test_bert_embeddings)\n",
        "\n",
        "# Calculate accuracy\n",
        "accuracy_rf = accuracy_score(test_labels, predictions_rf)\n",
        "print(f'Random Forest Accuracy: {accuracy_rf * 100:.2f}%')"
      ]
    },
    {
      "cell_type": "code",
      "execution_count": null,
      "metadata": {
        "id": "NT0ONPHbjtrT"
      },
      "outputs": [],
      "source": [
        "# Make predictions on the KNN test data\n",
        "predictions = grid_search.best_estimator_.predict(X_test_bert_embeddings)\n",
        "class_report = classification_report(test_labels, predictions, target_names=['negative', 'neutral','positive'])\n",
        "rf_conf_matrix = confusion_matrix(test_labels, predictions)\n",
        "\n",
        "# Print the classification report and confusion matrix\n",
        "print(\"Classification Report:\")\n",
        "print(class_report)\n",
        "print(\"\\nConfusion Matrix:\")\n",
        "print(rf_conf_matrix)"
      ]
    },
    {
      "cell_type": "markdown",
      "metadata": {
        "id": "mxtUci1o6HBn"
      },
      "source": [
        "## Naive Bayes"
      ]
    },
    {
      "cell_type": "code",
      "execution_count": null,
      "metadata": {
        "id": "SZ6YmBp2lTPz"
      },
      "outputs": [],
      "source": [
        "# Placeholder for the best score and best estimator\n",
        "best_score = 0\n",
        "best_estimator = None\n",
        "\n",
        "naive_bayes_models = [\n",
        "    (GaussianNB(), {'nb__var_smoothing': np.logspace(0, -9, num=100)}),\n",
        "    (MultinomialNB(), {'nb__alpha': np.linspace(0.1, 1.0, num=10)})\n",
        "]\n",
        "\n",
        "# Create a pipeline with a scaler appropriate for the model\n",
        "for model, param_grid in naive_bayes_models:\n",
        "    scaler = MinMaxScaler() if isinstance(model, MultinomialNB) else StandardScaler()\n",
        "    nb_pipeline = Pipeline([\n",
        "        ('scaler', scaler),\n",
        "        ('nb', model)\n",
        "    ])\n",
        "\n",
        "    # Setup the grid search\n",
        "    grid_search_nb = GridSearchCV(nb_pipeline, param_grid, cv=5, verbose=1, n_jobs=-1)\n",
        "    grid_search_nb.fit(X_train_bert_embeddings, train_labels)\n",
        "\n",
        "    # Update best score and estimator if this model is better\n",
        "    if grid_search_nb.best_score_ > best_score:\n",
        "        best_score = grid_search_nb.best_score_\n",
        "        best_estimator = grid_search_nb.best_estimator_\n",
        "\n",
        "# Summary of best model\n",
        "print(\"Best model parameters: \", best_estimator.get_params())\n",
        "print(\"Best cross-validation score: \", best_score)"
      ]
    },
    {
      "cell_type": "code",
      "execution_count": null,
      "metadata": {
        "id": "Ld4I7ep5ldeR"
      },
      "outputs": [],
      "source": [
        "# Make predictions on the test data using the best estimator from the grid search\n",
        "predictions_nb = best_estimator.predict(X_test_bert_embeddings)\n",
        "\n",
        "# Calculate accuracy\n",
        "accuracy_nb = accuracy_score(test_labels, predictions_nb)\n",
        "print(f'Best Naive Bayes Model Accuracy: {accuracy_nb * 100:.2f}%')"
      ]
    },
    {
      "cell_type": "code",
      "execution_count": null,
      "metadata": {
        "id": "25aIK73rlgr0"
      },
      "outputs": [],
      "source": [
        "# Make predictions on the KNN test data\n",
        "predictions = grid_search.best_estimator_.predict(X_test_bert_embeddings)\n",
        "class_report = classification_report(test_labels, predictions, target_names=['negative', 'neutral','positive'])\n",
        "nb_conf_matrix = confusion_matrix(test_labels, predictions)\n",
        "\n",
        "# Print the classification report and confusion matrix\n",
        "print(\"Classification Report:\")\n",
        "print(class_report)\n",
        "print(\"\\nConfusion Matrix:\")\n",
        "print(nb_conf_matrix)"
      ]
    }
  ],
  "metadata": {
    "colab": {
      "collapsed_sections": [
        "U3wk8bgHwoap",
        "qYbQQndvlaLy"
      ],
      "machine_shape": "hm",
      "toc_visible": true,
      "provenance": []
    },
    "kernelspec": {
      "display_name": "Python 3",
      "name": "python3"
    },
    "language_info": {
      "name": "python"
    },
    "widgets": {
      "application/vnd.jupyter.widget-state+json": {
        "41af98e712274854ac8fb02306152002": {
          "model_module": "@jupyter-widgets/controls",
          "model_name": "HBoxModel",
          "model_module_version": "1.5.0",
          "state": {
            "_dom_classes": [],
            "_model_module": "@jupyter-widgets/controls",
            "_model_module_version": "1.5.0",
            "_model_name": "HBoxModel",
            "_view_count": null,
            "_view_module": "@jupyter-widgets/controls",
            "_view_module_version": "1.5.0",
            "_view_name": "HBoxView",
            "box_style": "",
            "children": [
              "IPY_MODEL_c50531d8edda49db91350e0e93274a71",
              "IPY_MODEL_44e5b9dd052540d79cab91afc2da43af",
              "IPY_MODEL_36af2af32b4b48838efe0979be27bd8f"
            ],
            "layout": "IPY_MODEL_13df00f4b2484b03b59912180c9b1e30"
          }
        },
        "c50531d8edda49db91350e0e93274a71": {
          "model_module": "@jupyter-widgets/controls",
          "model_name": "HTMLModel",
          "model_module_version": "1.5.0",
          "state": {
            "_dom_classes": [],
            "_model_module": "@jupyter-widgets/controls",
            "_model_module_version": "1.5.0",
            "_model_name": "HTMLModel",
            "_view_count": null,
            "_view_module": "@jupyter-widgets/controls",
            "_view_module_version": "1.5.0",
            "_view_name": "HTMLView",
            "description": "",
            "description_tooltip": null,
            "layout": "IPY_MODEL_245be6e128ce4ca9966c0e4077a82585",
            "placeholder": "​",
            "style": "IPY_MODEL_770635c7971f41b091a1e7d8095da887",
            "value": "tokenizer_config.json: 100%"
          }
        },
        "44e5b9dd052540d79cab91afc2da43af": {
          "model_module": "@jupyter-widgets/controls",
          "model_name": "FloatProgressModel",
          "model_module_version": "1.5.0",
          "state": {
            "_dom_classes": [],
            "_model_module": "@jupyter-widgets/controls",
            "_model_module_version": "1.5.0",
            "_model_name": "FloatProgressModel",
            "_view_count": null,
            "_view_module": "@jupyter-widgets/controls",
            "_view_module_version": "1.5.0",
            "_view_name": "ProgressView",
            "bar_style": "success",
            "description": "",
            "description_tooltip": null,
            "layout": "IPY_MODEL_debfc78037c84d7fba647bb668128271",
            "max": 48,
            "min": 0,
            "orientation": "horizontal",
            "style": "IPY_MODEL_02c8a0abb4a746d0b524d70a48fc6abf",
            "value": 48
          }
        },
        "36af2af32b4b48838efe0979be27bd8f": {
          "model_module": "@jupyter-widgets/controls",
          "model_name": "HTMLModel",
          "model_module_version": "1.5.0",
          "state": {
            "_dom_classes": [],
            "_model_module": "@jupyter-widgets/controls",
            "_model_module_version": "1.5.0",
            "_model_name": "HTMLModel",
            "_view_count": null,
            "_view_module": "@jupyter-widgets/controls",
            "_view_module_version": "1.5.0",
            "_view_name": "HTMLView",
            "description": "",
            "description_tooltip": null,
            "layout": "IPY_MODEL_34090112721b49a19feb6ad2a3a0cfcd",
            "placeholder": "​",
            "style": "IPY_MODEL_537ada488bfd4b03ba0d10803e205b05",
            "value": " 48.0/48.0 [00:00&lt;00:00, 2.29kB/s]"
          }
        },
        "13df00f4b2484b03b59912180c9b1e30": {
          "model_module": "@jupyter-widgets/base",
          "model_name": "LayoutModel",
          "model_module_version": "1.2.0",
          "state": {
            "_model_module": "@jupyter-widgets/base",
            "_model_module_version": "1.2.0",
            "_model_name": "LayoutModel",
            "_view_count": null,
            "_view_module": "@jupyter-widgets/base",
            "_view_module_version": "1.2.0",
            "_view_name": "LayoutView",
            "align_content": null,
            "align_items": null,
            "align_self": null,
            "border": null,
            "bottom": null,
            "display": null,
            "flex": null,
            "flex_flow": null,
            "grid_area": null,
            "grid_auto_columns": null,
            "grid_auto_flow": null,
            "grid_auto_rows": null,
            "grid_column": null,
            "grid_gap": null,
            "grid_row": null,
            "grid_template_areas": null,
            "grid_template_columns": null,
            "grid_template_rows": null,
            "height": null,
            "justify_content": null,
            "justify_items": null,
            "left": null,
            "margin": null,
            "max_height": null,
            "max_width": null,
            "min_height": null,
            "min_width": null,
            "object_fit": null,
            "object_position": null,
            "order": null,
            "overflow": null,
            "overflow_x": null,
            "overflow_y": null,
            "padding": null,
            "right": null,
            "top": null,
            "visibility": null,
            "width": null
          }
        },
        "245be6e128ce4ca9966c0e4077a82585": {
          "model_module": "@jupyter-widgets/base",
          "model_name": "LayoutModel",
          "model_module_version": "1.2.0",
          "state": {
            "_model_module": "@jupyter-widgets/base",
            "_model_module_version": "1.2.0",
            "_model_name": "LayoutModel",
            "_view_count": null,
            "_view_module": "@jupyter-widgets/base",
            "_view_module_version": "1.2.0",
            "_view_name": "LayoutView",
            "align_content": null,
            "align_items": null,
            "align_self": null,
            "border": null,
            "bottom": null,
            "display": null,
            "flex": null,
            "flex_flow": null,
            "grid_area": null,
            "grid_auto_columns": null,
            "grid_auto_flow": null,
            "grid_auto_rows": null,
            "grid_column": null,
            "grid_gap": null,
            "grid_row": null,
            "grid_template_areas": null,
            "grid_template_columns": null,
            "grid_template_rows": null,
            "height": null,
            "justify_content": null,
            "justify_items": null,
            "left": null,
            "margin": null,
            "max_height": null,
            "max_width": null,
            "min_height": null,
            "min_width": null,
            "object_fit": null,
            "object_position": null,
            "order": null,
            "overflow": null,
            "overflow_x": null,
            "overflow_y": null,
            "padding": null,
            "right": null,
            "top": null,
            "visibility": null,
            "width": null
          }
        },
        "770635c7971f41b091a1e7d8095da887": {
          "model_module": "@jupyter-widgets/controls",
          "model_name": "DescriptionStyleModel",
          "model_module_version": "1.5.0",
          "state": {
            "_model_module": "@jupyter-widgets/controls",
            "_model_module_version": "1.5.0",
            "_model_name": "DescriptionStyleModel",
            "_view_count": null,
            "_view_module": "@jupyter-widgets/base",
            "_view_module_version": "1.2.0",
            "_view_name": "StyleView",
            "description_width": ""
          }
        },
        "debfc78037c84d7fba647bb668128271": {
          "model_module": "@jupyter-widgets/base",
          "model_name": "LayoutModel",
          "model_module_version": "1.2.0",
          "state": {
            "_model_module": "@jupyter-widgets/base",
            "_model_module_version": "1.2.0",
            "_model_name": "LayoutModel",
            "_view_count": null,
            "_view_module": "@jupyter-widgets/base",
            "_view_module_version": "1.2.0",
            "_view_name": "LayoutView",
            "align_content": null,
            "align_items": null,
            "align_self": null,
            "border": null,
            "bottom": null,
            "display": null,
            "flex": null,
            "flex_flow": null,
            "grid_area": null,
            "grid_auto_columns": null,
            "grid_auto_flow": null,
            "grid_auto_rows": null,
            "grid_column": null,
            "grid_gap": null,
            "grid_row": null,
            "grid_template_areas": null,
            "grid_template_columns": null,
            "grid_template_rows": null,
            "height": null,
            "justify_content": null,
            "justify_items": null,
            "left": null,
            "margin": null,
            "max_height": null,
            "max_width": null,
            "min_height": null,
            "min_width": null,
            "object_fit": null,
            "object_position": null,
            "order": null,
            "overflow": null,
            "overflow_x": null,
            "overflow_y": null,
            "padding": null,
            "right": null,
            "top": null,
            "visibility": null,
            "width": null
          }
        },
        "02c8a0abb4a746d0b524d70a48fc6abf": {
          "model_module": "@jupyter-widgets/controls",
          "model_name": "ProgressStyleModel",
          "model_module_version": "1.5.0",
          "state": {
            "_model_module": "@jupyter-widgets/controls",
            "_model_module_version": "1.5.0",
            "_model_name": "ProgressStyleModel",
            "_view_count": null,
            "_view_module": "@jupyter-widgets/base",
            "_view_module_version": "1.2.0",
            "_view_name": "StyleView",
            "bar_color": null,
            "description_width": ""
          }
        },
        "34090112721b49a19feb6ad2a3a0cfcd": {
          "model_module": "@jupyter-widgets/base",
          "model_name": "LayoutModel",
          "model_module_version": "1.2.0",
          "state": {
            "_model_module": "@jupyter-widgets/base",
            "_model_module_version": "1.2.0",
            "_model_name": "LayoutModel",
            "_view_count": null,
            "_view_module": "@jupyter-widgets/base",
            "_view_module_version": "1.2.0",
            "_view_name": "LayoutView",
            "align_content": null,
            "align_items": null,
            "align_self": null,
            "border": null,
            "bottom": null,
            "display": null,
            "flex": null,
            "flex_flow": null,
            "grid_area": null,
            "grid_auto_columns": null,
            "grid_auto_flow": null,
            "grid_auto_rows": null,
            "grid_column": null,
            "grid_gap": null,
            "grid_row": null,
            "grid_template_areas": null,
            "grid_template_columns": null,
            "grid_template_rows": null,
            "height": null,
            "justify_content": null,
            "justify_items": null,
            "left": null,
            "margin": null,
            "max_height": null,
            "max_width": null,
            "min_height": null,
            "min_width": null,
            "object_fit": null,
            "object_position": null,
            "order": null,
            "overflow": null,
            "overflow_x": null,
            "overflow_y": null,
            "padding": null,
            "right": null,
            "top": null,
            "visibility": null,
            "width": null
          }
        },
        "537ada488bfd4b03ba0d10803e205b05": {
          "model_module": "@jupyter-widgets/controls",
          "model_name": "DescriptionStyleModel",
          "model_module_version": "1.5.0",
          "state": {
            "_model_module": "@jupyter-widgets/controls",
            "_model_module_version": "1.5.0",
            "_model_name": "DescriptionStyleModel",
            "_view_count": null,
            "_view_module": "@jupyter-widgets/base",
            "_view_module_version": "1.2.0",
            "_view_name": "StyleView",
            "description_width": ""
          }
        },
        "37d8c17df3db4b6e8d99a1562b808ce0": {
          "model_module": "@jupyter-widgets/controls",
          "model_name": "HBoxModel",
          "model_module_version": "1.5.0",
          "state": {
            "_dom_classes": [],
            "_model_module": "@jupyter-widgets/controls",
            "_model_module_version": "1.5.0",
            "_model_name": "HBoxModel",
            "_view_count": null,
            "_view_module": "@jupyter-widgets/controls",
            "_view_module_version": "1.5.0",
            "_view_name": "HBoxView",
            "box_style": "",
            "children": [
              "IPY_MODEL_745590265f6040f6878c96e4027ab145",
              "IPY_MODEL_e1bb6e9c2cca4ab39e8ffb77e5acc70f",
              "IPY_MODEL_76f9886657814c289c600130a6483cc4"
            ],
            "layout": "IPY_MODEL_78761af9de3a44708ea7bd267f26adb6"
          }
        },
        "745590265f6040f6878c96e4027ab145": {
          "model_module": "@jupyter-widgets/controls",
          "model_name": "HTMLModel",
          "model_module_version": "1.5.0",
          "state": {
            "_dom_classes": [],
            "_model_module": "@jupyter-widgets/controls",
            "_model_module_version": "1.5.0",
            "_model_name": "HTMLModel",
            "_view_count": null,
            "_view_module": "@jupyter-widgets/controls",
            "_view_module_version": "1.5.0",
            "_view_name": "HTMLView",
            "description": "",
            "description_tooltip": null,
            "layout": "IPY_MODEL_7e439dc08a8c43fd87ebf01decb611c6",
            "placeholder": "​",
            "style": "IPY_MODEL_27bc6e650d914989ad01d31f39172462",
            "value": "vocab.txt: 100%"
          }
        },
        "e1bb6e9c2cca4ab39e8ffb77e5acc70f": {
          "model_module": "@jupyter-widgets/controls",
          "model_name": "FloatProgressModel",
          "model_module_version": "1.5.0",
          "state": {
            "_dom_classes": [],
            "_model_module": "@jupyter-widgets/controls",
            "_model_module_version": "1.5.0",
            "_model_name": "FloatProgressModel",
            "_view_count": null,
            "_view_module": "@jupyter-widgets/controls",
            "_view_module_version": "1.5.0",
            "_view_name": "ProgressView",
            "bar_style": "success",
            "description": "",
            "description_tooltip": null,
            "layout": "IPY_MODEL_36aba1783a2040f9ae3ec5d7152a358c",
            "max": 231508,
            "min": 0,
            "orientation": "horizontal",
            "style": "IPY_MODEL_01e1c7003b0b46c5a266f655ec6a9484",
            "value": 231508
          }
        },
        "76f9886657814c289c600130a6483cc4": {
          "model_module": "@jupyter-widgets/controls",
          "model_name": "HTMLModel",
          "model_module_version": "1.5.0",
          "state": {
            "_dom_classes": [],
            "_model_module": "@jupyter-widgets/controls",
            "_model_module_version": "1.5.0",
            "_model_name": "HTMLModel",
            "_view_count": null,
            "_view_module": "@jupyter-widgets/controls",
            "_view_module_version": "1.5.0",
            "_view_name": "HTMLView",
            "description": "",
            "description_tooltip": null,
            "layout": "IPY_MODEL_40ac7dbb29a5453ab313a911414b882f",
            "placeholder": "​",
            "style": "IPY_MODEL_dc21302068ff42bc9870786dae232461",
            "value": " 232k/232k [00:00&lt;00:00, 4.43MB/s]"
          }
        },
        "78761af9de3a44708ea7bd267f26adb6": {
          "model_module": "@jupyter-widgets/base",
          "model_name": "LayoutModel",
          "model_module_version": "1.2.0",
          "state": {
            "_model_module": "@jupyter-widgets/base",
            "_model_module_version": "1.2.0",
            "_model_name": "LayoutModel",
            "_view_count": null,
            "_view_module": "@jupyter-widgets/base",
            "_view_module_version": "1.2.0",
            "_view_name": "LayoutView",
            "align_content": null,
            "align_items": null,
            "align_self": null,
            "border": null,
            "bottom": null,
            "display": null,
            "flex": null,
            "flex_flow": null,
            "grid_area": null,
            "grid_auto_columns": null,
            "grid_auto_flow": null,
            "grid_auto_rows": null,
            "grid_column": null,
            "grid_gap": null,
            "grid_row": null,
            "grid_template_areas": null,
            "grid_template_columns": null,
            "grid_template_rows": null,
            "height": null,
            "justify_content": null,
            "justify_items": null,
            "left": null,
            "margin": null,
            "max_height": null,
            "max_width": null,
            "min_height": null,
            "min_width": null,
            "object_fit": null,
            "object_position": null,
            "order": null,
            "overflow": null,
            "overflow_x": null,
            "overflow_y": null,
            "padding": null,
            "right": null,
            "top": null,
            "visibility": null,
            "width": null
          }
        },
        "7e439dc08a8c43fd87ebf01decb611c6": {
          "model_module": "@jupyter-widgets/base",
          "model_name": "LayoutModel",
          "model_module_version": "1.2.0",
          "state": {
            "_model_module": "@jupyter-widgets/base",
            "_model_module_version": "1.2.0",
            "_model_name": "LayoutModel",
            "_view_count": null,
            "_view_module": "@jupyter-widgets/base",
            "_view_module_version": "1.2.0",
            "_view_name": "LayoutView",
            "align_content": null,
            "align_items": null,
            "align_self": null,
            "border": null,
            "bottom": null,
            "display": null,
            "flex": null,
            "flex_flow": null,
            "grid_area": null,
            "grid_auto_columns": null,
            "grid_auto_flow": null,
            "grid_auto_rows": null,
            "grid_column": null,
            "grid_gap": null,
            "grid_row": null,
            "grid_template_areas": null,
            "grid_template_columns": null,
            "grid_template_rows": null,
            "height": null,
            "justify_content": null,
            "justify_items": null,
            "left": null,
            "margin": null,
            "max_height": null,
            "max_width": null,
            "min_height": null,
            "min_width": null,
            "object_fit": null,
            "object_position": null,
            "order": null,
            "overflow": null,
            "overflow_x": null,
            "overflow_y": null,
            "padding": null,
            "right": null,
            "top": null,
            "visibility": null,
            "width": null
          }
        },
        "27bc6e650d914989ad01d31f39172462": {
          "model_module": "@jupyter-widgets/controls",
          "model_name": "DescriptionStyleModel",
          "model_module_version": "1.5.0",
          "state": {
            "_model_module": "@jupyter-widgets/controls",
            "_model_module_version": "1.5.0",
            "_model_name": "DescriptionStyleModel",
            "_view_count": null,
            "_view_module": "@jupyter-widgets/base",
            "_view_module_version": "1.2.0",
            "_view_name": "StyleView",
            "description_width": ""
          }
        },
        "36aba1783a2040f9ae3ec5d7152a358c": {
          "model_module": "@jupyter-widgets/base",
          "model_name": "LayoutModel",
          "model_module_version": "1.2.0",
          "state": {
            "_model_module": "@jupyter-widgets/base",
            "_model_module_version": "1.2.0",
            "_model_name": "LayoutModel",
            "_view_count": null,
            "_view_module": "@jupyter-widgets/base",
            "_view_module_version": "1.2.0",
            "_view_name": "LayoutView",
            "align_content": null,
            "align_items": null,
            "align_self": null,
            "border": null,
            "bottom": null,
            "display": null,
            "flex": null,
            "flex_flow": null,
            "grid_area": null,
            "grid_auto_columns": null,
            "grid_auto_flow": null,
            "grid_auto_rows": null,
            "grid_column": null,
            "grid_gap": null,
            "grid_row": null,
            "grid_template_areas": null,
            "grid_template_columns": null,
            "grid_template_rows": null,
            "height": null,
            "justify_content": null,
            "justify_items": null,
            "left": null,
            "margin": null,
            "max_height": null,
            "max_width": null,
            "min_height": null,
            "min_width": null,
            "object_fit": null,
            "object_position": null,
            "order": null,
            "overflow": null,
            "overflow_x": null,
            "overflow_y": null,
            "padding": null,
            "right": null,
            "top": null,
            "visibility": null,
            "width": null
          }
        },
        "01e1c7003b0b46c5a266f655ec6a9484": {
          "model_module": "@jupyter-widgets/controls",
          "model_name": "ProgressStyleModel",
          "model_module_version": "1.5.0",
          "state": {
            "_model_module": "@jupyter-widgets/controls",
            "_model_module_version": "1.5.0",
            "_model_name": "ProgressStyleModel",
            "_view_count": null,
            "_view_module": "@jupyter-widgets/base",
            "_view_module_version": "1.2.0",
            "_view_name": "StyleView",
            "bar_color": null,
            "description_width": ""
          }
        },
        "40ac7dbb29a5453ab313a911414b882f": {
          "model_module": "@jupyter-widgets/base",
          "model_name": "LayoutModel",
          "model_module_version": "1.2.0",
          "state": {
            "_model_module": "@jupyter-widgets/base",
            "_model_module_version": "1.2.0",
            "_model_name": "LayoutModel",
            "_view_count": null,
            "_view_module": "@jupyter-widgets/base",
            "_view_module_version": "1.2.0",
            "_view_name": "LayoutView",
            "align_content": null,
            "align_items": null,
            "align_self": null,
            "border": null,
            "bottom": null,
            "display": null,
            "flex": null,
            "flex_flow": null,
            "grid_area": null,
            "grid_auto_columns": null,
            "grid_auto_flow": null,
            "grid_auto_rows": null,
            "grid_column": null,
            "grid_gap": null,
            "grid_row": null,
            "grid_template_areas": null,
            "grid_template_columns": null,
            "grid_template_rows": null,
            "height": null,
            "justify_content": null,
            "justify_items": null,
            "left": null,
            "margin": null,
            "max_height": null,
            "max_width": null,
            "min_height": null,
            "min_width": null,
            "object_fit": null,
            "object_position": null,
            "order": null,
            "overflow": null,
            "overflow_x": null,
            "overflow_y": null,
            "padding": null,
            "right": null,
            "top": null,
            "visibility": null,
            "width": null
          }
        },
        "dc21302068ff42bc9870786dae232461": {
          "model_module": "@jupyter-widgets/controls",
          "model_name": "DescriptionStyleModel",
          "model_module_version": "1.5.0",
          "state": {
            "_model_module": "@jupyter-widgets/controls",
            "_model_module_version": "1.5.0",
            "_model_name": "DescriptionStyleModel",
            "_view_count": null,
            "_view_module": "@jupyter-widgets/base",
            "_view_module_version": "1.2.0",
            "_view_name": "StyleView",
            "description_width": ""
          }
        },
        "a922ca64319b4b77a665c6cab3f76201": {
          "model_module": "@jupyter-widgets/controls",
          "model_name": "HBoxModel",
          "model_module_version": "1.5.0",
          "state": {
            "_dom_classes": [],
            "_model_module": "@jupyter-widgets/controls",
            "_model_module_version": "1.5.0",
            "_model_name": "HBoxModel",
            "_view_count": null,
            "_view_module": "@jupyter-widgets/controls",
            "_view_module_version": "1.5.0",
            "_view_name": "HBoxView",
            "box_style": "",
            "children": [
              "IPY_MODEL_bd2e11988c7e4dc28b1c5f08ec52d37c",
              "IPY_MODEL_803ee922c8754bf993a8ae41a2a2807d",
              "IPY_MODEL_d8d615f5679c45d7aafd66ae7e151063"
            ],
            "layout": "IPY_MODEL_40de957b423c494fb3f8cbc12f584484"
          }
        },
        "bd2e11988c7e4dc28b1c5f08ec52d37c": {
          "model_module": "@jupyter-widgets/controls",
          "model_name": "HTMLModel",
          "model_module_version": "1.5.0",
          "state": {
            "_dom_classes": [],
            "_model_module": "@jupyter-widgets/controls",
            "_model_module_version": "1.5.0",
            "_model_name": "HTMLModel",
            "_view_count": null,
            "_view_module": "@jupyter-widgets/controls",
            "_view_module_version": "1.5.0",
            "_view_name": "HTMLView",
            "description": "",
            "description_tooltip": null,
            "layout": "IPY_MODEL_6bb6d6c406344a79984a438a38ca846b",
            "placeholder": "​",
            "style": "IPY_MODEL_a687aab615b84512b3ef03ab2460b306",
            "value": "tokenizer.json: 100%"
          }
        },
        "803ee922c8754bf993a8ae41a2a2807d": {
          "model_module": "@jupyter-widgets/controls",
          "model_name": "FloatProgressModel",
          "model_module_version": "1.5.0",
          "state": {
            "_dom_classes": [],
            "_model_module": "@jupyter-widgets/controls",
            "_model_module_version": "1.5.0",
            "_model_name": "FloatProgressModel",
            "_view_count": null,
            "_view_module": "@jupyter-widgets/controls",
            "_view_module_version": "1.5.0",
            "_view_name": "ProgressView",
            "bar_style": "success",
            "description": "",
            "description_tooltip": null,
            "layout": "IPY_MODEL_6770c3ffabd14f5681edca6c873521cf",
            "max": 466062,
            "min": 0,
            "orientation": "horizontal",
            "style": "IPY_MODEL_073f4c94c6214b93828fbb18efc8b36b",
            "value": 466062
          }
        },
        "d8d615f5679c45d7aafd66ae7e151063": {
          "model_module": "@jupyter-widgets/controls",
          "model_name": "HTMLModel",
          "model_module_version": "1.5.0",
          "state": {
            "_dom_classes": [],
            "_model_module": "@jupyter-widgets/controls",
            "_model_module_version": "1.5.0",
            "_model_name": "HTMLModel",
            "_view_count": null,
            "_view_module": "@jupyter-widgets/controls",
            "_view_module_version": "1.5.0",
            "_view_name": "HTMLView",
            "description": "",
            "description_tooltip": null,
            "layout": "IPY_MODEL_c310308cd2e143b3ae4772b2e3d55a65",
            "placeholder": "​",
            "style": "IPY_MODEL_d973b5968e9945dea94a7c9b2aa3a471",
            "value": " 466k/466k [00:00&lt;00:00, 22.6MB/s]"
          }
        },
        "40de957b423c494fb3f8cbc12f584484": {
          "model_module": "@jupyter-widgets/base",
          "model_name": "LayoutModel",
          "model_module_version": "1.2.0",
          "state": {
            "_model_module": "@jupyter-widgets/base",
            "_model_module_version": "1.2.0",
            "_model_name": "LayoutModel",
            "_view_count": null,
            "_view_module": "@jupyter-widgets/base",
            "_view_module_version": "1.2.0",
            "_view_name": "LayoutView",
            "align_content": null,
            "align_items": null,
            "align_self": null,
            "border": null,
            "bottom": null,
            "display": null,
            "flex": null,
            "flex_flow": null,
            "grid_area": null,
            "grid_auto_columns": null,
            "grid_auto_flow": null,
            "grid_auto_rows": null,
            "grid_column": null,
            "grid_gap": null,
            "grid_row": null,
            "grid_template_areas": null,
            "grid_template_columns": null,
            "grid_template_rows": null,
            "height": null,
            "justify_content": null,
            "justify_items": null,
            "left": null,
            "margin": null,
            "max_height": null,
            "max_width": null,
            "min_height": null,
            "min_width": null,
            "object_fit": null,
            "object_position": null,
            "order": null,
            "overflow": null,
            "overflow_x": null,
            "overflow_y": null,
            "padding": null,
            "right": null,
            "top": null,
            "visibility": null,
            "width": null
          }
        },
        "6bb6d6c406344a79984a438a38ca846b": {
          "model_module": "@jupyter-widgets/base",
          "model_name": "LayoutModel",
          "model_module_version": "1.2.0",
          "state": {
            "_model_module": "@jupyter-widgets/base",
            "_model_module_version": "1.2.0",
            "_model_name": "LayoutModel",
            "_view_count": null,
            "_view_module": "@jupyter-widgets/base",
            "_view_module_version": "1.2.0",
            "_view_name": "LayoutView",
            "align_content": null,
            "align_items": null,
            "align_self": null,
            "border": null,
            "bottom": null,
            "display": null,
            "flex": null,
            "flex_flow": null,
            "grid_area": null,
            "grid_auto_columns": null,
            "grid_auto_flow": null,
            "grid_auto_rows": null,
            "grid_column": null,
            "grid_gap": null,
            "grid_row": null,
            "grid_template_areas": null,
            "grid_template_columns": null,
            "grid_template_rows": null,
            "height": null,
            "justify_content": null,
            "justify_items": null,
            "left": null,
            "margin": null,
            "max_height": null,
            "max_width": null,
            "min_height": null,
            "min_width": null,
            "object_fit": null,
            "object_position": null,
            "order": null,
            "overflow": null,
            "overflow_x": null,
            "overflow_y": null,
            "padding": null,
            "right": null,
            "top": null,
            "visibility": null,
            "width": null
          }
        },
        "a687aab615b84512b3ef03ab2460b306": {
          "model_module": "@jupyter-widgets/controls",
          "model_name": "DescriptionStyleModel",
          "model_module_version": "1.5.0",
          "state": {
            "_model_module": "@jupyter-widgets/controls",
            "_model_module_version": "1.5.0",
            "_model_name": "DescriptionStyleModel",
            "_view_count": null,
            "_view_module": "@jupyter-widgets/base",
            "_view_module_version": "1.2.0",
            "_view_name": "StyleView",
            "description_width": ""
          }
        },
        "6770c3ffabd14f5681edca6c873521cf": {
          "model_module": "@jupyter-widgets/base",
          "model_name": "LayoutModel",
          "model_module_version": "1.2.0",
          "state": {
            "_model_module": "@jupyter-widgets/base",
            "_model_module_version": "1.2.0",
            "_model_name": "LayoutModel",
            "_view_count": null,
            "_view_module": "@jupyter-widgets/base",
            "_view_module_version": "1.2.0",
            "_view_name": "LayoutView",
            "align_content": null,
            "align_items": null,
            "align_self": null,
            "border": null,
            "bottom": null,
            "display": null,
            "flex": null,
            "flex_flow": null,
            "grid_area": null,
            "grid_auto_columns": null,
            "grid_auto_flow": null,
            "grid_auto_rows": null,
            "grid_column": null,
            "grid_gap": null,
            "grid_row": null,
            "grid_template_areas": null,
            "grid_template_columns": null,
            "grid_template_rows": null,
            "height": null,
            "justify_content": null,
            "justify_items": null,
            "left": null,
            "margin": null,
            "max_height": null,
            "max_width": null,
            "min_height": null,
            "min_width": null,
            "object_fit": null,
            "object_position": null,
            "order": null,
            "overflow": null,
            "overflow_x": null,
            "overflow_y": null,
            "padding": null,
            "right": null,
            "top": null,
            "visibility": null,
            "width": null
          }
        },
        "073f4c94c6214b93828fbb18efc8b36b": {
          "model_module": "@jupyter-widgets/controls",
          "model_name": "ProgressStyleModel",
          "model_module_version": "1.5.0",
          "state": {
            "_model_module": "@jupyter-widgets/controls",
            "_model_module_version": "1.5.0",
            "_model_name": "ProgressStyleModel",
            "_view_count": null,
            "_view_module": "@jupyter-widgets/base",
            "_view_module_version": "1.2.0",
            "_view_name": "StyleView",
            "bar_color": null,
            "description_width": ""
          }
        },
        "c310308cd2e143b3ae4772b2e3d55a65": {
          "model_module": "@jupyter-widgets/base",
          "model_name": "LayoutModel",
          "model_module_version": "1.2.0",
          "state": {
            "_model_module": "@jupyter-widgets/base",
            "_model_module_version": "1.2.0",
            "_model_name": "LayoutModel",
            "_view_count": null,
            "_view_module": "@jupyter-widgets/base",
            "_view_module_version": "1.2.0",
            "_view_name": "LayoutView",
            "align_content": null,
            "align_items": null,
            "align_self": null,
            "border": null,
            "bottom": null,
            "display": null,
            "flex": null,
            "flex_flow": null,
            "grid_area": null,
            "grid_auto_columns": null,
            "grid_auto_flow": null,
            "grid_auto_rows": null,
            "grid_column": null,
            "grid_gap": null,
            "grid_row": null,
            "grid_template_areas": null,
            "grid_template_columns": null,
            "grid_template_rows": null,
            "height": null,
            "justify_content": null,
            "justify_items": null,
            "left": null,
            "margin": null,
            "max_height": null,
            "max_width": null,
            "min_height": null,
            "min_width": null,
            "object_fit": null,
            "object_position": null,
            "order": null,
            "overflow": null,
            "overflow_x": null,
            "overflow_y": null,
            "padding": null,
            "right": null,
            "top": null,
            "visibility": null,
            "width": null
          }
        },
        "d973b5968e9945dea94a7c9b2aa3a471": {
          "model_module": "@jupyter-widgets/controls",
          "model_name": "DescriptionStyleModel",
          "model_module_version": "1.5.0",
          "state": {
            "_model_module": "@jupyter-widgets/controls",
            "_model_module_version": "1.5.0",
            "_model_name": "DescriptionStyleModel",
            "_view_count": null,
            "_view_module": "@jupyter-widgets/base",
            "_view_module_version": "1.2.0",
            "_view_name": "StyleView",
            "description_width": ""
          }
        },
        "b05ef5bbea874ca8bb43f842d453b45f": {
          "model_module": "@jupyter-widgets/controls",
          "model_name": "HBoxModel",
          "model_module_version": "1.5.0",
          "state": {
            "_dom_classes": [],
            "_model_module": "@jupyter-widgets/controls",
            "_model_module_version": "1.5.0",
            "_model_name": "HBoxModel",
            "_view_count": null,
            "_view_module": "@jupyter-widgets/controls",
            "_view_module_version": "1.5.0",
            "_view_name": "HBoxView",
            "box_style": "",
            "children": [
              "IPY_MODEL_5539dd2b49234ece9ab6ae3ade59e51b",
              "IPY_MODEL_125f538b802e482a8b12c19eb3ba8904",
              "IPY_MODEL_3993dd50622a47a8ae7cd62ddd3b7777"
            ],
            "layout": "IPY_MODEL_ae912e05065841f0af0ccec03aab4e60"
          }
        },
        "5539dd2b49234ece9ab6ae3ade59e51b": {
          "model_module": "@jupyter-widgets/controls",
          "model_name": "HTMLModel",
          "model_module_version": "1.5.0",
          "state": {
            "_dom_classes": [],
            "_model_module": "@jupyter-widgets/controls",
            "_model_module_version": "1.5.0",
            "_model_name": "HTMLModel",
            "_view_count": null,
            "_view_module": "@jupyter-widgets/controls",
            "_view_module_version": "1.5.0",
            "_view_name": "HTMLView",
            "description": "",
            "description_tooltip": null,
            "layout": "IPY_MODEL_2f788833503240a2897b28c35933e236",
            "placeholder": "​",
            "style": "IPY_MODEL_510fc9c3e1804a83b65e12e629ddd6b7",
            "value": "config.json: 100%"
          }
        },
        "125f538b802e482a8b12c19eb3ba8904": {
          "model_module": "@jupyter-widgets/controls",
          "model_name": "FloatProgressModel",
          "model_module_version": "1.5.0",
          "state": {
            "_dom_classes": [],
            "_model_module": "@jupyter-widgets/controls",
            "_model_module_version": "1.5.0",
            "_model_name": "FloatProgressModel",
            "_view_count": null,
            "_view_module": "@jupyter-widgets/controls",
            "_view_module_version": "1.5.0",
            "_view_name": "ProgressView",
            "bar_style": "success",
            "description": "",
            "description_tooltip": null,
            "layout": "IPY_MODEL_7d19f5e60d5b4757983aaf5c56e2926e",
            "max": 570,
            "min": 0,
            "orientation": "horizontal",
            "style": "IPY_MODEL_4c19c407caae4155b148c61de161765f",
            "value": 570
          }
        },
        "3993dd50622a47a8ae7cd62ddd3b7777": {
          "model_module": "@jupyter-widgets/controls",
          "model_name": "HTMLModel",
          "model_module_version": "1.5.0",
          "state": {
            "_dom_classes": [],
            "_model_module": "@jupyter-widgets/controls",
            "_model_module_version": "1.5.0",
            "_model_name": "HTMLModel",
            "_view_count": null,
            "_view_module": "@jupyter-widgets/controls",
            "_view_module_version": "1.5.0",
            "_view_name": "HTMLView",
            "description": "",
            "description_tooltip": null,
            "layout": "IPY_MODEL_1800647c94784e8fae672fb31a676730",
            "placeholder": "​",
            "style": "IPY_MODEL_ee2c0477731b49fdbdea29ffc9444657",
            "value": " 570/570 [00:00&lt;00:00, 33.8kB/s]"
          }
        },
        "ae912e05065841f0af0ccec03aab4e60": {
          "model_module": "@jupyter-widgets/base",
          "model_name": "LayoutModel",
          "model_module_version": "1.2.0",
          "state": {
            "_model_module": "@jupyter-widgets/base",
            "_model_module_version": "1.2.0",
            "_model_name": "LayoutModel",
            "_view_count": null,
            "_view_module": "@jupyter-widgets/base",
            "_view_module_version": "1.2.0",
            "_view_name": "LayoutView",
            "align_content": null,
            "align_items": null,
            "align_self": null,
            "border": null,
            "bottom": null,
            "display": null,
            "flex": null,
            "flex_flow": null,
            "grid_area": null,
            "grid_auto_columns": null,
            "grid_auto_flow": null,
            "grid_auto_rows": null,
            "grid_column": null,
            "grid_gap": null,
            "grid_row": null,
            "grid_template_areas": null,
            "grid_template_columns": null,
            "grid_template_rows": null,
            "height": null,
            "justify_content": null,
            "justify_items": null,
            "left": null,
            "margin": null,
            "max_height": null,
            "max_width": null,
            "min_height": null,
            "min_width": null,
            "object_fit": null,
            "object_position": null,
            "order": null,
            "overflow": null,
            "overflow_x": null,
            "overflow_y": null,
            "padding": null,
            "right": null,
            "top": null,
            "visibility": null,
            "width": null
          }
        },
        "2f788833503240a2897b28c35933e236": {
          "model_module": "@jupyter-widgets/base",
          "model_name": "LayoutModel",
          "model_module_version": "1.2.0",
          "state": {
            "_model_module": "@jupyter-widgets/base",
            "_model_module_version": "1.2.0",
            "_model_name": "LayoutModel",
            "_view_count": null,
            "_view_module": "@jupyter-widgets/base",
            "_view_module_version": "1.2.0",
            "_view_name": "LayoutView",
            "align_content": null,
            "align_items": null,
            "align_self": null,
            "border": null,
            "bottom": null,
            "display": null,
            "flex": null,
            "flex_flow": null,
            "grid_area": null,
            "grid_auto_columns": null,
            "grid_auto_flow": null,
            "grid_auto_rows": null,
            "grid_column": null,
            "grid_gap": null,
            "grid_row": null,
            "grid_template_areas": null,
            "grid_template_columns": null,
            "grid_template_rows": null,
            "height": null,
            "justify_content": null,
            "justify_items": null,
            "left": null,
            "margin": null,
            "max_height": null,
            "max_width": null,
            "min_height": null,
            "min_width": null,
            "object_fit": null,
            "object_position": null,
            "order": null,
            "overflow": null,
            "overflow_x": null,
            "overflow_y": null,
            "padding": null,
            "right": null,
            "top": null,
            "visibility": null,
            "width": null
          }
        },
        "510fc9c3e1804a83b65e12e629ddd6b7": {
          "model_module": "@jupyter-widgets/controls",
          "model_name": "DescriptionStyleModel",
          "model_module_version": "1.5.0",
          "state": {
            "_model_module": "@jupyter-widgets/controls",
            "_model_module_version": "1.5.0",
            "_model_name": "DescriptionStyleModel",
            "_view_count": null,
            "_view_module": "@jupyter-widgets/base",
            "_view_module_version": "1.2.0",
            "_view_name": "StyleView",
            "description_width": ""
          }
        },
        "7d19f5e60d5b4757983aaf5c56e2926e": {
          "model_module": "@jupyter-widgets/base",
          "model_name": "LayoutModel",
          "model_module_version": "1.2.0",
          "state": {
            "_model_module": "@jupyter-widgets/base",
            "_model_module_version": "1.2.0",
            "_model_name": "LayoutModel",
            "_view_count": null,
            "_view_module": "@jupyter-widgets/base",
            "_view_module_version": "1.2.0",
            "_view_name": "LayoutView",
            "align_content": null,
            "align_items": null,
            "align_self": null,
            "border": null,
            "bottom": null,
            "display": null,
            "flex": null,
            "flex_flow": null,
            "grid_area": null,
            "grid_auto_columns": null,
            "grid_auto_flow": null,
            "grid_auto_rows": null,
            "grid_column": null,
            "grid_gap": null,
            "grid_row": null,
            "grid_template_areas": null,
            "grid_template_columns": null,
            "grid_template_rows": null,
            "height": null,
            "justify_content": null,
            "justify_items": null,
            "left": null,
            "margin": null,
            "max_height": null,
            "max_width": null,
            "min_height": null,
            "min_width": null,
            "object_fit": null,
            "object_position": null,
            "order": null,
            "overflow": null,
            "overflow_x": null,
            "overflow_y": null,
            "padding": null,
            "right": null,
            "top": null,
            "visibility": null,
            "width": null
          }
        },
        "4c19c407caae4155b148c61de161765f": {
          "model_module": "@jupyter-widgets/controls",
          "model_name": "ProgressStyleModel",
          "model_module_version": "1.5.0",
          "state": {
            "_model_module": "@jupyter-widgets/controls",
            "_model_module_version": "1.5.0",
            "_model_name": "ProgressStyleModel",
            "_view_count": null,
            "_view_module": "@jupyter-widgets/base",
            "_view_module_version": "1.2.0",
            "_view_name": "StyleView",
            "bar_color": null,
            "description_width": ""
          }
        },
        "1800647c94784e8fae672fb31a676730": {
          "model_module": "@jupyter-widgets/base",
          "model_name": "LayoutModel",
          "model_module_version": "1.2.0",
          "state": {
            "_model_module": "@jupyter-widgets/base",
            "_model_module_version": "1.2.0",
            "_model_name": "LayoutModel",
            "_view_count": null,
            "_view_module": "@jupyter-widgets/base",
            "_view_module_version": "1.2.0",
            "_view_name": "LayoutView",
            "align_content": null,
            "align_items": null,
            "align_self": null,
            "border": null,
            "bottom": null,
            "display": null,
            "flex": null,
            "flex_flow": null,
            "grid_area": null,
            "grid_auto_columns": null,
            "grid_auto_flow": null,
            "grid_auto_rows": null,
            "grid_column": null,
            "grid_gap": null,
            "grid_row": null,
            "grid_template_areas": null,
            "grid_template_columns": null,
            "grid_template_rows": null,
            "height": null,
            "justify_content": null,
            "justify_items": null,
            "left": null,
            "margin": null,
            "max_height": null,
            "max_width": null,
            "min_height": null,
            "min_width": null,
            "object_fit": null,
            "object_position": null,
            "order": null,
            "overflow": null,
            "overflow_x": null,
            "overflow_y": null,
            "padding": null,
            "right": null,
            "top": null,
            "visibility": null,
            "width": null
          }
        },
        "ee2c0477731b49fdbdea29ffc9444657": {
          "model_module": "@jupyter-widgets/controls",
          "model_name": "DescriptionStyleModel",
          "model_module_version": "1.5.0",
          "state": {
            "_model_module": "@jupyter-widgets/controls",
            "_model_module_version": "1.5.0",
            "_model_name": "DescriptionStyleModel",
            "_view_count": null,
            "_view_module": "@jupyter-widgets/base",
            "_view_module_version": "1.2.0",
            "_view_name": "StyleView",
            "description_width": ""
          }
        },
        "fe716d9829df4bb4ae516ee2bdc82fd0": {
          "model_module": "@jupyter-widgets/controls",
          "model_name": "HBoxModel",
          "model_module_version": "1.5.0",
          "state": {
            "_dom_classes": [],
            "_model_module": "@jupyter-widgets/controls",
            "_model_module_version": "1.5.0",
            "_model_name": "HBoxModel",
            "_view_count": null,
            "_view_module": "@jupyter-widgets/controls",
            "_view_module_version": "1.5.0",
            "_view_name": "HBoxView",
            "box_style": "",
            "children": [
              "IPY_MODEL_a9ff90a9938f43999fe9ebb75fd10fed",
              "IPY_MODEL_2d231ffa57754ee89b2eb9edded46d81",
              "IPY_MODEL_6fd13db7f13b4dc98c5d1f2d7b85feff"
            ],
            "layout": "IPY_MODEL_3afb9f32469d439298c88b005ad9b16e"
          }
        },
        "a9ff90a9938f43999fe9ebb75fd10fed": {
          "model_module": "@jupyter-widgets/controls",
          "model_name": "HTMLModel",
          "model_module_version": "1.5.0",
          "state": {
            "_dom_classes": [],
            "_model_module": "@jupyter-widgets/controls",
            "_model_module_version": "1.5.0",
            "_model_name": "HTMLModel",
            "_view_count": null,
            "_view_module": "@jupyter-widgets/controls",
            "_view_module_version": "1.5.0",
            "_view_name": "HTMLView",
            "description": "",
            "description_tooltip": null,
            "layout": "IPY_MODEL_a2afa2ea62ed4adcb50e9142a4376650",
            "placeholder": "​",
            "style": "IPY_MODEL_30fe5b932ec849cdb11012a0aa2488ce",
            "value": "model.safetensors: 100%"
          }
        },
        "2d231ffa57754ee89b2eb9edded46d81": {
          "model_module": "@jupyter-widgets/controls",
          "model_name": "FloatProgressModel",
          "model_module_version": "1.5.0",
          "state": {
            "_dom_classes": [],
            "_model_module": "@jupyter-widgets/controls",
            "_model_module_version": "1.5.0",
            "_model_name": "FloatProgressModel",
            "_view_count": null,
            "_view_module": "@jupyter-widgets/controls",
            "_view_module_version": "1.5.0",
            "_view_name": "ProgressView",
            "bar_style": "success",
            "description": "",
            "description_tooltip": null,
            "layout": "IPY_MODEL_f5bdaaf9f34d4f1391e3990b54e4c521",
            "max": 440449768,
            "min": 0,
            "orientation": "horizontal",
            "style": "IPY_MODEL_ef8c6716fff14581910e0dfb207519b7",
            "value": 440449768
          }
        },
        "6fd13db7f13b4dc98c5d1f2d7b85feff": {
          "model_module": "@jupyter-widgets/controls",
          "model_name": "HTMLModel",
          "model_module_version": "1.5.0",
          "state": {
            "_dom_classes": [],
            "_model_module": "@jupyter-widgets/controls",
            "_model_module_version": "1.5.0",
            "_model_name": "HTMLModel",
            "_view_count": null,
            "_view_module": "@jupyter-widgets/controls",
            "_view_module_version": "1.5.0",
            "_view_name": "HTMLView",
            "description": "",
            "description_tooltip": null,
            "layout": "IPY_MODEL_68e85b08ce3548528657b3f682ca8732",
            "placeholder": "​",
            "style": "IPY_MODEL_fe40664ac8dc4aa98e60102da164460b",
            "value": " 440M/440M [00:02&lt;00:00, 200MB/s]"
          }
        },
        "3afb9f32469d439298c88b005ad9b16e": {
          "model_module": "@jupyter-widgets/base",
          "model_name": "LayoutModel",
          "model_module_version": "1.2.0",
          "state": {
            "_model_module": "@jupyter-widgets/base",
            "_model_module_version": "1.2.0",
            "_model_name": "LayoutModel",
            "_view_count": null,
            "_view_module": "@jupyter-widgets/base",
            "_view_module_version": "1.2.0",
            "_view_name": "LayoutView",
            "align_content": null,
            "align_items": null,
            "align_self": null,
            "border": null,
            "bottom": null,
            "display": null,
            "flex": null,
            "flex_flow": null,
            "grid_area": null,
            "grid_auto_columns": null,
            "grid_auto_flow": null,
            "grid_auto_rows": null,
            "grid_column": null,
            "grid_gap": null,
            "grid_row": null,
            "grid_template_areas": null,
            "grid_template_columns": null,
            "grid_template_rows": null,
            "height": null,
            "justify_content": null,
            "justify_items": null,
            "left": null,
            "margin": null,
            "max_height": null,
            "max_width": null,
            "min_height": null,
            "min_width": null,
            "object_fit": null,
            "object_position": null,
            "order": null,
            "overflow": null,
            "overflow_x": null,
            "overflow_y": null,
            "padding": null,
            "right": null,
            "top": null,
            "visibility": null,
            "width": null
          }
        },
        "a2afa2ea62ed4adcb50e9142a4376650": {
          "model_module": "@jupyter-widgets/base",
          "model_name": "LayoutModel",
          "model_module_version": "1.2.0",
          "state": {
            "_model_module": "@jupyter-widgets/base",
            "_model_module_version": "1.2.0",
            "_model_name": "LayoutModel",
            "_view_count": null,
            "_view_module": "@jupyter-widgets/base",
            "_view_module_version": "1.2.0",
            "_view_name": "LayoutView",
            "align_content": null,
            "align_items": null,
            "align_self": null,
            "border": null,
            "bottom": null,
            "display": null,
            "flex": null,
            "flex_flow": null,
            "grid_area": null,
            "grid_auto_columns": null,
            "grid_auto_flow": null,
            "grid_auto_rows": null,
            "grid_column": null,
            "grid_gap": null,
            "grid_row": null,
            "grid_template_areas": null,
            "grid_template_columns": null,
            "grid_template_rows": null,
            "height": null,
            "justify_content": null,
            "justify_items": null,
            "left": null,
            "margin": null,
            "max_height": null,
            "max_width": null,
            "min_height": null,
            "min_width": null,
            "object_fit": null,
            "object_position": null,
            "order": null,
            "overflow": null,
            "overflow_x": null,
            "overflow_y": null,
            "padding": null,
            "right": null,
            "top": null,
            "visibility": null,
            "width": null
          }
        },
        "30fe5b932ec849cdb11012a0aa2488ce": {
          "model_module": "@jupyter-widgets/controls",
          "model_name": "DescriptionStyleModel",
          "model_module_version": "1.5.0",
          "state": {
            "_model_module": "@jupyter-widgets/controls",
            "_model_module_version": "1.5.0",
            "_model_name": "DescriptionStyleModel",
            "_view_count": null,
            "_view_module": "@jupyter-widgets/base",
            "_view_module_version": "1.2.0",
            "_view_name": "StyleView",
            "description_width": ""
          }
        },
        "f5bdaaf9f34d4f1391e3990b54e4c521": {
          "model_module": "@jupyter-widgets/base",
          "model_name": "LayoutModel",
          "model_module_version": "1.2.0",
          "state": {
            "_model_module": "@jupyter-widgets/base",
            "_model_module_version": "1.2.0",
            "_model_name": "LayoutModel",
            "_view_count": null,
            "_view_module": "@jupyter-widgets/base",
            "_view_module_version": "1.2.0",
            "_view_name": "LayoutView",
            "align_content": null,
            "align_items": null,
            "align_self": null,
            "border": null,
            "bottom": null,
            "display": null,
            "flex": null,
            "flex_flow": null,
            "grid_area": null,
            "grid_auto_columns": null,
            "grid_auto_flow": null,
            "grid_auto_rows": null,
            "grid_column": null,
            "grid_gap": null,
            "grid_row": null,
            "grid_template_areas": null,
            "grid_template_columns": null,
            "grid_template_rows": null,
            "height": null,
            "justify_content": null,
            "justify_items": null,
            "left": null,
            "margin": null,
            "max_height": null,
            "max_width": null,
            "min_height": null,
            "min_width": null,
            "object_fit": null,
            "object_position": null,
            "order": null,
            "overflow": null,
            "overflow_x": null,
            "overflow_y": null,
            "padding": null,
            "right": null,
            "top": null,
            "visibility": null,
            "width": null
          }
        },
        "ef8c6716fff14581910e0dfb207519b7": {
          "model_module": "@jupyter-widgets/controls",
          "model_name": "ProgressStyleModel",
          "model_module_version": "1.5.0",
          "state": {
            "_model_module": "@jupyter-widgets/controls",
            "_model_module_version": "1.5.0",
            "_model_name": "ProgressStyleModel",
            "_view_count": null,
            "_view_module": "@jupyter-widgets/base",
            "_view_module_version": "1.2.0",
            "_view_name": "StyleView",
            "bar_color": null,
            "description_width": ""
          }
        },
        "68e85b08ce3548528657b3f682ca8732": {
          "model_module": "@jupyter-widgets/base",
          "model_name": "LayoutModel",
          "model_module_version": "1.2.0",
          "state": {
            "_model_module": "@jupyter-widgets/base",
            "_model_module_version": "1.2.0",
            "_model_name": "LayoutModel",
            "_view_count": null,
            "_view_module": "@jupyter-widgets/base",
            "_view_module_version": "1.2.0",
            "_view_name": "LayoutView",
            "align_content": null,
            "align_items": null,
            "align_self": null,
            "border": null,
            "bottom": null,
            "display": null,
            "flex": null,
            "flex_flow": null,
            "grid_area": null,
            "grid_auto_columns": null,
            "grid_auto_flow": null,
            "grid_auto_rows": null,
            "grid_column": null,
            "grid_gap": null,
            "grid_row": null,
            "grid_template_areas": null,
            "grid_template_columns": null,
            "grid_template_rows": null,
            "height": null,
            "justify_content": null,
            "justify_items": null,
            "left": null,
            "margin": null,
            "max_height": null,
            "max_width": null,
            "min_height": null,
            "min_width": null,
            "object_fit": null,
            "object_position": null,
            "order": null,
            "overflow": null,
            "overflow_x": null,
            "overflow_y": null,
            "padding": null,
            "right": null,
            "top": null,
            "visibility": null,
            "width": null
          }
        },
        "fe40664ac8dc4aa98e60102da164460b": {
          "model_module": "@jupyter-widgets/controls",
          "model_name": "DescriptionStyleModel",
          "model_module_version": "1.5.0",
          "state": {
            "_model_module": "@jupyter-widgets/controls",
            "_model_module_version": "1.5.0",
            "_model_name": "DescriptionStyleModel",
            "_view_count": null,
            "_view_module": "@jupyter-widgets/base",
            "_view_module_version": "1.2.0",
            "_view_name": "StyleView",
            "description_width": ""
          }
        }
      }
    }
  },
  "nbformat": 4,
  "nbformat_minor": 0
}